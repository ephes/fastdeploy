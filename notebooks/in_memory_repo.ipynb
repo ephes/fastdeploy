{
 "cells": [
  {
   "cell_type": "code",
   "execution_count": 2,
   "id": "1f35e142-cc7b-4428-8533-01b96014361d",
   "metadata": {},
   "outputs": [],
   "source": [
    "from deploy.adapters import repository\n",
    "from deploy.domain.model import Service"
   ]
  },
  {
   "cell_type": "code",
   "execution_count": 3,
   "id": "b97fd0a0-be9d-454c-9028-f6693831c20c",
   "metadata": {},
   "outputs": [],
   "source": [
    "repo = repository.InMemoryServiceRepository()"
   ]
  },
  {
   "cell_type": "code",
   "execution_count": 4,
   "id": "6f3c1ee9-f1f7-4a5c-bc14-b1fd24980e4d",
   "metadata": {},
   "outputs": [],
   "source": [
    "service = Service(name=\"foo\", data={\"foo\": \"bar\"})"
   ]
  },
  {
   "cell_type": "code",
   "execution_count": 6,
   "id": "247352f3-1c48-47ba-bf6f-267600314d43",
   "metadata": {},
   "outputs": [],
   "source": [
    "repo.add(service)"
   ]
  },
  {
   "cell_type": "code",
   "execution_count": 7,
   "id": "eac05909-b79c-4fa8-8579-58e8f7df4c24",
   "metadata": {},
   "outputs": [
    {
     "data": {
      "text/plain": [
       "(<deploy.domain.model.Service at 0x108fd8820>,)"
      ]
     },
     "execution_count": 7,
     "metadata": {},
     "output_type": "execute_result"
    }
   ],
   "source": [
    "repo.get(\"foo\")"
   ]
  },
  {
   "cell_type": "code",
   "execution_count": 8,
   "id": "88d89fae-8f69-44e7-a194-b3ec83972c6b",
   "metadata": {},
   "outputs": [
    {
     "ename": "StopIteration",
     "evalue": "",
     "output_type": "error",
     "traceback": [
      "\u001b[0;31m---------------------------------------------------------------------------\u001b[0m",
      "\u001b[0;31mStopIteration\u001b[0m                             Traceback (most recent call last)",
      "Input \u001b[0;32mIn [8]\u001b[0m, in \u001b[0;36m<module>\u001b[0;34m\u001b[0m\n\u001b[0;32m----> 1\u001b[0m \u001b[43mrepo\u001b[49m\u001b[38;5;241;43m.\u001b[39;49m\u001b[43mget\u001b[49m\u001b[43m(\u001b[49m\u001b[38;5;124;43m\"\u001b[39;49m\u001b[38;5;124;43masdf\u001b[39;49m\u001b[38;5;124;43m\"\u001b[39;49m\u001b[43m)\u001b[49m\n",
      "File \u001b[0;32m~/projects/fastdeploy/deploy/adapters/repository.py:51\u001b[0m, in \u001b[0;36mInMemoryServiceRepository.get\u001b[0;34m(self, name)\u001b[0m\n\u001b[1;32m     50\u001b[0m \u001b[38;5;28;01mdef\u001b[39;00m \u001b[38;5;21mget\u001b[39m(\u001b[38;5;28mself\u001b[39m, name):\n\u001b[0;32m---> 51\u001b[0m     \u001b[38;5;28;01mreturn\u001b[39;00m \u001b[38;5;28;43mnext\u001b[39;49m\u001b[43m(\u001b[49m\u001b[43m(\u001b[49m\u001b[43ms\u001b[49m\u001b[43m,\u001b[49m\u001b[43m)\u001b[49m\u001b[43m \u001b[49m\u001b[38;5;28;43;01mfor\u001b[39;49;00m\u001b[43m \u001b[49m\u001b[43ms\u001b[49m\u001b[43m \u001b[49m\u001b[38;5;129;43;01min\u001b[39;49;00m\u001b[43m \u001b[49m\u001b[38;5;28;43mself\u001b[39;49m\u001b[38;5;241;43m.\u001b[39;49m\u001b[43m_services\u001b[49m\u001b[43m \u001b[49m\u001b[38;5;28;43;01mif\u001b[39;49;00m\u001b[43m \u001b[49m\u001b[43ms\u001b[49m\u001b[38;5;241;43m.\u001b[39;49m\u001b[43mname\u001b[49m\u001b[43m \u001b[49m\u001b[38;5;241;43m==\u001b[39;49m\u001b[43m \u001b[49m\u001b[43mname\u001b[49m\u001b[43m)\u001b[49m\n",
      "\u001b[0;31mStopIteration\u001b[0m: "
     ]
    }
   ],
   "source": [
    "repo.get(\"asdf\")"
   ]
  },
  {
   "cell_type": "code",
   "execution_count": null,
   "id": "c050087c-8125-4f9e-a3d8-49f10fa3dbfb",
   "metadata": {},
   "outputs": [],
   "source": []
  }
 ],
 "metadata": {
  "kernelspec": {
   "display_name": "Python 3 (ipykernel)",
   "language": "python",
   "name": "python3"
  },
  "language_info": {
   "codemirror_mode": {
    "name": "ipython",
    "version": 3
   },
   "file_extension": ".py",
   "mimetype": "text/x-python",
   "name": "python",
   "nbconvert_exporter": "python",
   "pygments_lexer": "ipython3",
   "version": "3.10.2"
  }
 },
 "nbformat": 4,
 "nbformat_minor": 5
}
