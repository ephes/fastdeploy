{
 "cells": [
  {
   "cell_type": "code",
   "execution_count": 6,
   "id": "da4dc57e-98e1-4939-94a7-9dada52584d4",
   "metadata": {},
   "outputs": [],
   "source": [
    "from deploy import views\n",
    "from deploy.bootstrap import bootstrap"
   ]
  },
  {
   "cell_type": "code",
   "execution_count": 7,
   "id": "4ff09bd0-96d4-4e0a-8824-0b525368ec8a",
   "metadata": {},
   "outputs": [],
   "source": [
    "bus = await bootstrap()"
   ]
  },
  {
   "cell_type": "code",
   "execution_count": 3,
   "id": "210f2459-1c58-401b-8c19-48b08f78feae",
   "metadata": {},
   "outputs": [],
   "source": [
    "from_fs = await views.get_services_from_filesystem()"
   ]
  },
  {
   "cell_type": "code",
   "execution_count": 4,
   "id": "74d9f781-8709-4d64-85a8-7be1f37dcb8b",
   "metadata": {},
   "outputs": [
    {
     "data": {
      "text/plain": [
       "[Service(id=None, name=dummy),\n",
       " Service(id=None, name=dummy_failure),\n",
       " Service(id=None, name=fastdeploy),\n",
       " Service(id=None, name=remove_single_cast_hosting),\n",
       " Service(id=None, name=single_cast_hosting),\n",
       " Service(id=None, name=dummy_context),\n",
       " Service(id=None, name=dummy_no_predefined_steps)]"
      ]
     },
     "execution_count": 4,
     "metadata": {},
     "output_type": "execute_result"
    }
   ],
   "source": [
    "from_fs"
   ]
  },
  {
   "cell_type": "code",
   "execution_count": null,
   "id": "f6a215af-6b98-49af-a944-d3f0fc81b22e",
   "metadata": {},
   "outputs": [],
   "source": []
  }
 ],
 "metadata": {
  "kernelspec": {
   "display_name": "Python 3 (ipykernel)",
   "language": "python",
   "name": "python3"
  },
  "language_info": {
   "codemirror_mode": {
    "name": "ipython",
    "version": 3
   },
   "file_extension": ".py",
   "mimetype": "text/x-python",
   "name": "python",
   "nbconvert_exporter": "python",
   "pygments_lexer": "ipython3",
   "version": "3.10.2"
  }
 },
 "nbformat": 4,
 "nbformat_minor": 5
}
