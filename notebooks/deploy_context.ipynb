{
 "cells": [
  {
   "cell_type": "code",
   "execution_count": 1,
   "id": "547b0cfa-0318-4452-a5b9-0c567cd33613",
   "metadata": {},
   "outputs": [],
   "source": [
    "from pydantic import BaseModel"
   ]
  },
  {
   "cell_type": "code",
   "execution_count": 2,
   "id": "668226d1-8a34-415e-9c29-325b5920afe2",
   "metadata": {},
   "outputs": [],
   "source": [
    "class Context(BaseModel):\n",
    "    env: dict = {}"
   ]
  },
  {
   "cell_type": "code",
   "execution_count": 4,
   "id": "792a7371-1976-40ff-ae63-9e112ce615cc",
   "metadata": {},
   "outputs": [],
   "source": [
    "context = Context(env={\"foo\": \"bar\"})"
   ]
  },
  {
   "cell_type": "code",
   "execution_count": 5,
   "id": "46885cb5-8c1e-4d8d-8b27-f1f61c7f1c2f",
   "metadata": {},
   "outputs": [
    {
     "data": {
      "text/plain": [
       "{'env': {'foo': 'bar'}}"
      ]
     },
     "execution_count": 5,
     "metadata": {},
     "output_type": "execute_result"
    }
   ],
   "source": [
    "context.dict()"
   ]
  },
  {
   "cell_type": "code",
   "execution_count": null,
   "id": "83265a76-484b-43cf-929c-52474e324778",
   "metadata": {},
   "outputs": [],
   "source": []
  }
 ],
 "metadata": {
  "kernelspec": {
   "display_name": "Python 3 (ipykernel)",
   "language": "python",
   "name": "python3"
  },
  "language_info": {
   "codemirror_mode": {
    "name": "ipython",
    "version": 3
   },
   "file_extension": ".py",
   "mimetype": "text/x-python",
   "name": "python",
   "nbconvert_exporter": "python",
   "pygments_lexer": "ipython3",
   "version": "3.10.1"
  }
 },
 "nbformat": 4,
 "nbformat_minor": 5
}
