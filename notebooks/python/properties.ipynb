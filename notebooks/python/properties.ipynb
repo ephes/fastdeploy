{
 "cells": [
  {
   "cell_type": "code",
   "execution_count": null,
   "metadata": {},
   "outputs": [],
   "source": [
    "class Foo:\n",
    "    _events = []\n",
    "\n",
    "    @property\n",
    "    def events(self):\n",
    "        return self._events\n",
    "\n",
    "    @events.setter\n",
    "    def events(self, value):\n",
    "        self._events.append(value)"
   ]
  },
  {
   "cell_type": "code",
   "execution_count": null,
   "metadata": {},
   "outputs": [],
   "source": []
  }
 ],
 "metadata": {
  "interpreter": {
   "hash": "befd363572f0a69d6b5d5179b97b7e1a54c5935c4f5338469720cbebddca079c"
  },
  "kernelspec": {
   "display_name": "Python 3.10.2 ('fd')",
   "language": "python",
   "name": "python3"
  },
  "language_info": {
   "name": "python",
   "version": "3.10.2"
  },
  "orig_nbformat": 4
 },
 "nbformat": 4,
 "nbformat_minor": 2
}
