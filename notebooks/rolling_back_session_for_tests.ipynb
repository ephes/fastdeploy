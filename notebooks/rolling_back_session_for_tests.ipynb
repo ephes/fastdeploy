{
 "cells": [
  {
   "cell_type": "code",
   "execution_count": 1,
   "id": "3676d618-14e2-4b6b-bc7f-8211375b4ea5",
   "metadata": {},
   "outputs": [],
   "source": [
    "from sqlalchemy import create_engine, select\n",
    "from sqlalchemy.orm import clear_mappers, sessionmaker\n",
    "\n",
    "from deploy.adapters import orm\n",
    "from deploy.bootstrap import bootstrap\n",
    "from deploy.domain.model import Service\n",
    "from deploy.service_layer import unit_of_work"
   ]
  },
  {
   "cell_type": "markdown",
   "id": "f4994b4a-6c35-42a6-bca5-d934f841197a",
   "metadata": {},
   "source": [
    "# Setup"
   ]
  },
  {
   "cell_type": "code",
   "execution_count": 2,
   "id": "afc38a60-6a70-447c-947e-0b2318aa911e",
   "metadata": {},
   "outputs": [
    {
     "name": "stdout",
     "output_type": "stream",
     "text": [
      "start mappers\n"
     ]
    }
   ],
   "source": [
    "engine = create_engine(\"postgresql:///deploy\")\n",
    "orm.metadata_obj.create_all(engine)\n",
    "orm.start_mappers()\n",
    "connection = engine.connect()\n",
    "transaction = connection.begin()\n",
    "session = sessionmaker()(bind=connection)"
   ]
  },
  {
   "cell_type": "markdown",
   "id": "24465410-09c2-4ed2-9e35-dd86a73b05ce",
   "metadata": {},
   "source": [
    "# Doing stuff that gets rolled back afterwards"
   ]
  },
  {
   "cell_type": "code",
   "execution_count": 3,
   "id": "774a7e6b-918c-49dd-a86f-a46d3d9840d8",
   "metadata": {},
   "outputs": [],
   "source": [
    "service = Service(name=\"asdf\", data={\"asdf\": \"bsdf\"})\n",
    "session.add(service)"
   ]
  },
  {
   "cell_type": "code",
   "execution_count": 5,
   "id": "d0508b36-de45-47f5-863d-98c26b8e5575",
   "metadata": {},
   "outputs": [
    {
     "name": "stdout",
     "output_type": "stream",
     "text": [
      "2\n"
     ]
    }
   ],
   "source": [
    "[service_from_db] = session.execute(select(Service).where(Service.name == \"asdf\")).one()\n",
    "print(service_from_db.id)"
   ]
  },
  {
   "cell_type": "markdown",
   "id": "e4b43933-1f0d-4b1b-91a5-84abe1bdff7f",
   "metadata": {},
   "source": [
    "# Doing stuff with Unit of Work\n",
    "\n",
    "Fail before session proxy, should work afterwards.."
   ]
  },
  {
   "cell_type": "code",
   "execution_count": 3,
   "id": "f6bcfa73-647e-4dc9-8574-e2c9d395f117",
   "metadata": {},
   "outputs": [],
   "source": [
    "class SessionProxy:\n",
    "    def __init__(self, session):\n",
    "        self.session = session\n",
    "\n",
    "    def __getattr__(self, attr):\n",
    "        \"\"\"Proxy all unknown attributes.\"\"\"\n",
    "        print(\"attr: \", attr)\n",
    "        return getattr(self.session, attr)\n",
    "\n",
    "    def close(self):\n",
    "        \"\"\"Disable close because __exit__ of SqlAlchemyUnitOfWork calls it :/\"\"\"\n",
    "        print(\"called disabled close..\")\n",
    "        pass\n",
    "\n",
    "    def rollback(self):\n",
    "        \"\"\"Disable rollback because __exit__ of AbstractUnitOfWork calls it :/\"\"\"\n",
    "        print(\"called disabled rollback..\")"
   ]
  },
  {
   "cell_type": "code",
   "execution_count": 4,
   "id": "6263d875-fe6a-4e49-8aef-8d0d4c70f661",
   "metadata": {},
   "outputs": [],
   "source": [
    "def session_factory():\n",
    "    return session\n",
    "    # return SessionProxy(session)\n",
    "\n",
    "\n",
    "# uow = unit_of_work.SqlAlchemyUnitOfWork(session_factory)\n",
    "uow = unit_of_work.TestableSqlAlchemyUnitOfWork(session_factory)\n",
    "bus = bootstrap(start_orm=False, uow=uow)"
   ]
  },
  {
   "cell_type": "code",
   "execution_count": 5,
   "id": "e65667c2-050c-49b6-9ccb-c57a6339c5f5",
   "metadata": {},
   "outputs": [],
   "source": [
    "service = Service(name=\"fastdeploytest\", data={\"foo\": \"bar\"})\n",
    "with bus.uow as uow:\n",
    "    uow.services.add(service)\n",
    "    # uow.commit()\n",
    "    [service_from_db] = uow.services.get(service.name)"
   ]
  },
  {
   "cell_type": "code",
   "execution_count": 6,
   "id": "351b80f4-2fe7-432c-837e-fd08a6f1eecc",
   "metadata": {},
   "outputs": [
    {
     "data": {
      "text/plain": [
       "12"
      ]
     },
     "execution_count": 6,
     "metadata": {},
     "output_type": "execute_result"
    }
   ],
   "source": [
    "service_from_db.id"
   ]
  },
  {
   "cell_type": "code",
   "execution_count": 7,
   "id": "2b8e2d68-101a-4361-9308-58f2589d1f05",
   "metadata": {},
   "outputs": [
    {
     "name": "stdout",
     "output_type": "stream",
     "text": [
      "12\n"
     ]
    }
   ],
   "source": [
    "with bus.uow as uow:\n",
    "    [service_from_db] = uow.services.get(service.name)\n",
    "print(service_from_db.id)"
   ]
  },
  {
   "cell_type": "markdown",
   "id": "d6e917ca-fc66-4d56-aee6-65c4677b6113",
   "metadata": {},
   "source": [
    "## Trying to Find out if it's Always Tuples?"
   ]
  },
  {
   "cell_type": "code",
   "execution_count": 12,
   "id": "ccd98883-be5f-4c02-b602-fd0d8d807ef7",
   "metadata": {},
   "outputs": [
    {
     "name": "stdout",
     "output_type": "stream",
     "text": [
      "(<deploy.domain.model.Service object at 0x104df0610>,)\n"
     ]
    }
   ],
   "source": [
    "with bus.uow as uow:\n",
    "    print(uow.services.session.execute(select(Service).where(Service.name == service.name)).one())"
   ]
  },
  {
   "cell_type": "code",
   "execution_count": 10,
   "id": "c7b43c03-9a52-4d66-8bed-42b3074d6dd9",
   "metadata": {},
   "outputs": [
    {
     "name": "stdout",
     "output_type": "stream",
     "text": [
      "(<deploy.domain.model.Service object at 0x104df0610>,)\n"
     ]
    }
   ],
   "source": [
    "with bus.uow as uow:\n",
    "    print(uow.services.session.execute(select(Service).where(Service.name == service.name)).one_or_none())"
   ]
  },
  {
   "cell_type": "code",
   "execution_count": 11,
   "id": "7d359d26-2399-4d6f-8864-daab1547f955",
   "metadata": {},
   "outputs": [
    {
     "name": "stdout",
     "output_type": "stream",
     "text": [
      "(<deploy.domain.model.Service object at 0x104df0610>,)\n"
     ]
    }
   ],
   "source": [
    "with bus.uow as uow:\n",
    "    print(uow.services.session.execute(select(Service).where(Service.name == service.name)).fetchone())"
   ]
  },
  {
   "cell_type": "code",
   "execution_count": 9,
   "id": "3b8f83d3-7d22-4f38-9852-6c85e608c396",
   "metadata": {},
   "outputs": [
    {
     "name": "stdout",
     "output_type": "stream",
     "text": [
      "(<deploy.domain.model.Service object at 0x104df0610>,)\n"
     ]
    }
   ],
   "source": [
    "with bus.uow as uow:\n",
    "    print(uow.services.session.execute(select(Service).where(Service.name == service.name)).first())"
   ]
  },
  {
   "cell_type": "code",
   "execution_count": 14,
   "id": "0ba70cbb-336d-4c30-86b4-904a1987d50f",
   "metadata": {},
   "outputs": [
    {
     "name": "stdout",
     "output_type": "stream",
     "text": [
      "[(<deploy.domain.model.Service object at 0x104df0610>,)]\n"
     ]
    }
   ],
   "source": [
    "with bus.uow as uow:\n",
    "    print(uow.services.session.execute(select(Service)).all())"
   ]
  },
  {
   "cell_type": "markdown",
   "id": "e4afaaf5-6a5d-4a07-a2d8-7f95bae97925",
   "metadata": {},
   "source": [
    "## Oh Wow!"
   ]
  },
  {
   "cell_type": "code",
   "execution_count": 15,
   "id": "7a0e168d-0649-4ad3-a687-94654154f735",
   "metadata": {},
   "outputs": [
    {
     "name": "stdout",
     "output_type": "stream",
     "text": [
      "<deploy.domain.model.Service object at 0x104df0610>\n"
     ]
    }
   ],
   "source": [
    "with bus.uow as uow:\n",
    "    print(uow.services.session.query(Service).filter_by(name=service.name).first())"
   ]
  },
  {
   "cell_type": "markdown",
   "id": "387eb568-7fff-4eee-bc2f-afe42d2f991f",
   "metadata": {},
   "source": [
    "# Teardown"
   ]
  },
  {
   "cell_type": "code",
   "execution_count": 9,
   "id": "a27f5107-a2f0-4dcd-ba15-b456397d455c",
   "metadata": {},
   "outputs": [],
   "source": [
    "session.close()\n",
    "transaction.rollback()\n",
    "connection.close()"
   ]
  },
  {
   "cell_type": "markdown",
   "id": "f54df8b2-0457-480b-a3ca-720bb0a24851",
   "metadata": {},
   "source": [
    "## Removes all Tables"
   ]
  },
  {
   "cell_type": "code",
   "execution_count": 8,
   "id": "e91aa9f6-fddb-4325-b83e-50bbd8a929e3",
   "metadata": {},
   "outputs": [],
   "source": [
    "orm.metadata_obj.drop_all(engine)\n",
    "clear_mappers()"
   ]
  }
 ],
 "metadata": {
  "kernelspec": {
   "display_name": "Python 3 (ipykernel)",
   "language": "python",
   "name": "python3"
  },
  "language_info": {
   "codemirror_mode": {
    "name": "ipython",
    "version": 3
   },
   "file_extension": ".py",
   "mimetype": "text/x-python",
   "name": "python",
   "nbconvert_exporter": "python",
   "pygments_lexer": "ipython3",
   "version": "3.10.2"
  }
 },
 "nbformat": 4,
 "nbformat_minor": 5
}
