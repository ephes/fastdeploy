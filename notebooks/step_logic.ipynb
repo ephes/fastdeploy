{
 "cells": [
  {
   "cell_type": "code",
   "execution_count": 1,
   "id": "8abb14ca-0ffb-4797-aac3-f99698d4de08",
   "metadata": {},
   "outputs": [
    {
     "data": {
      "application/javascript": [
       "\n",
       "            setTimeout(function() {\n",
       "                var nbb_cell_id = 1;\n",
       "                var nbb_unformatted_code = \"%load_ext nb_black\";\n",
       "                var nbb_formatted_code = \"%load_ext nb_black\";\n",
       "                var nbb_cells = Jupyter.notebook.get_cells();\n",
       "                for (var i = 0; i < nbb_cells.length; ++i) {\n",
       "                    if (nbb_cells[i].input_prompt_number == nbb_cell_id) {\n",
       "                        if (nbb_cells[i].get_text() == nbb_unformatted_code) {\n",
       "                             nbb_cells[i].set_text(nbb_formatted_code);\n",
       "                        }\n",
       "                        break;\n",
       "                    }\n",
       "                }\n",
       "            }, 500);\n",
       "            "
      ],
      "text/plain": [
       "<IPython.core.display.Javascript object>"
      ]
     },
     "metadata": {},
     "output_type": "display_data"
    }
   ],
   "source": [
    "%load_ext nb_black"
   ]
  },
  {
   "cell_type": "code",
   "execution_count": 2,
   "id": "6bec7e63-9469-4b46-8b3e-7b3e1721b41c",
   "metadata": {},
   "outputs": [
    {
     "data": {
      "application/javascript": [
       "\n",
       "            setTimeout(function() {\n",
       "                var nbb_cell_id = 2;\n",
       "                var nbb_unformatted_code = \"import os\\n\\nfrom sqlmodel import Session, select\\n\\nfrom app import database\\n\\nfrom app.models import Step, Service\";\n",
       "                var nbb_formatted_code = \"import os\\n\\nfrom sqlmodel import Session, select\\n\\nfrom app import database\\n\\nfrom app.models import Step, Service\";\n",
       "                var nbb_cells = Jupyter.notebook.get_cells();\n",
       "                for (var i = 0; i < nbb_cells.length; ++i) {\n",
       "                    if (nbb_cells[i].input_prompt_number == nbb_cell_id) {\n",
       "                        if (nbb_cells[i].get_text() == nbb_unformatted_code) {\n",
       "                             nbb_cells[i].set_text(nbb_formatted_code);\n",
       "                        }\n",
       "                        break;\n",
       "                    }\n",
       "                }\n",
       "            }, 500);\n",
       "            "
      ],
      "text/plain": [
       "<IPython.core.display.Javascript object>"
      ]
     },
     "metadata": {},
     "output_type": "display_data"
    }
   ],
   "source": [
    "from app import database\n",
    "from app.models import Service\n",
    "from sqlmodel import Session, select"
   ]
  },
  {
   "cell_type": "markdown",
   "id": "9da1f9e6-bc14-494d-a8da-44f2c847f3cf",
   "metadata": {},
   "source": [
    "# Start Deployment Command\n",
    "\n",
    "What should start deployment do?\n",
    "\n",
    "* Create a deployment model with started = now() and finished = None timestamps\n",
    "* Look up the steps from last deployment and recreate them as \"pending\" with new deployment id\n",
    "* If there are no last steps, create one new dummy step\n",
    "* Start deployment task\n",
    "* Mark the first step as \"running\""
   ]
  },
  {
   "cell_type": "markdown",
   "id": "75ea1d23-640f-4bec-b4e6-dc840deaa619",
   "metadata": {},
   "source": [
    "# Finish Step\n",
    "\n",
    "What should finish step do?\n",
    "\n",
    "* If the currently running step != the finished step, mark the currently running step as pending again and create a new finished step\n",
    "* If the currently running step == the finished step, mark the currently running step as finished and set the next pending step to \"running\""
   ]
  },
  {
   "cell_type": "markdown",
   "id": "4b757576-453a-49da-8f41-3faaaa55a2cf",
   "metadata": {},
   "source": [
    "# Finish Deployment\n",
    "\n",
    "What should happen on finish deployment?\n",
    "\n",
    "* If the deployment has failed, do nothing\n",
    "* If the deployment was successful, remove all pending steps"
   ]
  },
  {
   "cell_type": "markdown",
   "id": "f9a2c0cb-05ff-4fd5-a8cb-97fbced81ed8",
   "metadata": {},
   "source": [
    "# Find Last Successful Deployment"
   ]
  },
  {
   "cell_type": "code",
   "execution_count": 38,
   "id": "f297518a-2c8f-4528-86c4-426f0ff4789b",
   "metadata": {},
   "outputs": [],
   "source": [
    "with Session(database.engine) as session:\n",
    "    stmt = \"\"\"\n",
    "        select distinct(step.deployment_id)\n",
    "          from step, deployment\n",
    "            on step.deployment_id=deployment.id\n",
    "         where\n",
    "           deployment.service_id = 4\n",
    "           and step.state != 'success'\n",
    "         group by step.deployment_id\n",
    "        having count(step.id) > 1\n",
    "    \"\"\"\n",
    "    result = session.exec(stmt).all()"
   ]
  },
  {
   "cell_type": "code",
   "execution_count": 62,
   "id": "bea3b0a3-1b2b-4de5-8fad-de17e9433023",
   "metadata": {},
   "outputs": [],
   "source": [
    "with Session(database.engine) as session:\n",
    "    stmt = \"\"\"\n",
    "        select step.deployment_id\n",
    "          from deployment, step\n",
    "         where step.deployment_id=deployment.id\n",
    "           and step.state == \"success\"\n",
    "           and deployment.service_id = 3\n",
    "           and step.deployment_id not in (\n",
    "            select distinct(step.deployment_id)\n",
    "              from step, deployment\n",
    "                on step.deployment_id=deployment.id\n",
    "             where deployment.service_id = 3\n",
    "               and step.state != 'success'\n",
    "             group by step.deployment_id\n",
    "            having count(step.id) > 1\n",
    "           )\n",
    "         group by step.deployment_id\n",
    "        having count(step.id) > 0\n",
    "         order by deployment.created desc\n",
    "    \"\"\"\n",
    "    deployment_id = session.exec(stmt).all()[0][0]\n",
    "    result = session.exec(stmt).all()"
   ]
  },
  {
   "cell_type": "code",
   "execution_count": 56,
   "id": "bb248a06-9ae2-4be2-9509-34304c1be0a0",
   "metadata": {},
   "outputs": [],
   "source": [
    "with Session(database.engine) as session:\n",
    "    stmt = \"\"\"\n",
    "        select step.deployment_id\n",
    "          from deployment, step\n",
    "         where step.deployment_id=deployment.id\n",
    "           and step.state == \"success\"\n",
    "           and deployment.service_id = 3\n",
    "         group by step.deployment_id\n",
    "        having count(step.id) > 0\n",
    "    \"\"\"\n",
    "    deployment_id = session.exec(stmt).all()[0][0]"
   ]
  },
  {
   "cell_type": "code",
   "execution_count": 54,
   "id": "57370732-ff27-47af-be0e-34a345574063",
   "metadata": {},
   "outputs": [
    {
     "data": {
      "text/plain": [
       "2"
      ]
     },
     "execution_count": 54,
     "metadata": {},
     "output_type": "execute_result"
    }
   ],
   "source": [
    "len(result)"
   ]
  },
  {
   "cell_type": "code",
   "execution_count": 63,
   "id": "4b9517b6-a5ef-4b92-ad49-639c352cac0c",
   "metadata": {},
   "outputs": [
    {
     "data": {
      "text/plain": [
       "2"
      ]
     },
     "execution_count": 63,
     "metadata": {},
     "output_type": "execute_result"
    }
   ],
   "source": [
    "deployment_id"
   ]
  },
  {
   "cell_type": "code",
   "execution_count": 6,
   "id": "7531ffb8-3137-4dee-b6a7-545bcdbf32b8",
   "metadata": {},
   "outputs": [
    {
     "ename": "IndexError",
     "evalue": "list index out of range",
     "output_type": "error",
     "traceback": [
      "\u001b[0;31m---------------------------------------------------------------------------\u001b[0m",
      "\u001b[0;31mIndexError\u001b[0m                                Traceback (most recent call last)",
      "\u001b[0;32m/var/folders/dg/20nm141d3hj2hv67hjl6zmkc0000gn/T/ipykernel_27098/4210710611.py\u001b[0m in \u001b[0;36m<module>\u001b[0;34m\u001b[0m\n\u001b[1;32m     19\u001b[0m          \u001b[0morder\u001b[0m \u001b[0mby\u001b[0m \u001b[0mdeployment\u001b[0m\u001b[0;34m.\u001b[0m\u001b[0mstarted\u001b[0m \u001b[0mdesc\u001b[0m\u001b[0;34m\u001b[0m\u001b[0;34m\u001b[0m\u001b[0m\n\u001b[1;32m     20\u001b[0m     \"\"\"\n\u001b[0;32m---> 21\u001b[0;31m     \u001b[0mdeployment_id\u001b[0m \u001b[0;34m=\u001b[0m \u001b[0msession\u001b[0m\u001b[0;34m.\u001b[0m\u001b[0mexec\u001b[0m\u001b[0;34m(\u001b[0m\u001b[0mstmt\u001b[0m\u001b[0;34m,\u001b[0m \u001b[0mparams\u001b[0m\u001b[0;34m=\u001b[0m\u001b[0;34m{\u001b[0m\u001b[0;34m\"service_id\"\u001b[0m\u001b[0;34m:\u001b[0m \u001b[0;36m3\u001b[0m\u001b[0;34m}\u001b[0m\u001b[0;34m)\u001b[0m\u001b[0;34m.\u001b[0m\u001b[0mall\u001b[0m\u001b[0;34m(\u001b[0m\u001b[0;34m)\u001b[0m\u001b[0;34m[\u001b[0m\u001b[0;36m0\u001b[0m\u001b[0;34m]\u001b[0m\u001b[0;34m[\u001b[0m\u001b[0;36m0\u001b[0m\u001b[0;34m]\u001b[0m\u001b[0;34m\u001b[0m\u001b[0;34m\u001b[0m\u001b[0m\n\u001b[0m\u001b[1;32m     22\u001b[0m \u001b[0;34m\u001b[0m\u001b[0m\n\u001b[1;32m     23\u001b[0m \u001b[0mprint\u001b[0m\u001b[0;34m(\u001b[0m\u001b[0mdeployment_id\u001b[0m\u001b[0;34m)\u001b[0m\u001b[0;34m\u001b[0m\u001b[0;34m\u001b[0m\u001b[0m\n",
      "\u001b[0;31mIndexError\u001b[0m: list index out of range"
     ]
    }
   ],
   "source": [
    "with Session(database.engine) as session:\n",
    "    stmt = \"\"\"\n",
    "        select step.deployment_id\n",
    "          from deployment, step\n",
    "         where step.deployment_id=deployment.id\n",
    "           and step.state == \"success\"\n",
    "           and deployment.service_id = :service_id\n",
    "           and step.deployment_id not in (\n",
    "            select distinct(step.deployment_id)\n",
    "              from step, deployment\n",
    "                on step.deployment_id=deployment.id\n",
    "             where deployment.service_id = :service_id\n",
    "               and step.state != 'success'\n",
    "             group by step.deployment_id\n",
    "            having count(step.id) > 1\n",
    "           )\n",
    "         group by step.deployment_id\n",
    "        having count(step.id) > 0\n",
    "         order by deployment.started desc\n",
    "    \"\"\"\n",
    "    deployment_id = session.exec(stmt, params={\"service_id\": 3}).all()[0][0]\n",
    "\n",
    "print(deployment_id)"
   ]
  },
  {
   "cell_type": "code",
   "execution_count": 3,
   "id": "66b4310a-6ecf-4255-a845-fef18ab1c35d",
   "metadata": {},
   "outputs": [
    {
     "name": "stdout",
     "output_type": "stream",
     "text": [
      "Help on method exec in module sqlmodel.orm.session:\n",
      "\n",
      "exec(statement: Union[sqlmodel.sql.expression.Select, sqlmodel.sql.expression.SelectOfScalar, sqlmodel.sql.base.Executable[~_TSelectParam]], *, params: Union[Mapping[str, Any], Sequence[Mapping[str, Any]], NoneType] = None, execution_options: Mapping[str, Any] = immutabledict({}), bind_arguments: Optional[Mapping[str, Any]] = None, _parent_execute_state: Optional[Any] = None, _add_event: Optional[Any] = None, **kw: Any) -> Union[sqlmodel.engine.result.Result[~_TSelectParam], sqlmodel.engine.result.ScalarResult[~_TSelectParam]] method of sqlmodel.orm.session.Session instance\n",
      "\n"
     ]
    },
    {
     "data": {
      "application/javascript": [
       "\n",
       "            setTimeout(function() {\n",
       "                var nbb_cell_id = 3;\n",
       "                var nbb_unformatted_code = \"with Session(database.engine) as session:\\n    help(session.exec)\";\n",
       "                var nbb_formatted_code = \"with Session(database.engine) as session:\\n    help(session.exec)\";\n",
       "                var nbb_cells = Jupyter.notebook.get_cells();\n",
       "                for (var i = 0; i < nbb_cells.length; ++i) {\n",
       "                    if (nbb_cells[i].input_prompt_number == nbb_cell_id) {\n",
       "                        if (nbb_cells[i].get_text() == nbb_unformatted_code) {\n",
       "                             nbb_cells[i].set_text(nbb_formatted_code);\n",
       "                        }\n",
       "                        break;\n",
       "                    }\n",
       "                }\n",
       "            }, 500);\n",
       "            "
      ],
      "text/plain": [
       "<IPython.core.display.Javascript object>"
      ]
     },
     "metadata": {},
     "output_type": "display_data"
    }
   ],
   "source": [
    "with Session(database.engine) as session:\n",
    "    help(session.exec)"
   ]
  },
  {
   "cell_type": "code",
   "execution_count": 3,
   "id": "af87dc17-b7be-4837-a8c2-2966874acc74",
   "metadata": {},
   "outputs": [
    {
     "name": "stderr",
     "output_type": "stream",
     "text": [
      "/Users/jochen/.virtualenvs/fd/lib/python3.10/site-packages/sqlmodel/orm/session.py:60: SAWarning: Class SelectOfScalar will not make use of SQL compilation caching as it does not set the 'inherit_cache' attribute to ``True``.  This can have significant performance implications including some performance degradations in comparison to prior SQLAlchemy versions.  Set this attribute to True if this object can make use of the cache key generated by the superclass.  Alternatively, this attribute may be set to False which will disable this warning. (Background on this error at: https://sqlalche.me/e/14/cprf)\n",
      "  results = super().execute(\n"
     ]
    },
    {
     "data": {
      "application/javascript": [
       "\n",
       "            setTimeout(function() {\n",
       "                var nbb_cell_id = 3;\n",
       "                var nbb_unformatted_code = \"with Session(database.engine) as session:\\n    services = session.exec(select(Service)).all()\";\n",
       "                var nbb_formatted_code = \"with Session(database.engine) as session:\\n    services = session.exec(select(Service)).all()\";\n",
       "                var nbb_cells = Jupyter.notebook.get_cells();\n",
       "                for (var i = 0; i < nbb_cells.length; ++i) {\n",
       "                    if (nbb_cells[i].input_prompt_number == nbb_cell_id) {\n",
       "                        if (nbb_cells[i].get_text() == nbb_unformatted_code) {\n",
       "                             nbb_cells[i].set_text(nbb_formatted_code);\n",
       "                        }\n",
       "                        break;\n",
       "                    }\n",
       "                }\n",
       "            }, 500);\n",
       "            "
      ],
      "text/plain": [
       "<IPython.core.display.Javascript object>"
      ]
     },
     "metadata": {},
     "output_type": "display_data"
    }
   ],
   "source": [
    "with Session(database.engine) as session:\n",
    "    services = session.exec(select(Service)).all()"
   ]
  },
  {
   "cell_type": "code",
   "execution_count": 9,
   "id": "efbb4fad-87b5-4adc-8061-9f847058fa05",
   "metadata": {},
   "outputs": [
    {
     "data": {
      "text/plain": [
       "[{'name': 'Gathering Facts'},\n",
       " {'name': 'Include secret vars'},\n",
       " {'name': 'Add nodejs signing key - do not download if present'},\n",
       " {'name': 'Add nodejs repository'},\n",
       " {'name': 'Install required build packages'},\n",
       " {'name': 'Add a unix user with a bash shell'},\n",
       " {'name': 'Git checkout repository'},\n",
       " {'name': 'Create .env file'},\n",
       " {'name': 'Create .vault_password file'},\n",
       " {'name': 'Install fastdeploy frontend vue app dependencies'},\n",
       " {'name': 'Build fastdeploy frontend vue app'},\n",
       " {'name': 'Create virtualenv for python'},\n",
       " {'name': 'Upgrade pip prod venv'},\n",
       " {'name': 'Create virtualenv for ansible'},\n",
       " {'name': 'Upgrade pip ansible venv'},\n",
       " {'name': 'Install ansible'},\n",
       " {'name': 'Create directory for ansible callback plugins'},\n",
       " {'name': 'Copy json stdout callback into default plugin directory'},\n",
       " {'name': 'Create sudoers file for deploy scripts'},\n",
       " {'name': 'Create directory for ansible inventory'},\n",
       " {'name': 'Create local inventory'},\n",
       " {'name': 'Create directory for server start script'},\n",
       " {'name': 'Create uvicorn start script'},\n",
       " {'name': 'Create directory for fastdeploy service'},\n",
       " {'name': 'Create task deploy file for fastdeploy'},\n",
       " {'name': 'Create service config for fastdeploy'},\n",
       " {'name': 'Install pip-tools'},\n",
       " {'name': 'Install app production requirements'},\n",
       " {'name': 'Create initial user'},\n",
       " {'name': 'Sync services from filesystem with database'},\n",
       " {'name': 'Create a symbolic link for uvicorn systemd service'},\n",
       " {'name': 'Make sure deploy uvicorn service is restarted'},\n",
       " {'name': 'Create a symbolic link for traefik loadbalancer'}]"
      ]
     },
     "execution_count": 9,
     "metadata": {},
     "output_type": "execute_result"
    },
    {
     "data": {
      "application/javascript": [
       "\n",
       "            setTimeout(function() {\n",
       "                var nbb_cell_id = 9;\n",
       "                var nbb_unformatted_code = \"services[0].data[\\\"steps\\\"]\";\n",
       "                var nbb_formatted_code = \"services[0].data[\\\"steps\\\"]\";\n",
       "                var nbb_cells = Jupyter.notebook.get_cells();\n",
       "                for (var i = 0; i < nbb_cells.length; ++i) {\n",
       "                    if (nbb_cells[i].input_prompt_number == nbb_cell_id) {\n",
       "                        if (nbb_cells[i].get_text() == nbb_unformatted_code) {\n",
       "                             nbb_cells[i].set_text(nbb_formatted_code);\n",
       "                        }\n",
       "                        break;\n",
       "                    }\n",
       "                }\n",
       "            }, 500);\n",
       "            "
      ],
      "text/plain": [
       "<IPython.core.display.Javascript object>"
      ]
     },
     "metadata": {},
     "output_type": "display_data"
    }
   ],
   "source": [
    "services[0].data[\"steps\"]"
   ]
  },
  {
   "cell_type": "code",
   "execution_count": 10,
   "id": "bf301e16-1535-4d81-ba9a-983abdda28cd",
   "metadata": {},
   "outputs": [
    {
     "data": {
      "text/plain": [
       "[{'name': 'message 1'},\n",
       " {'name': 'message 2'},\n",
       " {'name': 'message 3'},\n",
       " {'name': 'message 4'},\n",
       " {'name': 'message 5'},\n",
       " {'name': 'message 6'},\n",
       " {'name': 'message 7'},\n",
       " {'name': 'message 8'},\n",
       " {'name': 'message 9'}]"
      ]
     },
     "execution_count": 10,
     "metadata": {},
     "output_type": "execute_result"
    },
    {
     "data": {
      "application/javascript": [
       "\n",
       "            setTimeout(function() {\n",
       "                var nbb_cell_id = 10;\n",
       "                var nbb_unformatted_code = \"services[1].data[\\\"steps\\\"]\";\n",
       "                var nbb_formatted_code = \"services[1].data[\\\"steps\\\"]\";\n",
       "                var nbb_cells = Jupyter.notebook.get_cells();\n",
       "                for (var i = 0; i < nbb_cells.length; ++i) {\n",
       "                    if (nbb_cells[i].input_prompt_number == nbb_cell_id) {\n",
       "                        if (nbb_cells[i].get_text() == nbb_unformatted_code) {\n",
       "                             nbb_cells[i].set_text(nbb_formatted_code);\n",
       "                        }\n",
       "                        break;\n",
       "                    }\n",
       "                }\n",
       "            }, 500);\n",
       "            "
      ],
      "text/plain": [
       "<IPython.core.display.Javascript object>"
      ]
     },
     "metadata": {},
     "output_type": "display_data"
    }
   ],
   "source": [
    "services[1].data[\"steps\"]"
   ]
  },
  {
   "cell_type": "code",
   "execution_count": 15,
   "id": "d8d0c2c8-76c8-47b9-b10c-8ef4819e6e62",
   "metadata": {},
   "outputs": [
    {
     "data": {
      "application/javascript": [
       "\n",
       "            setTimeout(function() {\n",
       "                var nbb_cell_id = 15;\n",
       "                var nbb_unformatted_code = \"service = services[1]\";\n",
       "                var nbb_formatted_code = \"service = services[1]\";\n",
       "                var nbb_cells = Jupyter.notebook.get_cells();\n",
       "                for (var i = 0; i < nbb_cells.length; ++i) {\n",
       "                    if (nbb_cells[i].input_prompt_number == nbb_cell_id) {\n",
       "                        if (nbb_cells[i].get_text() == nbb_unformatted_code) {\n",
       "                             nbb_cells[i].set_text(nbb_formatted_code);\n",
       "                        }\n",
       "                        break;\n",
       "                    }\n",
       "                }\n",
       "            }, 500);\n",
       "            "
      ],
      "text/plain": [
       "<IPython.core.display.Javascript object>"
      ]
     },
     "metadata": {},
     "output_type": "display_data"
    }
   ],
   "source": [
    "service = services[1]"
   ]
  },
  {
   "cell_type": "code",
   "execution_count": 16,
   "id": "9b4a1928-9f57-4466-8519-e2c41a850e64",
   "metadata": {},
   "outputs": [
    {
     "data": {
      "text/plain": [
       "[StepBase(name='message 1', started=None, finished=None, state='pending', message=''),\n",
       " StepBase(name='message 2', started=None, finished=None, state='pending', message=''),\n",
       " StepBase(name='message 3', started=None, finished=None, state='pending', message=''),\n",
       " StepBase(name='message 4', started=None, finished=None, state='pending', message=''),\n",
       " StepBase(name='message 5', started=None, finished=None, state='pending', message=''),\n",
       " StepBase(name='message 6', started=None, finished=None, state='pending', message=''),\n",
       " StepBase(name='message 7', started=None, finished=None, state='pending', message=''),\n",
       " StepBase(name='message 8', started=None, finished=None, state='pending', message=''),\n",
       " StepBase(name='message 9', started=None, finished=None, state='pending', message='')]"
      ]
     },
     "execution_count": 16,
     "metadata": {},
     "output_type": "execute_result"
    },
    {
     "data": {
      "application/javascript": [
       "\n",
       "            setTimeout(function() {\n",
       "                var nbb_cell_id = 16;\n",
       "                var nbb_unformatted_code = \"await service.get_steps()\";\n",
       "                var nbb_formatted_code = \"await service.get_steps()\";\n",
       "                var nbb_cells = Jupyter.notebook.get_cells();\n",
       "                for (var i = 0; i < nbb_cells.length; ++i) {\n",
       "                    if (nbb_cells[i].input_prompt_number == nbb_cell_id) {\n",
       "                        if (nbb_cells[i].get_text() == nbb_unformatted_code) {\n",
       "                             nbb_cells[i].set_text(nbb_formatted_code);\n",
       "                        }\n",
       "                        break;\n",
       "                    }\n",
       "                }\n",
       "            }, 500);\n",
       "            "
      ],
      "text/plain": [
       "<IPython.core.display.Javascript object>"
      ]
     },
     "metadata": {},
     "output_type": "display_data"
    }
   ],
   "source": [
    "await service.get_steps()"
   ]
  },
  {
   "cell_type": "code",
   "execution_count": 17,
   "id": "bacfcab4-4485-4e46-97ac-4eedbd35c245",
   "metadata": {},
   "outputs": [
    {
     "data": {
      "text/plain": [
       "[0, 1, 2]"
      ]
     },
     "execution_count": 17,
     "metadata": {},
     "output_type": "execute_result"
    },
    {
     "data": {
      "application/javascript": [
       "\n",
       "            setTimeout(function() {\n",
       "                var nbb_cell_id = 17;\n",
       "                var nbb_unformatted_code = \"list(range(3))\";\n",
       "                var nbb_formatted_code = \"list(range(3))\";\n",
       "                var nbb_cells = Jupyter.notebook.get_cells();\n",
       "                for (var i = 0; i < nbb_cells.length; ++i) {\n",
       "                    if (nbb_cells[i].input_prompt_number == nbb_cell_id) {\n",
       "                        if (nbb_cells[i].get_text() == nbb_unformatted_code) {\n",
       "                             nbb_cells[i].set_text(nbb_formatted_code);\n",
       "                        }\n",
       "                        break;\n",
       "                    }\n",
       "                }\n",
       "            }, 500);\n",
       "            "
      ],
      "text/plain": [
       "<IPython.core.display.Javascript object>"
      ]
     },
     "metadata": {},
     "output_type": "display_data"
    }
   ],
   "source": [
    "list(range(3))"
   ]
  },
  {
   "cell_type": "code",
   "execution_count": null,
   "id": "a743e5ec-c46d-4708-838e-6f9b75408b06",
   "metadata": {},
   "outputs": [],
   "source": []
  }
 ],
 "metadata": {
  "kernelspec": {
   "display_name": "Python 3 (ipykernel)",
   "language": "python",
   "name": "python3"
  },
  "language_info": {
   "codemirror_mode": {
    "name": "ipython",
    "version": 3
   },
   "file_extension": ".py",
   "mimetype": "text/x-python",
   "name": "python",
   "nbconvert_exporter": "python",
   "pygments_lexer": "ipython3",
   "version": "3.10.1"
  }
 },
 "nbformat": 4,
 "nbformat_minor": 5
}
