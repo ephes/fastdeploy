{
 "cells": [
  {
   "cell_type": "code",
   "execution_count": 1,
   "id": "34bb694a-d5ab-4fff-941f-28cc2b650e2a",
   "metadata": {},
   "outputs": [],
   "source": [
    "from sqlalchemy import Column, Integer, MetaData, String, Table, create_engine, select\n",
    "from sqlalchemy.orm import Session, mapper"
   ]
  },
  {
   "cell_type": "code",
   "execution_count": 2,
   "id": "1ec29b74-82da-4413-81fe-953c89e907c7",
   "metadata": {},
   "outputs": [
    {
     "ename": "ImportError",
     "evalue": "cannot import name 'models' from 'app' (unknown location)",
     "output_type": "error",
     "traceback": [
      "\u001b[0;31m---------------------------------------------------------------------------\u001b[0m",
      "\u001b[0;31mImportError\u001b[0m                               Traceback (most recent call last)",
      "Cell \u001b[0;32mIn[2], line 1\u001b[0m\n\u001b[0;32m----> 1\u001b[0m \u001b[38;5;28;01mfrom\u001b[39;00m \u001b[38;5;21;01mapp\u001b[39;00m \u001b[38;5;28;01mimport\u001b[39;00m models\n",
      "\u001b[0;31mImportError\u001b[0m: cannot import name 'models' from 'app' (unknown location)"
     ]
    }
   ],
   "source": [
    "from app import models"
   ]
  },
  {
   "cell_type": "code",
   "execution_count": 3,
   "id": "e99b1f7e-9a1c-4bbc-b49f-a5b3ef8db889",
   "metadata": {},
   "outputs": [],
   "source": [
    "engine = create_engine(\"sqlite+pysqlite:///:memory:\", echo=True, future=True)"
   ]
  },
  {
   "cell_type": "code",
   "execution_count": 4,
   "id": "daf4e8cc-d398-433c-a90c-35d98d9dc9cd",
   "metadata": {},
   "outputs": [],
   "source": [
    "session = Session(engine)"
   ]
  },
  {
   "cell_type": "code",
   "execution_count": 5,
   "id": "6f2753bd-a4d4-4df2-9828-e090c9c4354d",
   "metadata": {},
   "outputs": [
    {
     "name": "stdout",
     "output_type": "stream",
     "text": [
      "2022-02-20 18:07:48,866 INFO sqlalchemy.engine.Engine BEGIN (implicit)\n",
      "2022-02-20 18:07:48,867 INFO sqlalchemy.engine.Engine PRAGMA main.table_info(\"user\")\n",
      "2022-02-20 18:07:48,868 INFO sqlalchemy.engine.Engine [raw sql] ()\n",
      "2022-02-20 18:07:48,869 INFO sqlalchemy.engine.Engine PRAGMA temp.table_info(\"user\")\n",
      "2022-02-20 18:07:48,869 INFO sqlalchemy.engine.Engine [raw sql] ()\n",
      "2022-02-20 18:07:48,871 INFO sqlalchemy.engine.Engine \n",
      "CREATE TABLE user (\n",
      "\tid INTEGER NOT NULL, \n",
      "\tname VARCHAR(255), \n",
      "\tpassword VARCHAR(255), \n",
      "\tPRIMARY KEY (id)\n",
      ")\n",
      "\n",
      "\n",
      "2022-02-20 18:07:48,871 INFO sqlalchemy.engine.Engine [no key 0.00040s] ()\n",
      "2022-02-20 18:07:48,872 INFO sqlalchemy.engine.Engine COMMIT\n"
     ]
    }
   ],
   "source": [
    "metadata_obj = MetaData()\n",
    "\n",
    "users = Table(\n",
    "    \"user\",\n",
    "    metadata_obj,\n",
    "    Column(\"id\", Integer, primary_key=True),\n",
    "    Column(\"name\", String(255)),\n",
    "    Column(\"password\", String(255)),\n",
    ")\n",
    "\n",
    "metadata_obj.create_all(engine)"
   ]
  },
  {
   "cell_type": "code",
   "execution_count": 6,
   "id": "242e6554-7b9d-46c2-bd10-537302bb5d32",
   "metadata": {},
   "outputs": [],
   "source": [
    "def start_mappers():\n",
    "    users_mapper = mapper(models.NewUser, users)\n",
    "\n",
    "\n",
    "start_mappers()"
   ]
  },
  {
   "cell_type": "code",
   "execution_count": 7,
   "id": "a0815428-ca91-4e93-9b73-25a983d2bb0c",
   "metadata": {},
   "outputs": [],
   "source": [
    "user = models.NewUser(1, \"foobar\", \"asdf\")"
   ]
  },
  {
   "cell_type": "code",
   "execution_count": 8,
   "id": "3e03b09a-4c48-4eff-97c1-18075465cd0d",
   "metadata": {},
   "outputs": [],
   "source": [
    "session.add(user)"
   ]
  },
  {
   "cell_type": "code",
   "execution_count": 9,
   "id": "2cb9de2e-b8cc-4a0a-95b3-170704bf4903",
   "metadata": {},
   "outputs": [
    {
     "data": {
      "text/plain": [
       "IdentitySet([<app.models.NewUser object at 0x105515600>])"
      ]
     },
     "execution_count": 9,
     "metadata": {},
     "output_type": "execute_result"
    }
   ],
   "source": [
    "session.new"
   ]
  },
  {
   "cell_type": "code",
   "execution_count": 10,
   "id": "56647e3b-6ccf-4bdf-8bb8-1d5d36033f5c",
   "metadata": {},
   "outputs": [
    {
     "name": "stdout",
     "output_type": "stream",
     "text": [
      "2022-02-19 08:23:12,435 INFO sqlalchemy.engine.Engine BEGIN (implicit)\n",
      "2022-02-19 08:23:12,438 INFO sqlalchemy.engine.Engine INSERT INTO user (id, name, password) VALUES (?, ?, ?)\n",
      "2022-02-19 08:23:12,439 INFO sqlalchemy.engine.Engine [generated in 0.00084s] (1, 'foobar', 'asdf')\n"
     ]
    }
   ],
   "source": [
    "session.flush()"
   ]
  },
  {
   "cell_type": "code",
   "execution_count": 11,
   "id": "66567d02-29fa-485d-9e8e-75e0948a0927",
   "metadata": {},
   "outputs": [
    {
     "name": "stdout",
     "output_type": "stream",
     "text": [
      "2022-02-19 08:27:14,975 INFO sqlalchemy.engine.Engine COMMIT\n"
     ]
    }
   ],
   "source": [
    "session.commit()"
   ]
  },
  {
   "cell_type": "code",
   "execution_count": 17,
   "id": "1dbd203b-ca74-478b-92de-978bd03a8ba6",
   "metadata": {},
   "outputs": [
    {
     "name": "stdout",
     "output_type": "stream",
     "text": [
      "2022-02-19 08:28:41,608 INFO sqlalchemy.engine.Engine SELECT user.id, user.name, user.password \n",
      "FROM user\n",
      "2022-02-19 08:28:41,609 INFO sqlalchemy.engine.Engine [cached since 20.47s ago] ()\n"
     ]
    }
   ],
   "source": [
    "[[user_from_db]] = session.execute(select(models.NewUser)).all()"
   ]
  },
  {
   "cell_type": "code",
   "execution_count": 19,
   "id": "33208241-2250-41f1-a7f7-c18b65d13f25",
   "metadata": {},
   "outputs": [
    {
     "data": {
      "text/plain": [
       "1"
      ]
     },
     "execution_count": 19,
     "metadata": {},
     "output_type": "execute_result"
    }
   ],
   "source": [
    "user_from_db.id"
   ]
  },
  {
   "cell_type": "code",
   "execution_count": null,
   "id": "1e853eba-9966-4a23-a6c3-c13d0b8a0f54",
   "metadata": {},
   "outputs": [],
   "source": []
  }
 ],
 "metadata": {
  "kernelspec": {
   "display_name": "Python 3 (ipykernel)",
   "language": "python",
   "name": "python3"
  },
  "language_info": {
   "codemirror_mode": {
    "name": "ipython",
    "version": 3
   },
   "file_extension": ".py",
   "mimetype": "text/x-python",
   "name": "python",
   "nbconvert_exporter": "python",
   "pygments_lexer": "ipython3",
   "version": "3.12.7"
  }
 },
 "nbformat": 4,
 "nbformat_minor": 5
}
