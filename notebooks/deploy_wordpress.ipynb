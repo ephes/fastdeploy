{
 "cells": [
  {
   "cell_type": "code",
   "execution_count": 1,
   "id": "9a2d230b-6f70-49b7-b273-7f0da611e3b5",
   "metadata": {},
   "outputs": [
    {
     "data": {
      "application/javascript": [
       "\n",
       "            setTimeout(function() {\n",
       "                var nbb_cell_id = 1;\n",
       "                var nbb_unformatted_code = \"%load_ext nb_black\";\n",
       "                var nbb_formatted_code = \"%load_ext nb_black\";\n",
       "                var nbb_cells = Jupyter.notebook.get_cells();\n",
       "                for (var i = 0; i < nbb_cells.length; ++i) {\n",
       "                    if (nbb_cells[i].input_prompt_number == nbb_cell_id) {\n",
       "                        if (nbb_cells[i].get_text() == nbb_unformatted_code) {\n",
       "                             nbb_cells[i].set_text(nbb_formatted_code);\n",
       "                        }\n",
       "                        break;\n",
       "                    }\n",
       "                }\n",
       "            }, 500);\n",
       "            "
      ],
      "text/plain": [
       "<IPython.core.display.Javascript object>"
      ]
     },
     "metadata": {},
     "output_type": "display_data"
    }
   ],
   "source": [
    "%load_ext nb_black"
   ]
  },
  {
   "cell_type": "code",
   "execution_count": 2,
   "id": "89161b31-cce6-41ec-a3e5-9575ce358a3a",
   "metadata": {},
   "outputs": [
    {
     "data": {
      "application/javascript": [
       "\n",
       "            setTimeout(function() {\n",
       "                var nbb_cell_id = 2;\n",
       "                var nbb_unformatted_code = \"import json\\nimport httpx\\nimport string\\nimport secrets\\n\\nfrom time import sleep\\n\\nfrom getpass import getpass\\n\\nfrom deploy.tasks import DeploymentContext\\nfrom deploy.auth import token_to_payload\";\n",
       "                var nbb_formatted_code = \"import json\\nimport httpx\\nimport string\\nimport secrets\\n\\nfrom time import sleep\\n\\nfrom getpass import getpass\\n\\nfrom deploy.tasks import DeploymentContext\\nfrom deploy.auth import token_to_payload\";\n",
       "                var nbb_cells = Jupyter.notebook.get_cells();\n",
       "                for (var i = 0; i < nbb_cells.length; ++i) {\n",
       "                    if (nbb_cells[i].input_prompt_number == nbb_cell_id) {\n",
       "                        if (nbb_cells[i].get_text() == nbb_unformatted_code) {\n",
       "                             nbb_cells[i].set_text(nbb_formatted_code);\n",
       "                        }\n",
       "                        break;\n",
       "                    }\n",
       "                }\n",
       "            }, 500);\n",
       "            "
      ],
      "text/plain": [
       "<IPython.core.display.Javascript object>"
      ]
     },
     "metadata": {},
     "output_type": "display_data"
    }
   ],
   "source": [
    "import secrets\n",
    "import string\n",
    "from getpass import getpass\n",
    "\n",
    "import httpx\n",
    "\n",
    "from deploy.tasks import DeploymentContext"
   ]
  },
  {
   "cell_type": "code",
   "execution_count": 3,
   "id": "a3f1a7d3-6b8d-4052-b019-252f8e4f5304",
   "metadata": {},
   "outputs": [
    {
     "name": "stdin",
     "output_type": "stream",
     "text": [
      " ····················\n"
     ]
    },
    {
     "data": {
      "application/javascript": [
       "\n",
       "            setTimeout(function() {\n",
       "                var nbb_cell_id = 3;\n",
       "                var nbb_unformatted_code = \"base_url = \\\"https://deploy.staging.wersdoerfer.de\\\"\\nusername = \\\"jochen\\\"\\npassword = getpass()\\nservice = \\\"wordpress\\\"\\n\\n# get access_token\\nclient = httpx.Client(base_url=base_url)\\nr = client.post(\\\"/token\\\", data={\\\"username\\\": username, \\\"password\\\": password})\\naccess_token = r.json()[\\\"access_token\\\"]\\naccess_token_headers = {\\\"authorization\\\": f\\\"Bearer {access_token}\\\"}\\n\\n# get service token\\ndata = {\\\"service\\\": service, \\\"origin\\\": \\\"notebook\\\"}\\nr = client.post(\\\"/service-token\\\", json=data, headers=access_token_headers)\\nservice_token = r.json()[\\\"service_token\\\"]\\nheaders={\\\"authorization\\\": f\\\"Bearer {service_token}\\\"}\\nclient.headers = headers\";\n",
       "                var nbb_formatted_code = \"base_url = \\\"https://deploy.staging.wersdoerfer.de\\\"\\nusername = \\\"jochen\\\"\\npassword = getpass()\\nservice = \\\"wordpress\\\"\\n\\n# get access_token\\nclient = httpx.Client(base_url=base_url)\\nr = client.post(\\\"/token\\\", data={\\\"username\\\": username, \\\"password\\\": password})\\naccess_token = r.json()[\\\"access_token\\\"]\\naccess_token_headers = {\\\"authorization\\\": f\\\"Bearer {access_token}\\\"}\\n\\n# get service token\\ndata = {\\\"service\\\": service, \\\"origin\\\": \\\"notebook\\\"}\\nr = client.post(\\\"/service-token\\\", json=data, headers=access_token_headers)\\nservice_token = r.json()[\\\"service_token\\\"]\\nheaders = {\\\"authorization\\\": f\\\"Bearer {service_token}\\\"}\\nclient.headers = headers\";\n",
       "                var nbb_cells = Jupyter.notebook.get_cells();\n",
       "                for (var i = 0; i < nbb_cells.length; ++i) {\n",
       "                    if (nbb_cells[i].input_prompt_number == nbb_cell_id) {\n",
       "                        if (nbb_cells[i].get_text() == nbb_unformatted_code) {\n",
       "                             nbb_cells[i].set_text(nbb_formatted_code);\n",
       "                        }\n",
       "                        break;\n",
       "                    }\n",
       "                }\n",
       "            }, 500);\n",
       "            "
      ],
      "text/plain": [
       "<IPython.core.display.Javascript object>"
      ]
     },
     "metadata": {},
     "output_type": "display_data"
    }
   ],
   "source": [
    "base_url = \"https://deploy.staging.wersdoerfer.de\"\n",
    "username = \"jochen\"\n",
    "password = getpass()\n",
    "service = \"wordpress\"\n",
    "\n",
    "# get access_token\n",
    "client = httpx.Client(base_url=base_url)\n",
    "r = client.post(\"/token\", data={\"username\": username, \"password\": password})\n",
    "access_token = r.json()[\"access_token\"]\n",
    "access_token_headers = {\"authorization\": f\"Bearer {access_token}\"}\n",
    "\n",
    "# get service token\n",
    "data = {\"service\": service, \"origin\": \"notebook\"}\n",
    "r = client.post(\"/service-token\", json=data, headers=access_token_headers)\n",
    "service_token = r.json()[\"service_token\"]\n",
    "headers = {\"authorization\": f\"Bearer {service_token}\"}\n",
    "client.headers = headers"
   ]
  },
  {
   "cell_type": "markdown",
   "id": "9819b75d-4a21-411b-b22c-9bbe8781b8d8",
   "metadata": {},
   "source": [
    "# Deploy"
   ]
  },
  {
   "cell_type": "code",
   "execution_count": 4,
   "id": "7f7c0a80-4c09-41ae-8ca9-6e7c02bd8e70",
   "metadata": {},
   "outputs": [
    {
     "data": {
      "application/javascript": [
       "\n",
       "            setTimeout(function() {\n",
       "                var nbb_cell_id = 4;\n",
       "                var nbb_unformatted_code = \"def show_details(details_url):\\n    r = client.get(details_url, headers=headers)\\n    rdata = r.json()\\n    len_steps = len([s for s in rdata[\\\"steps\\\"] if s[\\\"state\\\"] == \\\"success\\\"])\\n    started = rdata[\\\"started\\\"]\\n    finished = rdata[\\\"finished\\\"]\\n    print(f\\\"{len_steps} {started} {finished}\\\")\";\n",
       "                var nbb_formatted_code = \"def show_details(details_url):\\n    r = client.get(details_url, headers=headers)\\n    rdata = r.json()\\n    len_steps = len([s for s in rdata[\\\"steps\\\"] if s[\\\"state\\\"] == \\\"success\\\"])\\n    started = rdata[\\\"started\\\"]\\n    finished = rdata[\\\"finished\\\"]\\n    print(f\\\"{len_steps} {started} {finished}\\\")\";\n",
       "                var nbb_cells = Jupyter.notebook.get_cells();\n",
       "                for (var i = 0; i < nbb_cells.length; ++i) {\n",
       "                    if (nbb_cells[i].input_prompt_number == nbb_cell_id) {\n",
       "                        if (nbb_cells[i].get_text() == nbb_unformatted_code) {\n",
       "                             nbb_cells[i].set_text(nbb_formatted_code);\n",
       "                        }\n",
       "                        break;\n",
       "                    }\n",
       "                }\n",
       "            }, 500);\n",
       "            "
      ],
      "text/plain": [
       "<IPython.core.display.Javascript object>"
      ]
     },
     "metadata": {},
     "output_type": "display_data"
    }
   ],
   "source": [
    "def show_details(details_url):\n",
    "    r = client.get(details_url, headers=headers)\n",
    "    rdata = r.json()\n",
    "    len_steps = len([s for s in rdata[\"steps\"] if s[\"state\"] == \"success\"])\n",
    "    started = rdata[\"started\"]\n",
    "    finished = rdata[\"finished\"]\n",
    "    print(f\"{len_steps} {started} {finished}\")"
   ]
  },
  {
   "cell_type": "markdown",
   "id": "5238b2eb-a6f8-4873-8a5c-d4530da67421",
   "metadata": {},
   "source": [
    "## Create Service"
   ]
  },
  {
   "cell_type": "code",
   "execution_count": 5,
   "id": "16d60e56-9373-4920-82c6-b31248e351dd",
   "metadata": {},
   "outputs": [
    {
     "data": {
      "application/javascript": [
       "\n",
       "            setTimeout(function() {\n",
       "                var nbb_cell_id = 5;\n",
       "                var nbb_unformatted_code = \"def create_secret(length=32):\\n    alphabet = string.ascii_letters + string.digits\\n    return ''.join(secrets.choice(alphabet) for i in range(length))\";\n",
       "                var nbb_formatted_code = \"def create_secret(length=32):\\n    alphabet = string.ascii_letters + string.digits\\n    return \\\"\\\".join(secrets.choice(alphabet) for i in range(length))\";\n",
       "                var nbb_cells = Jupyter.notebook.get_cells();\n",
       "                for (var i = 0; i < nbb_cells.length; ++i) {\n",
       "                    if (nbb_cells[i].input_prompt_number == nbb_cell_id) {\n",
       "                        if (nbb_cells[i].get_text() == nbb_unformatted_code) {\n",
       "                             nbb_cells[i].set_text(nbb_formatted_code);\n",
       "                        }\n",
       "                        break;\n",
       "                    }\n",
       "                }\n",
       "            }, 500);\n",
       "            "
      ],
      "text/plain": [
       "<IPython.core.display.Javascript object>"
      ]
     },
     "metadata": {},
     "output_type": "display_data"
    }
   ],
   "source": [
    "def create_secret(length=32):\n",
    "    alphabet = string.ascii_letters + string.digits\n",
    "    return \"\".join(secrets.choice(alphabet) for i in range(length))"
   ]
  },
  {
   "cell_type": "code",
   "execution_count": 6,
   "id": "06f6c82a-1647-4b81-90bf-6306504e7c82",
   "metadata": {},
   "outputs": [
    {
     "data": {
      "application/javascript": [
       "\n",
       "            setTimeout(function() {\n",
       "                var nbb_cell_id = 6;\n",
       "                var nbb_unformatted_code = \"fqdn = \\\"podlove.wp.staging.django-cast.com\\\"\\nunderscored_fqdn = fqdn.replace(\\\".\\\", \\\"_\\\")\\nsite_id = f\\\"wp_{underscored_fqdn}\\\"\\nenv = {\\n    \\\"fqdn\\\": fqdn,\\n    \\\"site_id\\\": site_id,\\n    \\\"user_name\\\": \\\"wp_1\\\",\\n    \\\"database_name\\\": site_id,\\n    \\\"database_user\\\": site_id,\\n    \\\"database_password\\\": create_secret(),\\n    \\\"port\\\": 12001,\\n    \\\"auth_key\\\": create_secret(),\\n    \\\"secure_auth_key\\\": create_secret(),\\n    \\\"logged_in_key\\\": create_secret(),\\n    \\\"nonce_key\\\": create_secret(),\\n    \\\"auth_salt\\\": create_secret(),\\n    \\\"secure_auth_salt\\\": create_secret(),\\n    \\\"logged_in_salt\\\": create_secret(),\\n    \\\"nonce_salt\\\": create_secret(),\\n}\\n# env\";\n",
       "                var nbb_formatted_code = \"fqdn = \\\"podlove.wp.staging.django-cast.com\\\"\\nunderscored_fqdn = fqdn.replace(\\\".\\\", \\\"_\\\")\\nsite_id = f\\\"wp_{underscored_fqdn}\\\"\\nenv = {\\n    \\\"fqdn\\\": fqdn,\\n    \\\"site_id\\\": site_id,\\n    \\\"user_name\\\": \\\"wp_1\\\",\\n    \\\"database_name\\\": site_id,\\n    \\\"database_user\\\": site_id,\\n    \\\"database_password\\\": create_secret(),\\n    \\\"port\\\": 12001,\\n    \\\"auth_key\\\": create_secret(),\\n    \\\"secure_auth_key\\\": create_secret(),\\n    \\\"logged_in_key\\\": create_secret(),\\n    \\\"nonce_key\\\": create_secret(),\\n    \\\"auth_salt\\\": create_secret(),\\n    \\\"secure_auth_salt\\\": create_secret(),\\n    \\\"logged_in_salt\\\": create_secret(),\\n    \\\"nonce_salt\\\": create_secret(),\\n}\\n# env\";\n",
       "                var nbb_cells = Jupyter.notebook.get_cells();\n",
       "                for (var i = 0; i < nbb_cells.length; ++i) {\n",
       "                    if (nbb_cells[i].input_prompt_number == nbb_cell_id) {\n",
       "                        if (nbb_cells[i].get_text() == nbb_unformatted_code) {\n",
       "                             nbb_cells[i].set_text(nbb_formatted_code);\n",
       "                        }\n",
       "                        break;\n",
       "                    }\n",
       "                }\n",
       "            }, 500);\n",
       "            "
      ],
      "text/plain": [
       "<IPython.core.display.Javascript object>"
      ]
     },
     "metadata": {},
     "output_type": "display_data"
    }
   ],
   "source": [
    "fqdn = \"podlove.wp.staging.django-cast.com\"\n",
    "underscored_fqdn = fqdn.replace(\".\", \"_\")\n",
    "site_id = f\"wp_{underscored_fqdn}\"\n",
    "env = {\n",
    "    \"fqdn\": fqdn,\n",
    "    \"site_id\": site_id,\n",
    "    \"user_name\": \"wp_1\",\n",
    "    \"database_name\": site_id,\n",
    "    \"database_user\": site_id,\n",
    "    \"database_password\": create_secret(),\n",
    "    \"port\": 12001,\n",
    "    \"auth_key\": create_secret(),\n",
    "    \"secure_auth_key\": create_secret(),\n",
    "    \"logged_in_key\": create_secret(),\n",
    "    \"nonce_key\": create_secret(),\n",
    "    \"auth_salt\": create_secret(),\n",
    "    \"secure_auth_salt\": create_secret(),\n",
    "    \"logged_in_salt\": create_secret(),\n",
    "    \"nonce_salt\": create_secret(),\n",
    "}\n",
    "# env"
   ]
  },
  {
   "cell_type": "markdown",
   "id": "367d49fe-1ceb-41d8-967c-dd1abaf4d63e",
   "metadata": {},
   "source": [
    "### Get Service Token"
   ]
  },
  {
   "cell_type": "code",
   "execution_count": 7,
   "id": "15ea9f97-a393-42e4-9221-be63e4c65e4c",
   "metadata": {},
   "outputs": [
    {
     "data": {
      "application/javascript": [
       "\n",
       "            setTimeout(function() {\n",
       "                var nbb_cell_id = 7;\n",
       "                var nbb_unformatted_code = \"data = {\\\"service\\\": service, \\\"origin\\\": \\\"notebook\\\"}\\nr = client.post(\\\"/service-token\\\", json=data, headers=access_token_headers)\\nservice_token = r.json()[\\\"service_token\\\"]\\nheaders = {\\\"authorization\\\": f\\\"Bearer {service_token}\\\"}\";\n",
       "                var nbb_formatted_code = \"data = {\\\"service\\\": service, \\\"origin\\\": \\\"notebook\\\"}\\nr = client.post(\\\"/service-token\\\", json=data, headers=access_token_headers)\\nservice_token = r.json()[\\\"service_token\\\"]\\nheaders = {\\\"authorization\\\": f\\\"Bearer {service_token}\\\"}\";\n",
       "                var nbb_cells = Jupyter.notebook.get_cells();\n",
       "                for (var i = 0; i < nbb_cells.length; ++i) {\n",
       "                    if (nbb_cells[i].input_prompt_number == nbb_cell_id) {\n",
       "                        if (nbb_cells[i].get_text() == nbb_unformatted_code) {\n",
       "                             nbb_cells[i].set_text(nbb_formatted_code);\n",
       "                        }\n",
       "                        break;\n",
       "                    }\n",
       "                }\n",
       "            }, 500);\n",
       "            "
      ],
      "text/plain": [
       "<IPython.core.display.Javascript object>"
      ]
     },
     "metadata": {},
     "output_type": "display_data"
    }
   ],
   "source": [
    "data = {\"service\": service, \"origin\": \"notebook\"}\n",
    "r = client.post(\"/service-token\", json=data, headers=access_token_headers)\n",
    "service_token = r.json()[\"service_token\"]\n",
    "headers = {\"authorization\": f\"Bearer {service_token}\"}"
   ]
  },
  {
   "cell_type": "code",
   "execution_count": 8,
   "id": "05e73c57-4c4d-4db1-bcdf-c2d624d39e4b",
   "metadata": {},
   "outputs": [
    {
     "name": "stdout",
     "output_type": "stream",
     "text": [
      "{'id': 196, 'service_id': 62, 'origin': 'notebook', 'user': 'jochen', 'started': '2022-06-26T07:29:16.059473+00:00', 'finished': None, 'context': {'env': {'fqdn': 'podlove.wp.staging.django-cast.com', 'site_id': 'wp_podlove_wp_staging_django-cast_com', 'user_name': 'wp_1', 'database_name': 'wp_podlove_wp_staging_django-cast_com', 'database_user': 'wp_podlove_wp_staging_django-cast_com', 'database_password': 'BDIfemFBUnqdNhBYaiaXglch0PN8t4lH', 'port': 12001, 'auth_key': '491EfvbRtraVQXVkzIMg7R4wNWiAXgUF', 'secure_auth_key': 'G2BkoZcGMInY6LyLXhSd8LjV0UblYqvG', 'logged_in_key': 'Lac4kT3VT6j8yAY4VMZttxN3Jja3dmsd', 'nonce_key': '259gAH5ydQfmnc2M2fqbFb5a0kxevYob', 'auth_salt': 'x1mYfblNbe7yQcapNoDDgec8pUpqwEdR', 'secure_auth_salt': 'ZrNzdmYjXM1rxCf5AF5kchb4Yo62alZD', 'logged_in_salt': 'WnKAurchDVvshQjftKXeLRSBkjugv4oO', 'nonce_salt': 'VNAi4AEYMccbNjh4KFTtWNk8JcokudDf'}}, 'details': 'https://deploy.staging.wersdoerfer.de/deployments/196'}\n"
     ]
    },
    {
     "data": {
      "application/javascript": [
       "\n",
       "            setTimeout(function() {\n",
       "                var nbb_cell_id = 8;\n",
       "                var nbb_unformatted_code = \"context = DeploymentContext(env=env)\\nr = client.post(\\\"/deployments/\\\", json=context.dict(), headers=headers)\\nrdata = r.json()\\nprint(rdata)\\ndetails_url = r.json()[\\\"details\\\"]\\n\\n# for i in range(3):\\n#     show_details(details_url)\\n#     sleep(1)\";\n",
       "                var nbb_formatted_code = \"context = DeploymentContext(env=env)\\nr = client.post(\\\"/deployments/\\\", json=context.dict(), headers=headers)\\nrdata = r.json()\\nprint(rdata)\\ndetails_url = r.json()[\\\"details\\\"]\\n\\n# for i in range(3):\\n#     show_details(details_url)\\n#     sleep(1)\";\n",
       "                var nbb_cells = Jupyter.notebook.get_cells();\n",
       "                for (var i = 0; i < nbb_cells.length; ++i) {\n",
       "                    if (nbb_cells[i].input_prompt_number == nbb_cell_id) {\n",
       "                        if (nbb_cells[i].get_text() == nbb_unformatted_code) {\n",
       "                             nbb_cells[i].set_text(nbb_formatted_code);\n",
       "                        }\n",
       "                        break;\n",
       "                    }\n",
       "                }\n",
       "            }, 500);\n",
       "            "
      ],
      "text/plain": [
       "<IPython.core.display.Javascript object>"
      ]
     },
     "metadata": {},
     "output_type": "display_data"
    }
   ],
   "source": [
    "context = DeploymentContext(env=env)\n",
    "r = client.post(\"/deployments/\", json=context.dict(), headers=headers)\n",
    "rdata = r.json()\n",
    "print(rdata)\n",
    "details_url = r.json()[\"details\"]\n",
    "\n",
    "# for i in range(3):\n",
    "#     show_details(details_url)\n",
    "#     sleep(1)"
   ]
  },
  {
   "cell_type": "markdown",
   "id": "89d59508-03b5-48b7-a4da-0e2ba434065f",
   "metadata": {},
   "source": [
    "## Remove Service"
   ]
  },
  {
   "cell_type": "markdown",
   "id": "44a54016-ce6c-49be-8e31-110e42a9946b",
   "metadata": {},
   "source": [
    "### Get Service Token"
   ]
  },
  {
   "cell_type": "code",
   "execution_count": 9,
   "id": "a80ef9f1-0626-4ac9-9668-459862f0bec6",
   "metadata": {},
   "outputs": [
    {
     "data": {
      "application/javascript": [
       "\n",
       "            setTimeout(function() {\n",
       "                var nbb_cell_id = 9;\n",
       "                var nbb_unformatted_code = \"data = {\\\"service\\\": \\\"wordpress_remove\\\", \\\"origin\\\": \\\"notebook\\\"}\\nr = client.post(\\\"/service-token\\\", json=data, headers=access_token_headers)\\nservice_token = r.json()[\\\"service_token\\\"]\\nheaders={\\\"authorization\\\": f\\\"Bearer {service_token}\\\"}\";\n",
       "                var nbb_formatted_code = \"data = {\\\"service\\\": \\\"wordpress_remove\\\", \\\"origin\\\": \\\"notebook\\\"}\\nr = client.post(\\\"/service-token\\\", json=data, headers=access_token_headers)\\nservice_token = r.json()[\\\"service_token\\\"]\\nheaders = {\\\"authorization\\\": f\\\"Bearer {service_token}\\\"}\";\n",
       "                var nbb_cells = Jupyter.notebook.get_cells();\n",
       "                for (var i = 0; i < nbb_cells.length; ++i) {\n",
       "                    if (nbb_cells[i].input_prompt_number == nbb_cell_id) {\n",
       "                        if (nbb_cells[i].get_text() == nbb_unformatted_code) {\n",
       "                             nbb_cells[i].set_text(nbb_formatted_code);\n",
       "                        }\n",
       "                        break;\n",
       "                    }\n",
       "                }\n",
       "            }, 500);\n",
       "            "
      ],
      "text/plain": [
       "<IPython.core.display.Javascript object>"
      ]
     },
     "metadata": {},
     "output_type": "display_data"
    }
   ],
   "source": [
    "data = {\"service\": \"wordpress_remove\", \"origin\": \"notebook\"}\n",
    "r = client.post(\"/service-token\", json=data, headers=access_token_headers)\n",
    "service_token = r.json()[\"service_token\"]\n",
    "headers = {\"authorization\": f\"Bearer {service_token}\"}"
   ]
  },
  {
   "cell_type": "code",
   "execution_count": 10,
   "id": "7091906a-5aeb-4435-8aa8-dd418710ad1c",
   "metadata": {},
   "outputs": [
    {
     "name": "stdout",
     "output_type": "stream",
     "text": [
      "{'id': 197, 'service_id': 63, 'origin': 'notebook', 'user': 'jochen', 'started': '2022-06-26T07:43:04.430760+00:00', 'finished': None, 'context': {'env': {'fqdn': 'podlove.wp.staging.django-cast.com', 'site_id': 'wp_podlove_wp_staging_django-cast_com', 'user_name': 'wp_1', 'database_name': 'wp_podlove_wp_staging_django-cast_com', 'database_user': 'wp_podlove_wp_staging_django-cast_com', 'database_password': 'BDIfemFBUnqdNhBYaiaXglch0PN8t4lH', 'port': 12001, 'auth_key': '491EfvbRtraVQXVkzIMg7R4wNWiAXgUF', 'secure_auth_key': 'G2BkoZcGMInY6LyLXhSd8LjV0UblYqvG', 'logged_in_key': 'Lac4kT3VT6j8yAY4VMZttxN3Jja3dmsd', 'nonce_key': '259gAH5ydQfmnc2M2fqbFb5a0kxevYob', 'auth_salt': 'x1mYfblNbe7yQcapNoDDgec8pUpqwEdR', 'secure_auth_salt': 'ZrNzdmYjXM1rxCf5AF5kchb4Yo62alZD', 'logged_in_salt': 'WnKAurchDVvshQjftKXeLRSBkjugv4oO', 'nonce_salt': 'VNAi4AEYMccbNjh4KFTtWNk8JcokudDf'}}, 'details': 'https://deploy.staging.wersdoerfer.de/deployments/197'}\n"
     ]
    },
    {
     "data": {
      "application/javascript": [
       "\n",
       "            setTimeout(function() {\n",
       "                var nbb_cell_id = 10;\n",
       "                var nbb_unformatted_code = \"context = DeploymentContext(env=env)\\nr = client.post(\\\"/deployments/\\\", json=context.dict(), headers=headers)\\nrdata = r.json()\\nprint(rdata)\\ndetails_url = r.json()[\\\"details\\\"]\";\n",
       "                var nbb_formatted_code = \"context = DeploymentContext(env=env)\\nr = client.post(\\\"/deployments/\\\", json=context.dict(), headers=headers)\\nrdata = r.json()\\nprint(rdata)\\ndetails_url = r.json()[\\\"details\\\"]\";\n",
       "                var nbb_cells = Jupyter.notebook.get_cells();\n",
       "                for (var i = 0; i < nbb_cells.length; ++i) {\n",
       "                    if (nbb_cells[i].input_prompt_number == nbb_cell_id) {\n",
       "                        if (nbb_cells[i].get_text() == nbb_unformatted_code) {\n",
       "                             nbb_cells[i].set_text(nbb_formatted_code);\n",
       "                        }\n",
       "                        break;\n",
       "                    }\n",
       "                }\n",
       "            }, 500);\n",
       "            "
      ],
      "text/plain": [
       "<IPython.core.display.Javascript object>"
      ]
     },
     "metadata": {},
     "output_type": "display_data"
    }
   ],
   "source": [
    "context = DeploymentContext(env=env)\n",
    "r = client.post(\"/deployments/\", json=context.dict(), headers=headers)\n",
    "rdata = r.json()\n",
    "print(rdata)\n",
    "details_url = r.json()[\"details\"]"
   ]
  },
  {
   "cell_type": "code",
   "execution_count": 35,
   "id": "5c99fb9e-3c19-4ff3-a491-d808cf42feba",
   "metadata": {},
   "outputs": [
    {
     "data": {
      "text/plain": [
       "{'fqdn': 'foobar.staging.wersdoerfer.de',\n",
       " 'database_name': 'cast_foobar.staging.wersdoerfer.de',\n",
       " 'database_user': 'cast_foobar.staging.wersdoerfer.de',\n",
       " 'database_password': '6It0n1QGoMM4GtAkGmRr',\n",
       " 'secret_key': '2oCTxJIo9YBpWquiVG5Ks3cJHcIPKZUB',\n",
       " 'port': 10001,\n",
       " 'settings_file_name': 'foobar_staging_wersdoerfer_de'}"
      ]
     },
     "execution_count": 35,
     "metadata": {},
     "output_type": "execute_result"
    },
    {
     "data": {
      "application/javascript": [
       "\n",
       "            setTimeout(function() {\n",
       "                var nbb_cell_id = 35;\n",
       "                var nbb_unformatted_code = \"context.env\";\n",
       "                var nbb_formatted_code = \"context.env\";\n",
       "                var nbb_cells = Jupyter.notebook.get_cells();\n",
       "                for (var i = 0; i < nbb_cells.length; ++i) {\n",
       "                    if (nbb_cells[i].input_prompt_number == nbb_cell_id) {\n",
       "                        if (nbb_cells[i].get_text() == nbb_unformatted_code) {\n",
       "                             nbb_cells[i].set_text(nbb_formatted_code);\n",
       "                        }\n",
       "                        break;\n",
       "                    }\n",
       "                }\n",
       "            }, 500);\n",
       "            "
      ],
      "text/plain": [
       "<IPython.core.display.Javascript object>"
      ]
     },
     "metadata": {},
     "output_type": "display_data"
    }
   ],
   "source": [
    "context.env"
   ]
  },
  {
   "cell_type": "markdown",
   "id": "ef3afed4-d9d6-49e3-a28a-60062b15f22e",
   "metadata": {},
   "source": [
    "# Stuff"
   ]
  },
  {
   "cell_type": "code",
   "execution_count": 31,
   "id": "e4de2375-a0dc-479c-b304-45b9dfc031f8",
   "metadata": {},
   "outputs": [
    {
     "data": {
      "application/javascript": [
       "\n",
       "            setTimeout(function() {\n",
       "                var nbb_cell_id = 31;\n",
       "                var nbb_unformatted_code = \"foo = {\\\"bar\\\": \\\"baz\\\"}\";\n",
       "                var nbb_formatted_code = \"foo = {\\\"bar\\\": \\\"baz\\\"}\";\n",
       "                var nbb_cells = Jupyter.notebook.get_cells();\n",
       "                for (var i = 0; i < nbb_cells.length; ++i) {\n",
       "                    if (nbb_cells[i].input_prompt_number == nbb_cell_id) {\n",
       "                        if (nbb_cells[i].get_text() == nbb_unformatted_code) {\n",
       "                             nbb_cells[i].set_text(nbb_formatted_code);\n",
       "                        }\n",
       "                        break;\n",
       "                    }\n",
       "                }\n",
       "            }, 500);\n",
       "            "
      ],
      "text/plain": [
       "<IPython.core.display.Javascript object>"
      ]
     },
     "metadata": {},
     "output_type": "display_data"
    }
   ],
   "source": [
    "foo = {\"bar\": \"baz\"}"
   ]
  },
  {
   "cell_type": "code",
   "execution_count": 32,
   "id": "1a637757-54a5-4e5c-84bc-fa5080f1407b",
   "metadata": {},
   "outputs": [
    {
     "data": {
      "text/plain": [
       "{'bar': 'baz', 'blub': 'bla'}"
      ]
     },
     "execution_count": 32,
     "metadata": {},
     "output_type": "execute_result"
    },
    {
     "data": {
      "application/javascript": [
       "\n",
       "            setTimeout(function() {\n",
       "                var nbb_cell_id = 32;\n",
       "                var nbb_unformatted_code = \"dict(foo, blub=\\\"bla\\\")\";\n",
       "                var nbb_formatted_code = \"dict(foo, blub=\\\"bla\\\")\";\n",
       "                var nbb_cells = Jupyter.notebook.get_cells();\n",
       "                for (var i = 0; i < nbb_cells.length; ++i) {\n",
       "                    if (nbb_cells[i].input_prompt_number == nbb_cell_id) {\n",
       "                        if (nbb_cells[i].get_text() == nbb_unformatted_code) {\n",
       "                             nbb_cells[i].set_text(nbb_formatted_code);\n",
       "                        }\n",
       "                        break;\n",
       "                    }\n",
       "                }\n",
       "            }, 500);\n",
       "            "
      ],
      "text/plain": [
       "<IPython.core.display.Javascript object>"
      ]
     },
     "metadata": {},
     "output_type": "display_data"
    }
   ],
   "source": [
    "dict(foo, blub=\"bla\")"
   ]
  },
  {
   "cell_type": "code",
   "execution_count": 33,
   "id": "ec798487-7305-42b0-8976-34ac08e1730d",
   "metadata": {},
   "outputs": [
    {
     "data": {
      "text/plain": [
       "{'bar': 'blub'}"
      ]
     },
     "execution_count": 33,
     "metadata": {},
     "output_type": "execute_result"
    },
    {
     "data": {
      "application/javascript": [
       "\n",
       "            setTimeout(function() {\n",
       "                var nbb_cell_id = 33;\n",
       "                var nbb_unformatted_code = \"dict(foo, bar=\\\"blub\\\")\";\n",
       "                var nbb_formatted_code = \"dict(foo, bar=\\\"blub\\\")\";\n",
       "                var nbb_cells = Jupyter.notebook.get_cells();\n",
       "                for (var i = 0; i < nbb_cells.length; ++i) {\n",
       "                    if (nbb_cells[i].input_prompt_number == nbb_cell_id) {\n",
       "                        if (nbb_cells[i].get_text() == nbb_unformatted_code) {\n",
       "                             nbb_cells[i].set_text(nbb_formatted_code);\n",
       "                        }\n",
       "                        break;\n",
       "                    }\n",
       "                }\n",
       "            }, 500);\n",
       "            "
      ],
      "text/plain": [
       "<IPython.core.display.Javascript object>"
      ]
     },
     "metadata": {},
     "output_type": "display_data"
    }
   ],
   "source": [
    "dict(foo, bar=\"blub\")"
   ]
  },
  {
   "cell_type": "code",
   "execution_count": null,
   "id": "9ebb21fd-6c2b-436b-b3d7-d1d5c15d8352",
   "metadata": {},
   "outputs": [],
   "source": []
  }
 ],
 "metadata": {
  "kernelspec": {
   "display_name": "Python 3 (ipykernel)",
   "language": "python",
   "name": "python3"
  },
  "language_info": {
   "codemirror_mode": {
    "name": "ipython",
    "version": 3
   },
   "file_extension": ".py",
   "mimetype": "text/x-python",
   "name": "python",
   "nbconvert_exporter": "python",
   "pygments_lexer": "ipython3",
   "version": "3.10.5"
  }
 },
 "nbformat": 4,
 "nbformat_minor": 5
}
