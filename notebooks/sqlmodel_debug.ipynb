{
 "cells": [
  {
   "cell_type": "code",
   "execution_count": 1,
   "id": "c8f12415",
   "metadata": {},
   "outputs": [],
   "source": [
    "from pathlib import Path\n",
    "\n",
    "from app.auth import get_password_hash\n",
    "from app.config import settings\n",
    "from app.models import User, create_database\n",
    "from sqlmodel import Session, SQLModel, select"
   ]
  },
  {
   "cell_type": "code",
   "execution_count": 8,
   "id": "39555d85",
   "metadata": {},
   "outputs": [
    {
     "name": "stdout",
     "output_type": "stream",
     "text": [
      "database url:  sqlite:///databases/sqlite.db\n"
     ]
    }
   ],
   "source": [
    "create_database()"
   ]
  },
  {
   "cell_type": "code",
   "execution_count": 28,
   "id": "064fefac",
   "metadata": {},
   "outputs": [
    {
     "name": "stdout",
     "output_type": "stream",
     "text": [
      "id=None name='user' password='$2b$12$CpQwgr/Jtc9zF4/Vfw0SEefRCGiJ.GMaDSpL8f/Ye6z5soKyclpLe' is_active=True\n"
     ]
    }
   ],
   "source": [
    "user = User(name=\"user\", password=get_password_hash(\"password\"), is_active=True)\n",
    "print(user)"
   ]
  },
  {
   "cell_type": "code",
   "execution_count": 29,
   "id": "9fe6ddd5",
   "metadata": {},
   "outputs": [],
   "source": [
    "with Session(settings.db_engine) as session:\n",
    "    session.add(user)\n",
    "    session.commit()\n",
    "    session.refresh(user)"
   ]
  },
  {
   "cell_type": "code",
   "execution_count": 30,
   "id": "79cc0e96",
   "metadata": {},
   "outputs": [
    {
     "name": "stdout",
     "output_type": "stream",
     "text": [
      "1\n"
     ]
    }
   ],
   "source": [
    "print(user.id)"
   ]
  },
  {
   "cell_type": "code",
   "execution_count": 31,
   "id": "6ffde813",
   "metadata": {},
   "outputs": [],
   "source": [
    "with Session(settings.db_engine) as session:\n",
    "    statement = select(User).where(User.name == \"user\")\n",
    "    results = session.exec(statement)\n",
    "    user = results.first()"
   ]
  },
  {
   "cell_type": "code",
   "execution_count": 32,
   "id": "2b8e2736",
   "metadata": {},
   "outputs": [
    {
     "data": {
      "text/plain": [
       "User(id=1, password='$2b$12$CpQwgr/Jtc9zF4/Vfw0SEefRCGiJ.GMaDSpL8f/Ye6z5soKyclpLe', name='user', is_active=True)"
      ]
     },
     "execution_count": 32,
     "metadata": {},
     "output_type": "execute_result"
    }
   ],
   "source": [
    "user"
   ]
  },
  {
   "cell_type": "code",
   "execution_count": 33,
   "id": "ff17832b",
   "metadata": {},
   "outputs": [
    {
     "data": {
      "text/plain": [
       "'user'"
      ]
     },
     "execution_count": 33,
     "metadata": {},
     "output_type": "execute_result"
    }
   ],
   "source": [
    "user.name"
   ]
  },
  {
   "cell_type": "code",
   "execution_count": 23,
   "id": "2c3d39db",
   "metadata": {},
   "outputs": [],
   "source": [
    "user = User(name=\"user\", password=get_password_hash(\"password\"), is_active=True)"
   ]
  },
  {
   "cell_type": "code",
   "execution_count": 24,
   "id": "ca173675",
   "metadata": {},
   "outputs": [
    {
     "data": {
      "text/plain": [
       "User(id=None, name='user', password='$2b$12$ujQriBRcmzjjupH8.1DAbe/FPHSoTYsljZ13VWbKmWwXzAo9YKDJ.', is_active=True)"
      ]
     },
     "execution_count": 24,
     "metadata": {},
     "output_type": "execute_result"
    }
   ],
   "source": [
    "user.copy()"
   ]
  },
  {
   "cell_type": "code",
   "execution_count": 25,
   "id": "bdc540c3",
   "metadata": {},
   "outputs": [
    {
     "data": {
      "text/plain": [
       "'{\"id\": null, \"name\": \"user\", \"password\": \"$2b$12$ujQriBRcmzjjupH8.1DAbe/FPHSoTYsljZ13VWbKmWwXzAo9YKDJ.\", \"is_active\": true}'"
      ]
     },
     "execution_count": 25,
     "metadata": {},
     "output_type": "execute_result"
    }
   ],
   "source": [
    "user.json()"
   ]
  },
  {
   "cell_type": "code",
   "execution_count": 26,
   "id": "23214e7d",
   "metadata": {},
   "outputs": [
    {
     "data": {
      "text/plain": [
       "User(id=None, name='user', password='$2b$12$ujQriBRcmzjjupH8.1DAbe/FPHSoTYsljZ13VWbKmWwXzAo9YKDJ.', is_active=True)"
      ]
     },
     "execution_count": 26,
     "metadata": {},
     "output_type": "execute_result"
    }
   ],
   "source": [
    "user"
   ]
  },
  {
   "cell_type": "code",
   "execution_count": 4,
   "id": "7280e459",
   "metadata": {},
   "outputs": [],
   "source": [
    "from app.routers.users import UserOut"
   ]
  },
  {
   "cell_type": "code",
   "execution_count": 5,
   "id": "c90b0226",
   "metadata": {},
   "outputs": [
    {
     "data": {
      "text/plain": [
       "UserOut(id=1, name='user')"
      ]
     },
     "execution_count": 5,
     "metadata": {},
     "output_type": "execute_result"
    }
   ],
   "source": [
    "UserOut(**user.dict())"
   ]
  },
  {
   "cell_type": "code",
   "execution_count": 6,
   "id": "e0d8a4a0",
   "metadata": {},
   "outputs": [
    {
     "data": {
      "text/plain": [
       "UserOut(id=1, name='user')"
      ]
     },
     "execution_count": 6,
     "metadata": {},
     "output_type": "execute_result"
    }
   ],
   "source": [
    "UserOut.from_orm(user)"
   ]
  },
  {
   "cell_type": "code",
   "execution_count": 36,
   "id": "32b9d334",
   "metadata": {
    "scrolled": true
   },
   "outputs": [
    {
     "data": {
      "text/plain": [
       "['Config',\n",
       " '__abstractmethods__',\n",
       " '__annotations__',\n",
       " '__class__',\n",
       " '__class_vars__',\n",
       " '__config__',\n",
       " '__custom_root_type__',\n",
       " '__delattr__',\n",
       " '__dict__',\n",
       " '__dir__',\n",
       " '__doc__',\n",
       " '__eq__',\n",
       " '__fields__',\n",
       " '__fields_set__',\n",
       " '__format__',\n",
       " '__ge__',\n",
       " '__get_validators__',\n",
       " '__getattribute__',\n",
       " '__getstate__',\n",
       " '__gt__',\n",
       " '__hash__',\n",
       " '__init__',\n",
       " '__init_subclass__',\n",
       " '__iter__',\n",
       " '__json_encoder__',\n",
       " '__le__',\n",
       " '__lt__',\n",
       " '__module__',\n",
       " '__ne__',\n",
       " '__new__',\n",
       " '__post_root_validators__',\n",
       " '__pre_root_validators__',\n",
       " '__pretty__',\n",
       " '__private_attributes__',\n",
       " '__reduce__',\n",
       " '__reduce_ex__',\n",
       " '__repr__',\n",
       " '__repr_args__',\n",
       " '__repr_name__',\n",
       " '__repr_str__',\n",
       " '__schema_cache__',\n",
       " '__setattr__',\n",
       " '__setstate__',\n",
       " '__signature__',\n",
       " '__sizeof__',\n",
       " '__slots__',\n",
       " '__str__',\n",
       " '__subclasshook__',\n",
       " '__validators__',\n",
       " '_abc_impl',\n",
       " '_calculate_keys',\n",
       " '_decompose_class',\n",
       " '_enforce_dict_if_root',\n",
       " '_get_value',\n",
       " '_init_private_attributes',\n",
       " '_iter',\n",
       " 'construct',\n",
       " 'copy',\n",
       " 'dict',\n",
       " 'from_orm',\n",
       " 'json',\n",
       " 'parse_file',\n",
       " 'parse_obj',\n",
       " 'parse_raw',\n",
       " 'schema',\n",
       " 'schema_json',\n",
       " 'update_forward_refs',\n",
       " 'validate']"
      ]
     },
     "execution_count": 36,
     "metadata": {},
     "output_type": "execute_result"
    }
   ],
   "source": [
    "dir(UserOut)"
   ]
  },
  {
   "cell_type": "code",
   "execution_count": 37,
   "id": "8973bea6",
   "metadata": {},
   "outputs": [
    {
     "ename": "ConfigError",
     "evalue": "You must have the config attribute orm_mode=True to use from_orm",
     "output_type": "error",
     "traceback": [
      "\u001b[0;31m---------------------------------------------------------------------------\u001b[0m",
      "\u001b[0;31mConfigError\u001b[0m                               Traceback (most recent call last)",
      "\u001b[0;32m/var/folders/35/mhty_0hd42ddfvyk3_09f1hc0000gn/T/ipykernel_65610/3165474525.py\u001b[0m in \u001b[0;36m<module>\u001b[0;34m\u001b[0m\n\u001b[0;32m----> 1\u001b[0;31m \u001b[0mUserOut\u001b[0m\u001b[0;34m.\u001b[0m\u001b[0mfrom_orm\u001b[0m\u001b[0;34m(\u001b[0m\u001b[0muser\u001b[0m\u001b[0;34m)\u001b[0m\u001b[0;34m\u001b[0m\u001b[0;34m\u001b[0m\u001b[0m\n\u001b[0m",
      "\u001b[0;32m~/.virtualenvs/fd/lib/python3.10/site-packages/pydantic/main.py\u001b[0m in \u001b[0;36mfrom_orm\u001b[0;34m(cls, obj)\u001b[0m\n\u001b[1;32m    624\u001b[0m     \u001b[0;32mdef\u001b[0m \u001b[0mfrom_orm\u001b[0m\u001b[0;34m(\u001b[0m\u001b[0mcls\u001b[0m\u001b[0;34m:\u001b[0m \u001b[0mType\u001b[0m\u001b[0;34m[\u001b[0m\u001b[0;34m'Model'\u001b[0m\u001b[0;34m]\u001b[0m\u001b[0;34m,\u001b[0m \u001b[0mobj\u001b[0m\u001b[0;34m:\u001b[0m \u001b[0mAny\u001b[0m\u001b[0;34m)\u001b[0m \u001b[0;34m->\u001b[0m \u001b[0;34m'Model'\u001b[0m\u001b[0;34m:\u001b[0m\u001b[0;34m\u001b[0m\u001b[0;34m\u001b[0m\u001b[0m\n\u001b[1;32m    625\u001b[0m         \u001b[0;32mif\u001b[0m \u001b[0;32mnot\u001b[0m \u001b[0mcls\u001b[0m\u001b[0;34m.\u001b[0m\u001b[0m__config__\u001b[0m\u001b[0;34m.\u001b[0m\u001b[0morm_mode\u001b[0m\u001b[0;34m:\u001b[0m\u001b[0;34m\u001b[0m\u001b[0;34m\u001b[0m\u001b[0m\n\u001b[0;32m--> 626\u001b[0;31m             \u001b[0;32mraise\u001b[0m \u001b[0mConfigError\u001b[0m\u001b[0;34m(\u001b[0m\u001b[0;34m'You must have the config attribute orm_mode=True to use from_orm'\u001b[0m\u001b[0;34m)\u001b[0m\u001b[0;34m\u001b[0m\u001b[0;34m\u001b[0m\u001b[0m\n\u001b[0m\u001b[1;32m    627\u001b[0m         \u001b[0mobj\u001b[0m \u001b[0;34m=\u001b[0m \u001b[0;34m{\u001b[0m\u001b[0mROOT_KEY\u001b[0m\u001b[0;34m:\u001b[0m \u001b[0mobj\u001b[0m\u001b[0;34m}\u001b[0m \u001b[0;32mif\u001b[0m \u001b[0mcls\u001b[0m\u001b[0;34m.\u001b[0m\u001b[0m__custom_root_type__\u001b[0m \u001b[0;32melse\u001b[0m \u001b[0mcls\u001b[0m\u001b[0;34m.\u001b[0m\u001b[0m_decompose_class\u001b[0m\u001b[0;34m(\u001b[0m\u001b[0mobj\u001b[0m\u001b[0;34m)\u001b[0m\u001b[0;34m\u001b[0m\u001b[0;34m\u001b[0m\u001b[0m\n\u001b[1;32m    628\u001b[0m         \u001b[0mm\u001b[0m \u001b[0;34m=\u001b[0m \u001b[0mcls\u001b[0m\u001b[0;34m.\u001b[0m\u001b[0m__new__\u001b[0m\u001b[0;34m(\u001b[0m\u001b[0mcls\u001b[0m\u001b[0;34m)\u001b[0m\u001b[0;34m\u001b[0m\u001b[0;34m\u001b[0m\u001b[0m\n",
      "\u001b[0;31mConfigError\u001b[0m: You must have the config attribute orm_mode=True to use from_orm"
     ]
    }
   ],
   "source": [
    "UserOut.from_orm(user)"
   ]
  },
  {
   "cell_type": "code",
   "execution_count": 7,
   "id": "5184046b",
   "metadata": {},
   "outputs": [],
   "source": []
  },
  {
   "cell_type": "code",
   "execution_count": 8,
   "id": "f9f3edac",
   "metadata": {},
   "outputs": [
    {
     "data": {
      "text/plain": [
       "PosixPath('/Users/jochen/projects/fastdeploy/notebooks')"
      ]
     },
     "execution_count": 8,
     "metadata": {},
     "output_type": "execute_result"
    }
   ],
   "source": [
    "Path.cwd()"
   ]
  },
  {
   "cell_type": "code",
   "execution_count": 7,
   "id": "3dc66100",
   "metadata": {},
   "outputs": [],
   "source": [
    "from datetime import datetime"
   ]
  },
  {
   "cell_type": "code",
   "execution_count": 9,
   "id": "97e18ae3",
   "metadata": {},
   "outputs": [
    {
     "data": {
      "text/plain": [
       "'2021-10-16 16:02:41'"
      ]
     },
     "execution_count": 9,
     "metadata": {},
     "output_type": "execute_result"
    }
   ],
   "source": [
    "datetime.now().strftime(\"%Y-%m-%d %H:%M:%S\")"
   ]
  },
  {
   "cell_type": "code",
   "execution_count": 10,
   "id": "867ad60f",
   "metadata": {},
   "outputs": [
    {
     "data": {
      "text/plain": [
       "'2021-10-16T16:03:06.290224'"
      ]
     },
     "execution_count": 10,
     "metadata": {},
     "output_type": "execute_result"
    }
   ],
   "source": [
    "datetime.now().isoformat()"
   ]
  },
  {
   "cell_type": "code",
   "execution_count": 8,
   "id": "e0b2d9ad",
   "metadata": {},
   "outputs": [],
   "source": []
  },
  {
   "cell_type": "code",
   "execution_count": 9,
   "id": "59442277",
   "metadata": {},
   "outputs": [
    {
     "data": {
      "text/plain": [
       "User(id=None, name='user', password='$2b$12$B6RyNn0.yxdtnaZBmC7DaeEdhkAAZBkf4xg.5/T2DbXfsnlJZ/ca.', is_active=True)"
      ]
     },
     "execution_count": 9,
     "metadata": {},
     "output_type": "execute_result"
    }
   ],
   "source": [
    "user"
   ]
  },
  {
   "cell_type": "code",
   "execution_count": 34,
   "id": "2c3c5072",
   "metadata": {},
   "outputs": [
    {
     "ename": "InvalidRequestError",
     "evalue": "Instance '<User at 0x11246c740>' is not persistent within this Session",
     "output_type": "error",
     "traceback": [
      "\u001b[0;31m---------------------------------------------------------------------------\u001b[0m",
      "\u001b[0;31mInvalidRequestError\u001b[0m                       Traceback (most recent call last)",
      "\u001b[0;32m/var/folders/dg/20nm141d3hj2hv67hjl6zmkc0000gn/T/ipykernel_80397/2165248106.py\u001b[0m in \u001b[0;36m<module>\u001b[0;34m\u001b[0m\n\u001b[1;32m      2\u001b[0m     \u001b[0msession\u001b[0m\u001b[0;34m.\u001b[0m\u001b[0mdelete\u001b[0m\u001b[0;34m(\u001b[0m\u001b[0muser\u001b[0m\u001b[0;34m)\u001b[0m\u001b[0;34m\u001b[0m\u001b[0;34m\u001b[0m\u001b[0m\n\u001b[1;32m      3\u001b[0m     \u001b[0msession\u001b[0m\u001b[0;34m.\u001b[0m\u001b[0mcommit\u001b[0m\u001b[0;34m(\u001b[0m\u001b[0;34m)\u001b[0m\u001b[0;34m\u001b[0m\u001b[0;34m\u001b[0m\u001b[0m\n\u001b[0;32m----> 4\u001b[0;31m     \u001b[0msession\u001b[0m\u001b[0;34m.\u001b[0m\u001b[0mrefresh\u001b[0m\u001b[0;34m(\u001b[0m\u001b[0muser\u001b[0m\u001b[0;34m)\u001b[0m\u001b[0;34m\u001b[0m\u001b[0;34m\u001b[0m\u001b[0m\n\u001b[0m",
      "\u001b[0;32m~/.virtualenvs/fd/lib/python3.10/site-packages/sqlalchemy/orm/session.py\u001b[0m in \u001b[0;36mrefresh\u001b[0;34m(self, instance, attribute_names, with_for_update)\u001b[0m\n\u001b[1;32m   2299\u001b[0m             )\n\u001b[1;32m   2300\u001b[0m \u001b[0;34m\u001b[0m\u001b[0m\n\u001b[0;32m-> 2301\u001b[0;31m         \u001b[0mself\u001b[0m\u001b[0;34m.\u001b[0m\u001b[0m_expire_state\u001b[0m\u001b[0;34m(\u001b[0m\u001b[0mstate\u001b[0m\u001b[0;34m,\u001b[0m \u001b[0mattribute_names\u001b[0m\u001b[0;34m)\u001b[0m\u001b[0;34m\u001b[0m\u001b[0;34m\u001b[0m\u001b[0m\n\u001b[0m\u001b[1;32m   2302\u001b[0m \u001b[0;34m\u001b[0m\u001b[0m\n\u001b[1;32m   2303\u001b[0m         \u001b[0;32mif\u001b[0m \u001b[0mwith_for_update\u001b[0m \u001b[0;34m==\u001b[0m \u001b[0;34m{\u001b[0m\u001b[0;34m}\u001b[0m\u001b[0;34m:\u001b[0m\u001b[0;34m\u001b[0m\u001b[0;34m\u001b[0m\u001b[0m\n",
      "\u001b[0;32m~/.virtualenvs/fd/lib/python3.10/site-packages/sqlalchemy/orm/session.py\u001b[0m in \u001b[0;36m_expire_state\u001b[0;34m(self, state, attribute_names)\u001b[0m\n\u001b[1;32m   2408\u001b[0m \u001b[0;34m\u001b[0m\u001b[0m\n\u001b[1;32m   2409\u001b[0m     \u001b[0;32mdef\u001b[0m \u001b[0m_expire_state\u001b[0m\u001b[0;34m(\u001b[0m\u001b[0mself\u001b[0m\u001b[0;34m,\u001b[0m \u001b[0mstate\u001b[0m\u001b[0;34m,\u001b[0m \u001b[0mattribute_names\u001b[0m\u001b[0;34m)\u001b[0m\u001b[0;34m:\u001b[0m\u001b[0;34m\u001b[0m\u001b[0;34m\u001b[0m\u001b[0m\n\u001b[0;32m-> 2410\u001b[0;31m         \u001b[0mself\u001b[0m\u001b[0;34m.\u001b[0m\u001b[0m_validate_persistent\u001b[0m\u001b[0;34m(\u001b[0m\u001b[0mstate\u001b[0m\u001b[0;34m)\u001b[0m\u001b[0;34m\u001b[0m\u001b[0;34m\u001b[0m\u001b[0m\n\u001b[0m\u001b[1;32m   2411\u001b[0m         \u001b[0;32mif\u001b[0m \u001b[0mattribute_names\u001b[0m\u001b[0;34m:\u001b[0m\u001b[0;34m\u001b[0m\u001b[0;34m\u001b[0m\u001b[0m\n\u001b[1;32m   2412\u001b[0m             \u001b[0mstate\u001b[0m\u001b[0;34m.\u001b[0m\u001b[0m_expire_attributes\u001b[0m\u001b[0;34m(\u001b[0m\u001b[0mstate\u001b[0m\u001b[0;34m.\u001b[0m\u001b[0mdict\u001b[0m\u001b[0;34m,\u001b[0m \u001b[0mattribute_names\u001b[0m\u001b[0;34m)\u001b[0m\u001b[0;34m\u001b[0m\u001b[0;34m\u001b[0m\u001b[0m\n",
      "\u001b[0;32m~/.virtualenvs/fd/lib/python3.10/site-packages/sqlalchemy/orm/session.py\u001b[0m in \u001b[0;36m_validate_persistent\u001b[0;34m(self, state)\u001b[0m\n\u001b[1;32m   3115\u001b[0m     \u001b[0;32mdef\u001b[0m \u001b[0m_validate_persistent\u001b[0m\u001b[0;34m(\u001b[0m\u001b[0mself\u001b[0m\u001b[0;34m,\u001b[0m \u001b[0mstate\u001b[0m\u001b[0;34m)\u001b[0m\u001b[0;34m:\u001b[0m\u001b[0;34m\u001b[0m\u001b[0;34m\u001b[0m\u001b[0m\n\u001b[1;32m   3116\u001b[0m         \u001b[0;32mif\u001b[0m \u001b[0;32mnot\u001b[0m \u001b[0mself\u001b[0m\u001b[0;34m.\u001b[0m\u001b[0midentity_map\u001b[0m\u001b[0;34m.\u001b[0m\u001b[0mcontains_state\u001b[0m\u001b[0;34m(\u001b[0m\u001b[0mstate\u001b[0m\u001b[0;34m)\u001b[0m\u001b[0;34m:\u001b[0m\u001b[0;34m\u001b[0m\u001b[0;34m\u001b[0m\u001b[0m\n\u001b[0;32m-> 3117\u001b[0;31m             raise sa_exc.InvalidRequestError(\n\u001b[0m\u001b[1;32m   3118\u001b[0m                 \u001b[0;34m\"Instance '%s' is not persistent within this Session\"\u001b[0m\u001b[0;34m\u001b[0m\u001b[0;34m\u001b[0m\u001b[0m\n\u001b[1;32m   3119\u001b[0m                 \u001b[0;34m%\u001b[0m \u001b[0mstate_str\u001b[0m\u001b[0;34m(\u001b[0m\u001b[0mstate\u001b[0m\u001b[0;34m)\u001b[0m\u001b[0;34m\u001b[0m\u001b[0;34m\u001b[0m\u001b[0m\n",
      "\u001b[0;31mInvalidRequestError\u001b[0m: Instance '<User at 0x11246c740>' is not persistent within this Session"
     ]
    }
   ],
   "source": [
    "with Session(settings.db_engine) as session:\n",
    "    session.delete(user)\n",
    "    session.commit()"
   ]
  },
  {
   "cell_type": "code",
   "execution_count": 35,
   "id": "213d951f",
   "metadata": {},
   "outputs": [
    {
     "data": {
      "text/plain": [
       "1"
      ]
     },
     "execution_count": 35,
     "metadata": {},
     "output_type": "execute_result"
    }
   ],
   "source": [
    "user.id"
   ]
  },
  {
   "cell_type": "code",
   "execution_count": 3,
   "id": "a1a655db",
   "metadata": {},
   "outputs": [
    {
     "data": {
      "text/plain": [
       "['__class__',\n",
       " '__class_getitem__',\n",
       " '__contains__',\n",
       " '__delattr__',\n",
       " '__dict__',\n",
       " '__dir__',\n",
       " '__doc__',\n",
       " '__eq__',\n",
       " '__format__',\n",
       " '__ge__',\n",
       " '__getattribute__',\n",
       " '__getstate__',\n",
       " '__gt__',\n",
       " '__hash__',\n",
       " '__init__',\n",
       " '__init_subclass__',\n",
       " '__le__',\n",
       " '__lt__',\n",
       " '__module__',\n",
       " '__ne__',\n",
       " '__new__',\n",
       " '__reduce__',\n",
       " '__reduce_ex__',\n",
       " '__repr__',\n",
       " '__setattr__',\n",
       " '__setstate__',\n",
       " '__sizeof__',\n",
       " '__str__',\n",
       " '__subclasshook__',\n",
       " '__visit_name__',\n",
       " '__weakref__',\n",
       " '_add_table',\n",
       " '_bind',\n",
       " '_bind_to',\n",
       " '_compiler_dispatch',\n",
       " '_fk_memos',\n",
       " '_init_items',\n",
       " '_original_compiler_dispatch',\n",
       " '_remove_table',\n",
       " '_schema_item_copy',\n",
       " '_schemas',\n",
       " '_sequences',\n",
       " '_set_parent',\n",
       " '_set_parent_with_dispatch',\n",
       " '_use_schema_map',\n",
       " 'bind',\n",
       " 'clear',\n",
       " 'create_all',\n",
       " 'create_drop_stringify_dialect',\n",
       " 'dispatch',\n",
       " 'drop_all',\n",
       " 'get_children',\n",
       " 'info',\n",
       " 'is_bound',\n",
       " 'naming_convention',\n",
       " 'reflect',\n",
       " 'remove',\n",
       " 'schema',\n",
       " 'sorted_tables',\n",
       " 'tables']"
      ]
     },
     "execution_count": 3,
     "metadata": {},
     "output_type": "execute_result"
    }
   ],
   "source": [
    "dir(SQLModel.metadata)"
   ]
  },
  {
   "cell_type": "code",
   "execution_count": 4,
   "id": "635fe50b",
   "metadata": {},
   "outputs": [
    {
     "data": {
      "text/plain": [
       "FacadeDict({'user': Table('user', MetaData(), Column('name', String(), table=<user>), Column('id', Integer(), table=<user>, primary_key=True), Column('password', AutoString(), table=<user>, nullable=False), Column('is_active', Boolean(), table=<user>, nullable=False), schema=None), 'deployment': Table('deployment', MetaData(), Column('id', Integer(), table=<deployment>, primary_key=True), schema=None)})"
      ]
     },
     "execution_count": 4,
     "metadata": {},
     "output_type": "execute_result"
    }
   ],
   "source": [
    "SQLModel.metadata.tables"
   ]
  },
  {
   "cell_type": "code",
   "execution_count": 9,
   "id": "62c7c644",
   "metadata": {},
   "outputs": [
    {
     "data": {
      "text/plain": [
       "Engine(sqlite:///databases/sqlite.db)"
      ]
     },
     "execution_count": 9,
     "metadata": {},
     "output_type": "execute_result"
    }
   ],
   "source": [
    "settings.db_engine"
   ]
  },
  {
   "cell_type": "code",
   "execution_count": 10,
   "id": "4cb633ff",
   "metadata": {},
   "outputs": [],
   "source": [
    "SQLModel.metadata.drop_all(settings.db_engine)"
   ]
  },
  {
   "cell_type": "code",
   "execution_count": null,
   "id": "cc21c066",
   "metadata": {},
   "outputs": [],
   "source": []
  }
 ],
 "metadata": {
  "kernelspec": {
   "display_name": "Python 3 (ipykernel)",
   "language": "python",
   "name": "python3"
  },
  "language_info": {
   "codemirror_mode": {
    "name": "ipython",
    "version": 3
   },
   "file_extension": ".py",
   "mimetype": "text/x-python",
   "name": "python",
   "nbconvert_exporter": "python",
   "pygments_lexer": "ipython3",
   "version": "3.10.0"
  }
 },
 "nbformat": 4,
 "nbformat_minor": 5
}
