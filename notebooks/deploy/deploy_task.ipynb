{
 "cells": [
  {
   "cell_type": "code",
   "execution_count": 24,
   "metadata": {},
   "outputs": [],
   "source": [
    "import json\n",
    "from datetime import datetime, timezone\n",
    "\n",
    "from deploy.entrypoints.routers.helper_models import Step as PStep\n",
    "from deploy.tasks import DeployTask"
   ]
  },
  {
   "cell_type": "code",
   "execution_count": 8,
   "metadata": {},
   "outputs": [],
   "source": [
    "dt = DeployTask(\n",
    "    context={},\n",
    "    deploy_script=\"deploy.py\",\n",
    "    access_token=\"\",\n",
    "    steps_url=\"\",\n",
    "    deployment_finish_url=\"\",\n",
    "    path_for_deploy=\"/tmp/deploy\",\n",
    ")"
   ]
  },
  {
   "cell_type": "code",
   "execution_count": 6,
   "metadata": {},
   "outputs": [
    {
     "data": {
      "text/plain": [
       "DeployTask(deploy_script='deploy.py', access_token='', steps_url='', deployment_finish_url='', context=DeploymentContext(env={}), path_for_deploy='/Users/jochen/.virtualenvs/fd/bin:/Users/jochen/.pyenv/bin:/opt/homebrew/opt/icu4c/sbin:/opt/homebrew/opt/icu4c/bin:/Users/jochen/Library/Python/3.10/bin:/usr/local/opt/icu4c/sbin:/opt/homebrew/bin:/usr/local/bin:/usr/bin:/bin:/usr/sbin:/sbin:/usr/local/bin:/usr/local/sbin', attempts=3, sleep_on_fail=3.0, client=None)"
      ]
     },
     "execution_count": 6,
     "metadata": {},
     "output_type": "execute_result"
    }
   ],
   "source": [
    "dt"
   ]
  },
  {
   "cell_type": "code",
   "execution_count": 15,
   "metadata": {},
   "outputs": [],
   "source": [
    "step = PStep(\n",
    "    name=\"asdf\",\n",
    "    started=datetime.now(timezone.utc),\n",
    "    deployment_id=2,\n",
    "    state=\"success\",\n",
    "    message=\"\",\n",
    "    id=1,\n",
    "    finished=datetime.now(timezone.utc),\n",
    ")"
   ]
  },
  {
   "cell_type": "code",
   "execution_count": 17,
   "metadata": {},
   "outputs": [
    {
     "data": {
      "text/plain": [
       "'{\"name\": \"asdf\", \"deployment_id\": 2, \"state\": \"success\", \"started\": \"2022-03-10T16:47:38.785063+00:00\", \"finished\": \"2022-03-10T16:47:38.785065+00:00\", \"message\": \"\", \"id\": 1}'"
      ]
     },
     "execution_count": 17,
     "metadata": {},
     "output_type": "execute_result"
    }
   ],
   "source": [
    "step.json()"
   ]
  },
  {
   "cell_type": "code",
   "execution_count": 22,
   "metadata": {},
   "outputs": [
    {
     "data": {
      "text/plain": [
       "'2022-03-10T16:50:31.251623+00:00'"
      ]
     },
     "execution_count": 22,
     "metadata": {},
     "output_type": "execute_result"
    }
   ],
   "source": [
    "datetime.now(timezone.utc).isoformat()"
   ]
  },
  {
   "cell_type": "code",
   "execution_count": 23,
   "metadata": {},
   "outputs": [],
   "source": [
    "now = datetime.now(timezone.utc)\n",
    "step.started = now"
   ]
  },
  {
   "cell_type": "code",
   "execution_count": 26,
   "metadata": {},
   "outputs": [
    {
     "data": {
      "text/plain": [
       "True"
      ]
     },
     "execution_count": 26,
     "metadata": {},
     "output_type": "execute_result"
    }
   ],
   "source": [
    "json.loads(step.json())[\"started\"] == now.isoformat()"
   ]
  },
  {
   "cell_type": "code",
   "execution_count": null,
   "metadata": {},
   "outputs": [],
   "source": []
  }
 ],
 "metadata": {
  "interpreter": {
   "hash": "befd363572f0a69d6b5d5179b97b7e1a54c5935c4f5338469720cbebddca079c"
  },
  "kernelspec": {
   "display_name": "Python 3.10.2 ('fd')",
   "language": "python",
   "name": "python3"
  },
  "language_info": {
   "codemirror_mode": {
    "name": "ipython",
    "version": 3
   },
   "file_extension": ".py",
   "mimetype": "text/x-python",
   "name": "python",
   "nbconvert_exporter": "python",
   "pygments_lexer": "ipython3",
   "version": "3.10.2"
  },
  "orig_nbformat": 4
 },
 "nbformat": 4,
 "nbformat_minor": 2
}
