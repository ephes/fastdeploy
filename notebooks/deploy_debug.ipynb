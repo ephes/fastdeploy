{
 "cells": [
  {
   "cell_type": "code",
   "execution_count": 1,
   "id": "9c2d07b4",
   "metadata": {},
   "outputs": [
    {
     "data": {
      "application/javascript": [
       "\n",
       "            setTimeout(function() {\n",
       "                var nbb_cell_id = 1;\n",
       "                var nbb_unformatted_code = \"%load_ext nb_black\";\n",
       "                var nbb_formatted_code = \"%load_ext nb_black\";\n",
       "                var nbb_cells = Jupyter.notebook.get_cells();\n",
       "                for (var i = 0; i < nbb_cells.length; ++i) {\n",
       "                    if (nbb_cells[i].input_prompt_number == nbb_cell_id) {\n",
       "                        if (nbb_cells[i].get_text() == nbb_unformatted_code) {\n",
       "                             nbb_cells[i].set_text(nbb_formatted_code);\n",
       "                        }\n",
       "                        break;\n",
       "                    }\n",
       "                }\n",
       "            }, 500);\n",
       "            "
      ],
      "text/plain": [
       "<IPython.core.display.Javascript object>"
      ]
     },
     "metadata": {},
     "output_type": "display_data"
    }
   ],
   "source": [
    "%load_ext nb_black"
   ]
  },
  {
   "cell_type": "code",
   "execution_count": 3,
   "id": "e7415913",
   "metadata": {},
   "outputs": [],
   "source": [
    "from app import database\n",
    "from app.models import Service, Step\n",
    "from sqlmodel import Session, select"
   ]
  },
  {
   "cell_type": "code",
   "execution_count": 4,
   "id": "af9dd1c2",
   "metadata": {},
   "outputs": [],
   "source": [
    "database.create_db_and_tables()"
   ]
  },
  {
   "cell_type": "code",
   "execution_count": 15,
   "id": "ade1452f",
   "metadata": {},
   "outputs": [
    {
     "data": {
      "application/javascript": [
       "\n",
       "            setTimeout(function() {\n",
       "                var nbb_cell_id = 15;\n",
       "                var nbb_unformatted_code = \"with Session(database.engine) as session:\\n    services = session.exec(select(Service)).all()\";\n",
       "                var nbb_formatted_code = \"with Session(database.engine) as session:\\n    services = session.exec(select(Service)).all()\";\n",
       "                var nbb_cells = Jupyter.notebook.get_cells();\n",
       "                for (var i = 0; i < nbb_cells.length; ++i) {\n",
       "                    if (nbb_cells[i].input_prompt_number == nbb_cell_id) {\n",
       "                        if (nbb_cells[i].get_text() == nbb_unformatted_code) {\n",
       "                             nbb_cells[i].set_text(nbb_formatted_code);\n",
       "                        }\n",
       "                        break;\n",
       "                    }\n",
       "                }\n",
       "            }, 500);\n",
       "            "
      ],
      "text/plain": [
       "<IPython.core.display.Javascript object>"
      ]
     },
     "metadata": {},
     "output_type": "display_data"
    }
   ],
   "source": [
    "with Session(database.engine) as session:\n",
    "    services = session.exec(select(Service)).all()"
   ]
  },
  {
   "cell_type": "code",
   "execution_count": 5,
   "id": "b6a9235a",
   "metadata": {},
   "outputs": [
    {
     "data": {
      "text/plain": [
       "[Service(id=1, collect='fastdeploy_collect.py', name='fastdeploy', deploy='fastdeploy_deploy.sh')]"
      ]
     },
     "execution_count": 5,
     "metadata": {},
     "output_type": "execute_result"
    },
    {
     "data": {
      "application/javascript": [
       "\n",
       "            setTimeout(function() {\n",
       "                var nbb_cell_id = 5;\n",
       "                var nbb_unformatted_code = \"services\";\n",
       "                var nbb_formatted_code = \"services\";\n",
       "                var nbb_cells = Jupyter.notebook.get_cells();\n",
       "                for (var i = 0; i < nbb_cells.length; ++i) {\n",
       "                    if (nbb_cells[i].input_prompt_number == nbb_cell_id) {\n",
       "                        if (nbb_cells[i].get_text() == nbb_unformatted_code) {\n",
       "                             nbb_cells[i].set_text(nbb_formatted_code);\n",
       "                        }\n",
       "                        break;\n",
       "                    }\n",
       "                }\n",
       "            }, 500);\n",
       "            "
      ],
      "text/plain": [
       "<IPython.core.display.Javascript object>"
      ]
     },
     "metadata": {},
     "output_type": "display_data"
    }
   ],
   "source": [
    "services"
   ]
  },
  {
   "cell_type": "code",
   "execution_count": 10,
   "id": "a0a35886",
   "metadata": {},
   "outputs": [
    {
     "data": {
      "application/javascript": [
       "\n",
       "            setTimeout(function() {\n",
       "                var nbb_cell_id = 10;\n",
       "                var nbb_unformatted_code = \"service = Service(name=\\\"fastdeploy\\\")\\nwith Session(database.engine) as session:\\n    session.add(service)\\n    session.commit()\";\n",
       "                var nbb_formatted_code = \"service = Service(name=\\\"fastdeploy\\\")\\nwith Session(database.engine) as session:\\n    session.add(service)\\n    session.commit()\";\n",
       "                var nbb_cells = Jupyter.notebook.get_cells();\n",
       "                for (var i = 0; i < nbb_cells.length; ++i) {\n",
       "                    if (nbb_cells[i].input_prompt_number == nbb_cell_id) {\n",
       "                        if (nbb_cells[i].get_text() == nbb_unformatted_code) {\n",
       "                             nbb_cells[i].set_text(nbb_formatted_code);\n",
       "                        }\n",
       "                        break;\n",
       "                    }\n",
       "                }\n",
       "            }, 500);\n",
       "            "
      ],
      "text/plain": [
       "<IPython.core.display.Javascript object>"
      ]
     },
     "metadata": {},
     "output_type": "display_data"
    }
   ],
   "source": [
    "service = Service(name=\"fastdeploy\")\n",
    "with Session(database.engine) as session:\n",
    "    session.add(service)\n",
    "    session.commit()"
   ]
  },
  {
   "cell_type": "code",
   "execution_count": 14,
   "id": "ccfcbdb0",
   "metadata": {},
   "outputs": [
    {
     "data": {
      "text/plain": [
       "'bar'"
      ]
     },
     "execution_count": 14,
     "metadata": {},
     "output_type": "execute_result"
    },
    {
     "data": {
      "application/javascript": [
       "\n",
       "            setTimeout(function() {\n",
       "                var nbb_cell_id = 14;\n",
       "                var nbb_unformatted_code = \"cond = False\\n\\\"foo\\\" if cond else \\\"bar\\\"\";\n",
       "                var nbb_formatted_code = \"cond = False\\n\\\"foo\\\" if cond else \\\"bar\\\"\";\n",
       "                var nbb_cells = Jupyter.notebook.get_cells();\n",
       "                for (var i = 0; i < nbb_cells.length; ++i) {\n",
       "                    if (nbb_cells[i].input_prompt_number == nbb_cell_id) {\n",
       "                        if (nbb_cells[i].get_text() == nbb_unformatted_code) {\n",
       "                             nbb_cells[i].set_text(nbb_formatted_code);\n",
       "                        }\n",
       "                        break;\n",
       "                    }\n",
       "                }\n",
       "            }, 500);\n",
       "            "
      ],
      "text/plain": [
       "<IPython.core.display.Javascript object>"
      ]
     },
     "metadata": {},
     "output_type": "display_data"
    }
   ],
   "source": [
    "cond = False\n",
    "\"foo\" if cond else \"bar\""
   ]
  },
  {
   "cell_type": "code",
   "execution_count": 3,
   "id": "f3f7635c",
   "metadata": {},
   "outputs": [
    {
     "data": {
      "application/javascript": [
       "\n",
       "            setTimeout(function() {\n",
       "                var nbb_cell_id = 3;\n",
       "                var nbb_unformatted_code = \"from app.main import app\";\n",
       "                var nbb_formatted_code = \"from app.main import app\";\n",
       "                var nbb_cells = Jupyter.notebook.get_cells();\n",
       "                for (var i = 0; i < nbb_cells.length; ++i) {\n",
       "                    if (nbb_cells[i].input_prompt_number == nbb_cell_id) {\n",
       "                        if (nbb_cells[i].get_text() == nbb_unformatted_code) {\n",
       "                             nbb_cells[i].set_text(nbb_formatted_code);\n",
       "                        }\n",
       "                        break;\n",
       "                    }\n",
       "                }\n",
       "            }, 500);\n",
       "            "
      ],
      "text/plain": [
       "<IPython.core.display.Javascript object>"
      ]
     },
     "metadata": {},
     "output_type": "display_data"
    }
   ],
   "source": [
    "from app.main import app"
   ]
  },
  {
   "cell_type": "code",
   "execution_count": 6,
   "id": "4b77b27e",
   "metadata": {},
   "outputs": [
    {
     "data": {
      "text/plain": [
       "'/services/1'"
      ]
     },
     "execution_count": 6,
     "metadata": {},
     "output_type": "execute_result"
    },
    {
     "data": {
      "application/javascript": [
       "\n",
       "            setTimeout(function() {\n",
       "                var nbb_cell_id = 6;\n",
       "                var nbb_unformatted_code = \"app.url_path_for(\\\"delete_service\\\", service_id=1)\";\n",
       "                var nbb_formatted_code = \"app.url_path_for(\\\"delete_service\\\", service_id=1)\";\n",
       "                var nbb_cells = Jupyter.notebook.get_cells();\n",
       "                for (var i = 0; i < nbb_cells.length; ++i) {\n",
       "                    if (nbb_cells[i].input_prompt_number == nbb_cell_id) {\n",
       "                        if (nbb_cells[i].get_text() == nbb_unformatted_code) {\n",
       "                             nbb_cells[i].set_text(nbb_formatted_code);\n",
       "                        }\n",
       "                        break;\n",
       "                    }\n",
       "                }\n",
       "            }, 500);\n",
       "            "
      ],
      "text/plain": [
       "<IPython.core.display.Javascript object>"
      ]
     },
     "metadata": {},
     "output_type": "display_data"
    }
   ],
   "source": [
    "app.url_path_for(\"delete_service\", service_id=1)"
   ]
  },
  {
   "cell_type": "code",
   "execution_count": 6,
   "id": "761c263b",
   "metadata": {},
   "outputs": [
    {
     "name": "stdout",
     "output_type": "stream",
     "text": [
      "id=1 collect='fastdeploy_collect.py' name='fastdeploy' deploy='fastdeploy_deploy.sh'\n"
     ]
    },
    {
     "data": {
      "application/javascript": [
       "\n",
       "            setTimeout(function() {\n",
       "                var nbb_cell_id = 6;\n",
       "                var nbb_unformatted_code = \"with Session(database.engine) as session:\\n    for service in session.exec(select(Service)).all():\\n        print(service)\";\n",
       "                var nbb_formatted_code = \"with Session(database.engine) as session:\\n    for service in session.exec(select(Service)).all():\\n        print(service)\";\n",
       "                var nbb_cells = Jupyter.notebook.get_cells();\n",
       "                for (var i = 0; i < nbb_cells.length; ++i) {\n",
       "                    if (nbb_cells[i].input_prompt_number == nbb_cell_id) {\n",
       "                        if (nbb_cells[i].get_text() == nbb_unformatted_code) {\n",
       "                             nbb_cells[i].set_text(nbb_formatted_code);\n",
       "                        }\n",
       "                        break;\n",
       "                    }\n",
       "                }\n",
       "            }, 500);\n",
       "            "
      ],
      "text/plain": [
       "<IPython.core.display.Javascript object>"
      ]
     },
     "metadata": {},
     "output_type": "display_data"
    }
   ],
   "source": [
    "with Session(database.engine) as session:\n",
    "    for service in session.exec(select(Service)).all():\n",
    "        print(service)"
   ]
  },
  {
   "cell_type": "code",
   "execution_count": 16,
   "id": "96d68999",
   "metadata": {},
   "outputs": [
    {
     "name": "stdout",
     "output_type": "stream",
     "text": [
      "name='Gathering Facts' started=datetime.datetime(2021, 11, 9, 9, 15, 48, 775736) deployment_id=34 id=397 finished=datetime.datetime(2021, 11, 9, 9, 15, 51, 809237) created=datetime.datetime(2021, 11, 9, 9, 4, 55, 418633)\n",
      "name='Install required build packages (git,)' started=datetime.datetime(2021, 11, 9, 9, 15, 51, 817334) deployment_id=34 id=398 finished=datetime.datetime(2021, 11, 9, 9, 15, 53, 119015) created=datetime.datetime(2021, 11, 9, 9, 4, 55, 418633)\n",
      "name='Add a unix user with a bash shell' started=datetime.datetime(2021, 11, 9, 9, 15, 53, 127580) deployment_id=34 id=399 finished=datetime.datetime(2021, 11, 9, 9, 15, 53, 888996) created=datetime.datetime(2021, 11, 9, 9, 4, 55, 418633)\n",
      "name='Git checkout repository' started=datetime.datetime(2021, 11, 9, 9, 15, 53, 898240) deployment_id=34 id=400 finished=datetime.datetime(2021, 11, 9, 9, 15, 55, 103533) created=datetime.datetime(2021, 11, 9, 9, 4, 55, 418633)\n",
      "name='Create .env file' started=datetime.datetime(2021, 11, 9, 9, 15, 55, 113396) deployment_id=34 id=401 finished=datetime.datetime(2021, 11, 9, 9, 15, 56, 631880) created=datetime.datetime(2021, 11, 9, 9, 4, 55, 418633)\n",
      "name='Create virtualenv for python' started=datetime.datetime(2021, 11, 9, 9, 15, 56, 641218) deployment_id=34 id=402 finished=datetime.datetime(2021, 11, 9, 9, 15, 58, 944441) created=datetime.datetime(2021, 11, 9, 9, 4, 55, 418633)\n",
      "name='Upgrade pip' started=datetime.datetime(2021, 11, 9, 9, 15, 58, 953768) deployment_id=34 id=403 finished=datetime.datetime(2021, 11, 9, 9, 16, 0, 371049) created=datetime.datetime(2021, 11, 9, 9, 4, 55, 418633)\n",
      "name='Install pip-tools' started=datetime.datetime(2021, 11, 9, 9, 16, 0, 380936) deployment_id=34 id=404 finished=datetime.datetime(2021, 11, 9, 9, 16, 1, 666562) created=datetime.datetime(2021, 11, 9, 9, 4, 55, 418633)\n",
      "name='Install app production requirements' started=datetime.datetime(2021, 11, 9, 9, 16, 1, 674595) deployment_id=34 id=405 finished=datetime.datetime(2021, 11, 9, 9, 16, 2, 847651) created=datetime.datetime(2021, 11, 9, 9, 4, 55, 418633)\n",
      "name='Create a symbolic link for uvicorn systemd service' started=datetime.datetime(2021, 11, 9, 9, 16, 2, 856955) deployment_id=34 id=406 finished=datetime.datetime(2021, 11, 9, 9, 16, 3, 620958) created=datetime.datetime(2021, 11, 9, 9, 4, 55, 418633)\n",
      "name='Make sure deploy uvicorn service is running' started=datetime.datetime(2021, 11, 9, 9, 16, 3, 630738) deployment_id=34 id=407 finished=datetime.datetime(2021, 11, 9, 9, 16, 4, 828182) created=datetime.datetime(2021, 11, 9, 9, 4, 55, 418633)\n",
      "name='Create a symbolic link for traefik loadbalancer' started=datetime.datetime(2021, 11, 9, 9, 16, 4, 837912) deployment_id=34 id=408 finished=datetime.datetime(2021, 11, 9, 9, 16, 5, 412173) created=datetime.datetime(2021, 11, 9, 9, 4, 55, 418633)\n"
     ]
    },
    {
     "data": {
      "application/javascript": [
       "\n",
       "            setTimeout(function() {\n",
       "                var nbb_cell_id = 16;\n",
       "                var nbb_unformatted_code = \"with Session(database.engine) as session:\\n    for step in session.exec(select(Step).where(Step.deployment_id == 34)).all():\\n        print(step)\";\n",
       "                var nbb_formatted_code = \"with Session(database.engine) as session:\\n    for step in session.exec(select(Step).where(Step.deployment_id == 34)).all():\\n        print(step)\";\n",
       "                var nbb_cells = Jupyter.notebook.get_cells();\n",
       "                for (var i = 0; i < nbb_cells.length; ++i) {\n",
       "                    if (nbb_cells[i].input_prompt_number == nbb_cell_id) {\n",
       "                        if (nbb_cells[i].get_text() == nbb_unformatted_code) {\n",
       "                             nbb_cells[i].set_text(nbb_formatted_code);\n",
       "                        }\n",
       "                        break;\n",
       "                    }\n",
       "                }\n",
       "            }, 500);\n",
       "            "
      ],
      "text/plain": [
       "<IPython.core.display.Javascript object>"
      ]
     },
     "metadata": {},
     "output_type": "display_data"
    }
   ],
   "source": [
    "with Session(database.engine) as session:\n",
    "    for step in session.exec(select(Step).where(Step.deployment_id == 34)).all():\n",
    "        print(step)"
   ]
  },
  {
   "cell_type": "code",
   "execution_count": 15,
   "id": "3e90d619",
   "metadata": {},
   "outputs": [
    {
     "data": {
      "application/javascript": [
       "\n",
       "            setTimeout(function() {\n",
       "                var nbb_cell_id = 15;\n",
       "                var nbb_unformatted_code = \"step = Step(name=\\\"foo\\\", deployment_id=37)\";\n",
       "                var nbb_formatted_code = \"step = Step(name=\\\"foo\\\", deployment_id=37)\";\n",
       "                var nbb_cells = Jupyter.notebook.get_cells();\n",
       "                for (var i = 0; i < nbb_cells.length; ++i) {\n",
       "                    if (nbb_cells[i].input_prompt_number == nbb_cell_id) {\n",
       "                        if (nbb_cells[i].get_text() == nbb_unformatted_code) {\n",
       "                             nbb_cells[i].set_text(nbb_formatted_code);\n",
       "                        }\n",
       "                        break;\n",
       "                    }\n",
       "                }\n",
       "            }, 500);\n",
       "            "
      ],
      "text/plain": [
       "<IPython.core.display.Javascript object>"
      ]
     },
     "metadata": {},
     "output_type": "display_data"
    }
   ],
   "source": [
    "step = Step(name=\"foo\", deployment_id=37)"
   ]
  },
  {
   "cell_type": "code",
   "execution_count": 16,
   "id": "970ed1d4",
   "metadata": {},
   "outputs": [
    {
     "data": {
      "application/javascript": [
       "\n",
       "            setTimeout(function() {\n",
       "                var nbb_cell_id = 16;\n",
       "                var nbb_unformatted_code = \"with Session(database.engine) as session:\\n    session.add(step)\\n    session.commit()\\n    session.refresh(step)\";\n",
       "                var nbb_formatted_code = \"with Session(database.engine) as session:\\n    session.add(step)\\n    session.commit()\\n    session.refresh(step)\";\n",
       "                var nbb_cells = Jupyter.notebook.get_cells();\n",
       "                for (var i = 0; i < nbb_cells.length; ++i) {\n",
       "                    if (nbb_cells[i].input_prompt_number == nbb_cell_id) {\n",
       "                        if (nbb_cells[i].get_text() == nbb_unformatted_code) {\n",
       "                             nbb_cells[i].set_text(nbb_formatted_code);\n",
       "                        }\n",
       "                        break;\n",
       "                    }\n",
       "                }\n",
       "            }, 500);\n",
       "            "
      ],
      "text/plain": [
       "<IPython.core.display.Javascript object>"
      ]
     },
     "metadata": {},
     "output_type": "display_data"
    }
   ],
   "source": [
    "with Session(database.engine) as session:\n",
    "    session.add(step)\n",
    "    session.commit()\n",
    "    session.refresh(step)"
   ]
  },
  {
   "cell_type": "code",
   "execution_count": 17,
   "id": "e4d0c37d",
   "metadata": {},
   "outputs": [
    {
     "data": {
      "text/plain": [
       "Step(id=373, finished=None, created=datetime.datetime(2021, 11, 9, 6, 3, 1, 935874), name='foo', started=None, deployment_id=37)"
      ]
     },
     "execution_count": 17,
     "metadata": {},
     "output_type": "execute_result"
    },
    {
     "data": {
      "application/javascript": [
       "\n",
       "            setTimeout(function() {\n",
       "                var nbb_cell_id = 17;\n",
       "                var nbb_unformatted_code = \"step\";\n",
       "                var nbb_formatted_code = \"step\";\n",
       "                var nbb_cells = Jupyter.notebook.get_cells();\n",
       "                for (var i = 0; i < nbb_cells.length; ++i) {\n",
       "                    if (nbb_cells[i].input_prompt_number == nbb_cell_id) {\n",
       "                        if (nbb_cells[i].get_text() == nbb_unformatted_code) {\n",
       "                             nbb_cells[i].set_text(nbb_formatted_code);\n",
       "                        }\n",
       "                        break;\n",
       "                    }\n",
       "                }\n",
       "            }, 500);\n",
       "            "
      ],
      "text/plain": [
       "<IPython.core.display.Javascript object>"
      ]
     },
     "metadata": {},
     "output_type": "display_data"
    }
   ],
   "source": [
    "step"
   ]
  },
  {
   "cell_type": "code",
   "execution_count": 17,
   "id": "790f0016",
   "metadata": {},
   "outputs": [
    {
     "data": {
      "application/javascript": [
       "\n",
       "            setTimeout(function() {\n",
       "                var nbb_cell_id = 17;\n",
       "                var nbb_unformatted_code = \"with Session(database.engine) as session:\\n    step = session.exec(select(Step).where(Step.id == 468)).first()\";\n",
       "                var nbb_formatted_code = \"with Session(database.engine) as session:\\n    step = session.exec(select(Step).where(Step.id == 468)).first()\";\n",
       "                var nbb_cells = Jupyter.notebook.get_cells();\n",
       "                for (var i = 0; i < nbb_cells.length; ++i) {\n",
       "                    if (nbb_cells[i].input_prompt_number == nbb_cell_id) {\n",
       "                        if (nbb_cells[i].get_text() == nbb_unformatted_code) {\n",
       "                             nbb_cells[i].set_text(nbb_formatted_code);\n",
       "                        }\n",
       "                        break;\n",
       "                    }\n",
       "                }\n",
       "            }, 500);\n",
       "            "
      ],
      "text/plain": [
       "<IPython.core.display.Javascript object>"
      ]
     },
     "metadata": {},
     "output_type": "display_data"
    }
   ],
   "source": [
    "with Session(database.engine) as session:\n",
    "    step = session.exec(select(Step).where(Step.id == 468)).first()"
   ]
  },
  {
   "cell_type": "code",
   "execution_count": 18,
   "id": "59e3f1fc",
   "metadata": {},
   "outputs": [
    {
     "data": {
      "text/plain": [
       "Step(name='Create a symbolic link for traefik loadbalancer', started=datetime.datetime(2021, 11, 9, 9, 55, 56, 591488), deployment_id=39, id=468, finished=datetime.datetime(2021, 11, 9, 9, 55, 57, 103475), created=datetime.datetime(2021, 11, 9, 9, 4, 55, 418633))"
      ]
     },
     "execution_count": 18,
     "metadata": {},
     "output_type": "execute_result"
    },
    {
     "data": {
      "application/javascript": [
       "\n",
       "            setTimeout(function() {\n",
       "                var nbb_cell_id = 18;\n",
       "                var nbb_unformatted_code = \"step\";\n",
       "                var nbb_formatted_code = \"step\";\n",
       "                var nbb_cells = Jupyter.notebook.get_cells();\n",
       "                for (var i = 0; i < nbb_cells.length; ++i) {\n",
       "                    if (nbb_cells[i].input_prompt_number == nbb_cell_id) {\n",
       "                        if (nbb_cells[i].get_text() == nbb_unformatted_code) {\n",
       "                             nbb_cells[i].set_text(nbb_formatted_code);\n",
       "                        }\n",
       "                        break;\n",
       "                    }\n",
       "                }\n",
       "            }, 500);\n",
       "            "
      ],
      "text/plain": [
       "<IPython.core.display.Javascript object>"
      ]
     },
     "metadata": {},
     "output_type": "display_data"
    }
   ],
   "source": [
    "step"
   ]
  },
  {
   "cell_type": "code",
   "execution_count": 1,
   "id": "5802ae4f",
   "metadata": {},
   "outputs": [],
   "source": [
    "from app.models import User"
   ]
  },
  {
   "cell_type": "code",
   "execution_count": 7,
   "id": "2af8c609",
   "metadata": {},
   "outputs": [],
   "source": [
    "with Session(database.engine) as session:\n",
    "    users = session.exec(select(User)).all()"
   ]
  },
  {
   "cell_type": "code",
   "execution_count": 8,
   "id": "b84f8868",
   "metadata": {},
   "outputs": [
    {
     "name": "stdout",
     "output_type": "stream",
     "text": [
      "[User(name='jochen', id=1, password='$2b$12$p1nGEcRDskd7yUL2z2YiEe.PESKFjdBmbn42qoeqtMFFvDAa80NY.')]\n"
     ]
    }
   ],
   "source": [
    "print(users)"
   ]
  },
  {
   "cell_type": "code",
   "execution_count": null,
   "id": "3d779f21",
   "metadata": {},
   "outputs": [],
   "source": []
  }
 ],
 "metadata": {
  "kernelspec": {
   "display_name": "Python 3 (ipykernel)",
   "language": "python",
   "name": "python3"
  },
  "language_info": {
   "codemirror_mode": {
    "name": "ipython",
    "version": 3
   },
   "file_extension": ".py",
   "mimetype": "text/x-python",
   "name": "python",
   "nbconvert_exporter": "python",
   "pygments_lexer": "ipython3",
   "version": "3.10.0"
  }
 },
 "nbformat": 4,
 "nbformat_minor": 5
}
