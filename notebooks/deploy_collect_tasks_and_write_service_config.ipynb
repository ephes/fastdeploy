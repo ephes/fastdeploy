{
 "cells": [
  {
   "cell_type": "code",
   "execution_count": 1,
   "id": "bab98926",
   "metadata": {},
   "outputs": [
    {
     "data": {
      "application/javascript": [
       "\n",
       "            setTimeout(function() {\n",
       "                var nbb_cell_id = 1;\n",
       "                var nbb_unformatted_code = \"%load_ext nb_black\";\n",
       "                var nbb_formatted_code = \"%load_ext nb_black\";\n",
       "                var nbb_cells = Jupyter.notebook.get_cells();\n",
       "                for (var i = 0; i < nbb_cells.length; ++i) {\n",
       "                    if (nbb_cells[i].input_prompt_number == nbb_cell_id) {\n",
       "                        if (nbb_cells[i].get_text() == nbb_unformatted_code) {\n",
       "                             nbb_cells[i].set_text(nbb_formatted_code);\n",
       "                        }\n",
       "                        break;\n",
       "                    }\n",
       "                }\n",
       "            }, 500);\n",
       "            "
      ],
      "text/plain": [
       "<IPython.core.display.Javascript object>"
      ]
     },
     "metadata": {},
     "output_type": "display_data"
    }
   ],
   "source": [
    "%load_ext nb_black"
   ]
  },
  {
   "cell_type": "code",
   "execution_count": 2,
   "id": "4c9d0074",
   "metadata": {},
   "outputs": [
    {
     "data": {
      "application/javascript": [
       "\n",
       "            setTimeout(function() {\n",
       "                var nbb_cell_id = 2;\n",
       "                var nbb_unformatted_code = \"import json\\nimport yaml\\n\\nfrom app.config import settings\";\n",
       "                var nbb_formatted_code = \"import json\\nimport yaml\\n\\nfrom app.config import settings\";\n",
       "                var nbb_cells = Jupyter.notebook.get_cells();\n",
       "                for (var i = 0; i < nbb_cells.length; ++i) {\n",
       "                    if (nbb_cells[i].input_prompt_number == nbb_cell_id) {\n",
       "                        if (nbb_cells[i].get_text() == nbb_unformatted_code) {\n",
       "                             nbb_cells[i].set_text(nbb_formatted_code);\n",
       "                        }\n",
       "                        break;\n",
       "                    }\n",
       "                }\n",
       "            }, 500);\n",
       "            "
      ],
      "text/plain": [
       "<IPython.core.display.Javascript object>"
      ]
     },
     "metadata": {},
     "output_type": "display_data"
    }
   ],
   "source": [
    "import json\n",
    "\n",
    "import yaml\n",
    "from app.config import settings"
   ]
  },
  {
   "cell_type": "code",
   "execution_count": 3,
   "id": "5782281e",
   "metadata": {},
   "outputs": [
    {
     "data": {
      "application/javascript": [
       "\n",
       "            setTimeout(function() {\n",
       "                var nbb_cell_id = 3;\n",
       "                var nbb_unformatted_code = \"playbook_path = settings.project_root / \\\"ansible\\\" / \\\"deploy.yml\\\"\\nwith playbook_path.open(\\\"r\\\") as f:\\n    parsed = yaml.safe_load(f)\";\n",
       "                var nbb_formatted_code = \"playbook_path = settings.project_root / \\\"ansible\\\" / \\\"deploy.yml\\\"\\nwith playbook_path.open(\\\"r\\\") as f:\\n    parsed = yaml.safe_load(f)\";\n",
       "                var nbb_cells = Jupyter.notebook.get_cells();\n",
       "                for (var i = 0; i < nbb_cells.length; ++i) {\n",
       "                    if (nbb_cells[i].input_prompt_number == nbb_cell_id) {\n",
       "                        if (nbb_cells[i].get_text() == nbb_unformatted_code) {\n",
       "                             nbb_cells[i].set_text(nbb_formatted_code);\n",
       "                        }\n",
       "                        break;\n",
       "                    }\n",
       "                }\n",
       "            }, 500);\n",
       "            "
      ],
      "text/plain": [
       "<IPython.core.display.Javascript object>"
      ]
     },
     "metadata": {},
     "output_type": "display_data"
    }
   ],
   "source": [
    "playbook_path = settings.project_root / \"ansible\" / \"deploy.yml\"\n",
    "with playbook_path.open(\"r\") as f:\n",
    "    parsed = yaml.safe_load(f)"
   ]
  },
  {
   "cell_type": "code",
   "execution_count": 4,
   "id": "bca4d961",
   "metadata": {},
   "outputs": [
    {
     "data": {
      "application/javascript": [
       "\n",
       "            setTimeout(function() {\n",
       "                var nbb_cell_id = 4;\n",
       "                var nbb_unformatted_code = \"tasks = [{\\\"name\\\": task[\\\"name\\\"]} for task in parsed[0][\\\"tasks\\\"] if \\\"name\\\" in task]\\ntasks.insert(0, {\\\"name\\\": \\\"Gathering Facts\\\"})\";\n",
       "                var nbb_formatted_code = \"tasks = [{\\\"name\\\": task[\\\"name\\\"]} for task in parsed[0][\\\"tasks\\\"] if \\\"name\\\" in task]\\ntasks.insert(0, {\\\"name\\\": \\\"Gathering Facts\\\"})\";\n",
       "                var nbb_cells = Jupyter.notebook.get_cells();\n",
       "                for (var i = 0; i < nbb_cells.length; ++i) {\n",
       "                    if (nbb_cells[i].input_prompt_number == nbb_cell_id) {\n",
       "                        if (nbb_cells[i].get_text() == nbb_unformatted_code) {\n",
       "                             nbb_cells[i].set_text(nbb_formatted_code);\n",
       "                        }\n",
       "                        break;\n",
       "                    }\n",
       "                }\n",
       "            }, 500);\n",
       "            "
      ],
      "text/plain": [
       "<IPython.core.display.Javascript object>"
      ]
     },
     "metadata": {},
     "output_type": "display_data"
    }
   ],
   "source": [
    "tasks = [{\"name\": task[\"name\"]} for task in parsed[0][\"tasks\"] if \"name\" in task]\n",
    "tasks.insert(0, {\"name\": \"Gathering Facts\"})"
   ]
  },
  {
   "cell_type": "code",
   "execution_count": 5,
   "id": "7a389090",
   "metadata": {},
   "outputs": [
    {
     "data": {
      "text/plain": [
       "[{'name': 'Gathering Facts'},\n",
       " {'name': 'Include secret vars'},\n",
       " {'name': 'Add nodejs signing key - do not download if present'},\n",
       " {'name': 'Add nodejs repository'},\n",
       " {'name': 'Install required build packages'},\n",
       " {'name': 'Add a unix user with a bash shell'},\n",
       " {'name': 'Git checkout repository'},\n",
       " {'name': 'Create .env file'},\n",
       " {'name': 'Create .vault_password file'},\n",
       " {'name': 'Install fastdeploy frontend vue app dependencies'},\n",
       " {'name': 'Build fastdeploy frontend vue app'},\n",
       " {'name': 'Create virtualenv for python'},\n",
       " {'name': 'Upgrade pip prod venv'},\n",
       " {'name': 'Create virtualenv for ansible'},\n",
       " {'name': 'Upgrade pip ansible venv'},\n",
       " {'name': 'Install ansible'},\n",
       " {'name': 'Create sudoers file for deploy scripts'},\n",
       " {'name': 'Create directory for ansible inventory'},\n",
       " {'name': 'Create local inventory'},\n",
       " {'name': 'Create directory for server start script'},\n",
       " {'name': 'Create uvicorn start script'},\n",
       " {'name': 'Create directory for fastdeploy service'},\n",
       " {'name': 'Create task deploy file for fastdeploy'},\n",
       " {'name': 'Create service config for fastdeploy'},\n",
       " {'name': 'Install pip-tools'},\n",
       " {'name': 'Install app production requirements'},\n",
       " {'name': 'Create initial user'},\n",
       " {'name': 'Create a symbolic link for uvicorn systemd service'},\n",
       " {'name': 'Make sure deploy uvicorn service is restarted'},\n",
       " {'name': 'Create a symbolic link for traefik loadbalancer'}]"
      ]
     },
     "execution_count": 5,
     "metadata": {},
     "output_type": "execute_result"
    },
    {
     "data": {
      "application/javascript": [
       "\n",
       "            setTimeout(function() {\n",
       "                var nbb_cell_id = 5;\n",
       "                var nbb_unformatted_code = \"tasks\";\n",
       "                var nbb_formatted_code = \"tasks\";\n",
       "                var nbb_cells = Jupyter.notebook.get_cells();\n",
       "                for (var i = 0; i < nbb_cells.length; ++i) {\n",
       "                    if (nbb_cells[i].input_prompt_number == nbb_cell_id) {\n",
       "                        if (nbb_cells[i].get_text() == nbb_unformatted_code) {\n",
       "                             nbb_cells[i].set_text(nbb_formatted_code);\n",
       "                        }\n",
       "                        break;\n",
       "                    }\n",
       "                }\n",
       "            }, 500);\n",
       "            "
      ],
      "text/plain": [
       "<IPython.core.display.Javascript object>"
      ]
     },
     "metadata": {},
     "output_type": "display_data"
    }
   ],
   "source": [
    "tasks"
   ]
  },
  {
   "cell_type": "code",
   "execution_count": 6,
   "id": "fe85831f",
   "metadata": {},
   "outputs": [
    {
     "data": {
      "application/javascript": [
       "\n",
       "            setTimeout(function() {\n",
       "                var nbb_cell_id = 6;\n",
       "                var nbb_unformatted_code = \"config = {\\n    \\\"deploy_script\\\": \\\"deploy.sh\\\",\\n    \\\"description\\\": \\\"Service to deploy other services.\\\",\\n    \\\"steps\\\": tasks,\\n}\";\n",
       "                var nbb_formatted_code = \"config = {\\n    \\\"deploy_script\\\": \\\"deploy.sh\\\",\\n    \\\"description\\\": \\\"Service to deploy other services.\\\",\\n    \\\"steps\\\": tasks,\\n}\";\n",
       "                var nbb_cells = Jupyter.notebook.get_cells();\n",
       "                for (var i = 0; i < nbb_cells.length; ++i) {\n",
       "                    if (nbb_cells[i].input_prompt_number == nbb_cell_id) {\n",
       "                        if (nbb_cells[i].get_text() == nbb_unformatted_code) {\n",
       "                             nbb_cells[i].set_text(nbb_formatted_code);\n",
       "                        }\n",
       "                        break;\n",
       "                    }\n",
       "                }\n",
       "            }, 500);\n",
       "            "
      ],
      "text/plain": [
       "<IPython.core.display.Javascript object>"
      ]
     },
     "metadata": {},
     "output_type": "display_data"
    }
   ],
   "source": [
    "config = {\n",
    "    \"deploy_script\": \"deploy.sh\",\n",
    "    \"description\": \"Service to deploy other services.\",\n",
    "    \"steps\": tasks,\n",
    "}"
   ]
  },
  {
   "cell_type": "code",
   "execution_count": 7,
   "id": "cb808bfa",
   "metadata": {},
   "outputs": [
    {
     "data": {
      "application/javascript": [
       "\n",
       "            setTimeout(function() {\n",
       "                var nbb_cell_id = 7;\n",
       "                var nbb_unformatted_code = \"service_dir = settings.services_root / \\\"fastdeploy\\\"\\nservice_dir.mkdir(parents=True, exist_ok=True)\\nconfig_path = service_dir / \\\"config.json\\\"\\nwith config_path.open(\\\"w\\\") as config_file:\\n    config_file.write(json.dumps(config, indent=4, sort_keys=True))\";\n",
       "                var nbb_formatted_code = \"service_dir = settings.services_root / \\\"fastdeploy\\\"\\nservice_dir.mkdir(parents=True, exist_ok=True)\\nconfig_path = service_dir / \\\"config.json\\\"\\nwith config_path.open(\\\"w\\\") as config_file:\\n    config_file.write(json.dumps(config, indent=4, sort_keys=True))\";\n",
       "                var nbb_cells = Jupyter.notebook.get_cells();\n",
       "                for (var i = 0; i < nbb_cells.length; ++i) {\n",
       "                    if (nbb_cells[i].input_prompt_number == nbb_cell_id) {\n",
       "                        if (nbb_cells[i].get_text() == nbb_unformatted_code) {\n",
       "                             nbb_cells[i].set_text(nbb_formatted_code);\n",
       "                        }\n",
       "                        break;\n",
       "                    }\n",
       "                }\n",
       "            }, 500);\n",
       "            "
      ],
      "text/plain": [
       "<IPython.core.display.Javascript object>"
      ]
     },
     "metadata": {},
     "output_type": "display_data"
    }
   ],
   "source": [
    "service_dir = settings.services_root / \"fastdeploy\"\n",
    "service_dir.mkdir(parents=True, exist_ok=True)\n",
    "config_path = service_dir / \"config.json\"\n",
    "with config_path.open(\"w\") as config_file:\n",
    "    config_file.write(json.dumps(config, indent=4, sort_keys=True))"
   ]
  }
 ],
 "metadata": {
  "kernelspec": {
   "display_name": "Python 3 (ipykernel)",
   "language": "python",
   "name": "python3"
  },
  "language_info": {
   "codemirror_mode": {
    "name": "ipython",
    "version": 3
   },
   "file_extension": ".py",
   "mimetype": "text/x-python",
   "name": "python",
   "nbconvert_exporter": "python",
   "pygments_lexer": "ipython3",
   "version": "3.10.0"
  }
 },
 "nbformat": 4,
 "nbformat_minor": 5
}
