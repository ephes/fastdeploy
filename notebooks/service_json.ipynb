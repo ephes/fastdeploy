{
 "cells": [
  {
   "cell_type": "code",
   "execution_count": 1,
   "id": "bd250bfd",
   "metadata": {},
   "outputs": [
    {
     "data": {
      "application/javascript": [
       "\n",
       "            setTimeout(function() {\n",
       "                var nbb_cell_id = 1;\n",
       "                var nbb_unformatted_code = \"%load_ext nb_black\";\n",
       "                var nbb_formatted_code = \"%load_ext nb_black\";\n",
       "                var nbb_cells = Jupyter.notebook.get_cells();\n",
       "                for (var i = 0; i < nbb_cells.length; ++i) {\n",
       "                    if (nbb_cells[i].input_prompt_number == nbb_cell_id) {\n",
       "                        if (nbb_cells[i].get_text() == nbb_unformatted_code) {\n",
       "                             nbb_cells[i].set_text(nbb_formatted_code);\n",
       "                        }\n",
       "                        break;\n",
       "                    }\n",
       "                }\n",
       "            }, 500);\n",
       "            "
      ],
      "text/plain": [
       "<IPython.core.display.Javascript object>"
      ]
     },
     "metadata": {},
     "output_type": "display_data"
    }
   ],
   "source": [
    "%load_ext nb_black"
   ]
  },
  {
   "cell_type": "code",
   "execution_count": 11,
   "id": "674c3df1",
   "metadata": {},
   "outputs": [
    {
     "data": {
      "application/javascript": [
       "\n",
       "            setTimeout(function() {\n",
       "                var nbb_cell_id = 11;\n",
       "                var nbb_unformatted_code = \"import json\\n\\nfrom pathlib import Path\\n\\nfrom sqlmodel import Session, select\\n\\nfrom app import database\\n\\nfrom app.models import Service, Step\";\n",
       "                var nbb_formatted_code = \"import json\\n\\nfrom pathlib import Path\\n\\nfrom sqlmodel import Session, select\\n\\nfrom app import database\\n\\nfrom app.models import Service, Step\";\n",
       "                var nbb_cells = Jupyter.notebook.get_cells();\n",
       "                for (var i = 0; i < nbb_cells.length; ++i) {\n",
       "                    if (nbb_cells[i].input_prompt_number == nbb_cell_id) {\n",
       "                        if (nbb_cells[i].get_text() == nbb_unformatted_code) {\n",
       "                             nbb_cells[i].set_text(nbb_formatted_code);\n",
       "                        }\n",
       "                        break;\n",
       "                    }\n",
       "                }\n",
       "            }, 500);\n",
       "            "
      ],
      "text/plain": [
       "<IPython.core.display.Javascript object>"
      ]
     },
     "metadata": {},
     "output_type": "display_data"
    }
   ],
   "source": [
    "import json\n",
    "from pathlib import Path\n",
    "\n",
    "from app import database\n",
    "from app.models import Service\n",
    "from sqlmodel import Session, select"
   ]
  },
  {
   "cell_type": "code",
   "execution_count": 3,
   "id": "52aeea34",
   "metadata": {},
   "outputs": [
    {
     "data": {
      "application/javascript": [
       "\n",
       "            setTimeout(function() {\n",
       "                var nbb_cell_id = 3;\n",
       "                var nbb_unformatted_code = \"with Session(database.engine) as session:\\n    services = session.exec(select(Service)).all()\";\n",
       "                var nbb_formatted_code = \"with Session(database.engine) as session:\\n    services = session.exec(select(Service)).all()\";\n",
       "                var nbb_cells = Jupyter.notebook.get_cells();\n",
       "                for (var i = 0; i < nbb_cells.length; ++i) {\n",
       "                    if (nbb_cells[i].input_prompt_number == nbb_cell_id) {\n",
       "                        if (nbb_cells[i].get_text() == nbb_unformatted_code) {\n",
       "                             nbb_cells[i].set_text(nbb_formatted_code);\n",
       "                        }\n",
       "                        break;\n",
       "                    }\n",
       "                }\n",
       "            }, 500);\n",
       "            "
      ],
      "text/plain": [
       "<IPython.core.display.Javascript object>"
      ]
     },
     "metadata": {},
     "output_type": "display_data"
    }
   ],
   "source": [
    "with Session(database.engine) as session:\n",
    "    services = session.exec(select(Service)).all()"
   ]
  },
  {
   "cell_type": "code",
   "execution_count": 4,
   "id": "2dca3ace",
   "metadata": {},
   "outputs": [
    {
     "name": "stdout",
     "output_type": "stream",
     "text": [
      "[Service(name='fastdeploy', data={'description': 'Service to deploy other services.', 'steps': [{'name': 'Gathering Facts'}, {'name': 'Add nodejs signing key - do not download if present'}, {'name': 'Add nodejs repository'}, {'name': 'Add yarn signing key - do not download if present'}, {'name': 'Add yarn repository'}, {'name': 'Install required build packages'}, {'name': 'Install required build packages (git,)'}, {'name': 'Add a unix user with a bash shell'}, {'name': 'Git checkout repository'}, {'name': 'Create .env file'}, {'name': 'Install fastdeploy frontend vue app dependencies'}, {'name': 'Build fastdeploy frontend vue app'}, {'name': 'Create virtualenv for python'}, {'name': 'Upgrade pip prod venv'}, {'name': 'Create virtualenv for ansible'}, {'name': 'Upgrade pip ansible venv'}, {'name': 'Install ansible'}, {'name': 'Create .vault_password file'}, {'name': 'Create sudoers file for deploy scripts'}, {'name': 'Create directory for ansible inventory'}, {'name': 'Create local inventory'}, {'name': 'Create task collect file for fastdeploy'}, {'name': 'Create task deploy file for fastdeploy'}, {'name': 'Install pip-tools'}, {'name': 'Install app production requirements'}, {'name': 'Create initial user'}, {'name': 'Create a symbolic link for uvicorn systemd service'}, {'name': 'Make sure deploy uvicorn service is running'}, {'name': 'Create a symbolic link for traefik loadbalancer'}]}, id=1)]\n"
     ]
    },
    {
     "data": {
      "application/javascript": [
       "\n",
       "            setTimeout(function() {\n",
       "                var nbb_cell_id = 4;\n",
       "                var nbb_unformatted_code = \"print(services)\";\n",
       "                var nbb_formatted_code = \"print(services)\";\n",
       "                var nbb_cells = Jupyter.notebook.get_cells();\n",
       "                for (var i = 0; i < nbb_cells.length; ++i) {\n",
       "                    if (nbb_cells[i].input_prompt_number == nbb_cell_id) {\n",
       "                        if (nbb_cells[i].get_text() == nbb_unformatted_code) {\n",
       "                             nbb_cells[i].set_text(nbb_formatted_code);\n",
       "                        }\n",
       "                        break;\n",
       "                    }\n",
       "                }\n",
       "            }, 500);\n",
       "            "
      ],
      "text/plain": [
       "<IPython.core.display.Javascript object>"
      ]
     },
     "metadata": {},
     "output_type": "display_data"
    }
   ],
   "source": [
    "print(services)"
   ]
  },
  {
   "cell_type": "code",
   "execution_count": 5,
   "id": "0d77e979",
   "metadata": {},
   "outputs": [
    {
     "data": {
      "application/javascript": [
       "\n",
       "            setTimeout(function() {\n",
       "                var nbb_cell_id = 5;\n",
       "                var nbb_unformatted_code = \"service = services[0]\";\n",
       "                var nbb_formatted_code = \"service = services[0]\";\n",
       "                var nbb_cells = Jupyter.notebook.get_cells();\n",
       "                for (var i = 0; i < nbb_cells.length; ++i) {\n",
       "                    if (nbb_cells[i].input_prompt_number == nbb_cell_id) {\n",
       "                        if (nbb_cells[i].get_text() == nbb_unformatted_code) {\n",
       "                             nbb_cells[i].set_text(nbb_formatted_code);\n",
       "                        }\n",
       "                        break;\n",
       "                    }\n",
       "                }\n",
       "            }, 500);\n",
       "            "
      ],
      "text/plain": [
       "<IPython.core.display.Javascript object>"
      ]
     },
     "metadata": {},
     "output_type": "display_data"
    }
   ],
   "source": [
    "service = services[0]"
   ]
  },
  {
   "cell_type": "code",
   "execution_count": 6,
   "id": "ac0c1854",
   "metadata": {},
   "outputs": [
    {
     "data": {
      "text/plain": [
       "[{'name': 'Gathering Facts'},\n",
       " {'name': 'Add nodejs signing key - do not download if present'},\n",
       " {'name': 'Add nodejs repository'},\n",
       " {'name': 'Add yarn signing key - do not download if present'},\n",
       " {'name': 'Add yarn repository'},\n",
       " {'name': 'Install required build packages'},\n",
       " {'name': 'Install required build packages (git,)'},\n",
       " {'name': 'Add a unix user with a bash shell'},\n",
       " {'name': 'Git checkout repository'},\n",
       " {'name': 'Create .env file'},\n",
       " {'name': 'Install fastdeploy frontend vue app dependencies'},\n",
       " {'name': 'Build fastdeploy frontend vue app'},\n",
       " {'name': 'Create virtualenv for python'},\n",
       " {'name': 'Upgrade pip prod venv'},\n",
       " {'name': 'Create virtualenv for ansible'},\n",
       " {'name': 'Upgrade pip ansible venv'},\n",
       " {'name': 'Install ansible'},\n",
       " {'name': 'Create .vault_password file'},\n",
       " {'name': 'Create sudoers file for deploy scripts'},\n",
       " {'name': 'Create directory for ansible inventory'},\n",
       " {'name': 'Create local inventory'},\n",
       " {'name': 'Create task collect file for fastdeploy'},\n",
       " {'name': 'Create task deploy file for fastdeploy'},\n",
       " {'name': 'Install pip-tools'},\n",
       " {'name': 'Install app production requirements'},\n",
       " {'name': 'Create initial user'},\n",
       " {'name': 'Create a symbolic link for uvicorn systemd service'},\n",
       " {'name': 'Make sure deploy uvicorn service is running'},\n",
       " {'name': 'Create a symbolic link for traefik loadbalancer'}]"
      ]
     },
     "execution_count": 6,
     "metadata": {},
     "output_type": "execute_result"
    },
    {
     "data": {
      "application/javascript": [
       "\n",
       "            setTimeout(function() {\n",
       "                var nbb_cell_id = 6;\n",
       "                var nbb_unformatted_code = \"service.data.get(\\\"steps\\\", [])\";\n",
       "                var nbb_formatted_code = \"service.data.get(\\\"steps\\\", [])\";\n",
       "                var nbb_cells = Jupyter.notebook.get_cells();\n",
       "                for (var i = 0; i < nbb_cells.length; ++i) {\n",
       "                    if (nbb_cells[i].input_prompt_number == nbb_cell_id) {\n",
       "                        if (nbb_cells[i].get_text() == nbb_unformatted_code) {\n",
       "                             nbb_cells[i].set_text(nbb_formatted_code);\n",
       "                        }\n",
       "                        break;\n",
       "                    }\n",
       "                }\n",
       "            }, 500);\n",
       "            "
      ],
      "text/plain": [
       "<IPython.core.display.Javascript object>"
      ]
     },
     "metadata": {},
     "output_type": "display_data"
    }
   ],
   "source": [
    "service.data.get(\"steps\", [])"
   ]
  },
  {
   "cell_type": "code",
   "execution_count": 9,
   "id": "4b2c3006",
   "metadata": {},
   "outputs": [
    {
     "data": {
      "application/javascript": [
       "\n",
       "            setTimeout(function() {\n",
       "                var nbb_cell_id = 9;\n",
       "                var nbb_unformatted_code = \"steps = service.get_steps()\";\n",
       "                var nbb_formatted_code = \"steps = service.get_steps()\";\n",
       "                var nbb_cells = Jupyter.notebook.get_cells();\n",
       "                for (var i = 0; i < nbb_cells.length; ++i) {\n",
       "                    if (nbb_cells[i].input_prompt_number == nbb_cell_id) {\n",
       "                        if (nbb_cells[i].get_text() == nbb_unformatted_code) {\n",
       "                             nbb_cells[i].set_text(nbb_formatted_code);\n",
       "                        }\n",
       "                        break;\n",
       "                    }\n",
       "                }\n",
       "            }, 500);\n",
       "            "
      ],
      "text/plain": [
       "<IPython.core.display.Javascript object>"
      ]
     },
     "metadata": {},
     "output_type": "display_data"
    }
   ],
   "source": [
    "steps = service.get_steps()"
   ]
  },
  {
   "cell_type": "code",
   "execution_count": 16,
   "id": "a0f25d03",
   "metadata": {},
   "outputs": [
    {
     "data": {
      "text/plain": [
       "'[{\"name\": \"Gathering Facts\", \"started\": null, \"finished\": null, \"id\": null, \"created\": null}, {\"name\": \"Add nodejs signing key - do not download if present\", \"started\": null, \"finished\": null, \"id\": null, \"created\": null}, {\"name\": \"Add nodejs repository\", \"started\": null, \"finished\": null, \"id\": null, \"created\": null}, {\"name\": \"Add yarn signing key - do not download if present\", \"started\": null, \"finished\": null, \"id\": null, \"created\": null}, {\"name\": \"Add yarn repository\", \"started\": null, \"finished\": null, \"id\": null, \"created\": null}, {\"name\": \"Install required build packages\", \"started\": null, \"finished\": null, \"id\": null, \"created\": null}, {\"name\": \"Install required build packages (git,)\", \"started\": null, \"finished\": null, \"id\": null, \"created\": null}, {\"name\": \"Add a unix user with a bash shell\", \"started\": null, \"finished\": null, \"id\": null, \"created\": null}, {\"name\": \"Git checkout repository\", \"started\": null, \"finished\": null, \"id\": null, \"created\": null}, {\"name\": \"Create .env file\", \"started\": null, \"finished\": null, \"id\": null, \"created\": null}, {\"name\": \"Install fastdeploy frontend vue app dependencies\", \"started\": null, \"finished\": null, \"id\": null, \"created\": null}, {\"name\": \"Build fastdeploy frontend vue app\", \"started\": null, \"finished\": null, \"id\": null, \"created\": null}, {\"name\": \"Create virtualenv for python\", \"started\": null, \"finished\": null, \"id\": null, \"created\": null}, {\"name\": \"Upgrade pip prod venv\", \"started\": null, \"finished\": null, \"id\": null, \"created\": null}, {\"name\": \"Create virtualenv for ansible\", \"started\": null, \"finished\": null, \"id\": null, \"created\": null}, {\"name\": \"Upgrade pip ansible venv\", \"started\": null, \"finished\": null, \"id\": null, \"created\": null}, {\"name\": \"Install ansible\", \"started\": null, \"finished\": null, \"id\": null, \"created\": null}, {\"name\": \"Create .vault_password file\", \"started\": null, \"finished\": null, \"id\": null, \"created\": null}, {\"name\": \"Create sudoers file for deploy scripts\", \"started\": null, \"finished\": null, \"id\": null, \"created\": null}, {\"name\": \"Create directory for ansible inventory\", \"started\": null, \"finished\": null, \"id\": null, \"created\": null}, {\"name\": \"Create local inventory\", \"started\": null, \"finished\": null, \"id\": null, \"created\": null}, {\"name\": \"Create task collect file for fastdeploy\", \"started\": null, \"finished\": null, \"id\": null, \"created\": null}, {\"name\": \"Create task deploy file for fastdeploy\", \"started\": null, \"finished\": null, \"id\": null, \"created\": null}, {\"name\": \"Install pip-tools\", \"started\": null, \"finished\": null, \"id\": null, \"created\": null}, {\"name\": \"Install app production requirements\", \"started\": null, \"finished\": null, \"id\": null, \"created\": null}, {\"name\": \"Create initial user\", \"started\": null, \"finished\": null, \"id\": null, \"created\": null}, {\"name\": \"Create a symbolic link for uvicorn systemd service\", \"started\": null, \"finished\": null, \"id\": null, \"created\": null}, {\"name\": \"Make sure deploy uvicorn service is running\", \"started\": null, \"finished\": null, \"id\": null, \"created\": null}, {\"name\": \"Create a symbolic link for traefik loadbalancer\", \"started\": null, \"finished\": null, \"id\": null, \"created\": null}]'"
      ]
     },
     "execution_count": 16,
     "metadata": {},
     "output_type": "execute_result"
    },
    {
     "data": {
      "application/javascript": [
       "\n",
       "            setTimeout(function() {\n",
       "                var nbb_cell_id = 16;\n",
       "                var nbb_unformatted_code = \"json.dumps([step.dict() for step in steps])\";\n",
       "                var nbb_formatted_code = \"json.dumps([step.dict() for step in steps])\";\n",
       "                var nbb_cells = Jupyter.notebook.get_cells();\n",
       "                for (var i = 0; i < nbb_cells.length; ++i) {\n",
       "                    if (nbb_cells[i].input_prompt_number == nbb_cell_id) {\n",
       "                        if (nbb_cells[i].get_text() == nbb_unformatted_code) {\n",
       "                             nbb_cells[i].set_text(nbb_formatted_code);\n",
       "                        }\n",
       "                        break;\n",
       "                    }\n",
       "                }\n",
       "            }, 500);\n",
       "            "
      ],
      "text/plain": [
       "<IPython.core.display.Javascript object>"
      ]
     },
     "metadata": {},
     "output_type": "display_data"
    }
   ],
   "source": [
    "json.dumps([step.dict() for step in steps])"
   ]
  },
  {
   "cell_type": "code",
   "execution_count": 8,
   "id": "6dda1934",
   "metadata": {},
   "outputs": [
    {
     "data": {
      "text/plain": [
       "[{'name': 'First Task...'},\n",
       " {'name': 'Second Task...'},\n",
       " {'name': 'Third Task...'}]"
      ]
     },
     "execution_count": 8,
     "metadata": {},
     "output_type": "execute_result"
    },
    {
     "data": {
      "application/javascript": [
       "\n",
       "            setTimeout(function() {\n",
       "                var nbb_cell_id = 8;\n",
       "                var nbb_unformatted_code = \"service.data[\\\"tasks\\\"]\";\n",
       "                var nbb_formatted_code = \"service.data[\\\"tasks\\\"]\";\n",
       "                var nbb_cells = Jupyter.notebook.get_cells();\n",
       "                for (var i = 0; i < nbb_cells.length; ++i) {\n",
       "                    if (nbb_cells[i].input_prompt_number == nbb_cell_id) {\n",
       "                        if (nbb_cells[i].get_text() == nbb_unformatted_code) {\n",
       "                             nbb_cells[i].set_text(nbb_formatted_code);\n",
       "                        }\n",
       "                        break;\n",
       "                    }\n",
       "                }\n",
       "            }, 500);\n",
       "            "
      ],
      "text/plain": [
       "<IPython.core.display.Javascript object>"
      ]
     },
     "metadata": {},
     "output_type": "display_data"
    }
   ],
   "source": [
    "service.data[\"tasks\"]"
   ]
  },
  {
   "cell_type": "code",
   "execution_count": 15,
   "id": "4416d4fe",
   "metadata": {},
   "outputs": [
    {
     "data": {
      "text/plain": [
       "[]"
      ]
     },
     "execution_count": 15,
     "metadata": {},
     "output_type": "execute_result"
    },
    {
     "data": {
      "application/javascript": [
       "\n",
       "            setTimeout(function() {\n",
       "                var nbb_cell_id = 15;\n",
       "                var nbb_unformatted_code = \"json.loads(\\\"[]\\\")\";\n",
       "                var nbb_formatted_code = \"json.loads(\\\"[]\\\")\";\n",
       "                var nbb_cells = Jupyter.notebook.get_cells();\n",
       "                for (var i = 0; i < nbb_cells.length; ++i) {\n",
       "                    if (nbb_cells[i].input_prompt_number == nbb_cell_id) {\n",
       "                        if (nbb_cells[i].get_text() == nbb_unformatted_code) {\n",
       "                             nbb_cells[i].set_text(nbb_formatted_code);\n",
       "                        }\n",
       "                        break;\n",
       "                    }\n",
       "                }\n",
       "            }, 500);\n",
       "            "
      ],
      "text/plain": [
       "<IPython.core.display.Javascript object>"
      ]
     },
     "metadata": {},
     "output_type": "display_data"
    }
   ],
   "source": [
    "json.loads(\"[]\")"
   ]
  },
  {
   "cell_type": "code",
   "execution_count": 5,
   "id": "77999576",
   "metadata": {},
   "outputs": [
    {
     "data": {
      "application/javascript": [
       "\n",
       "            setTimeout(function() {\n",
       "                var nbb_cell_id = 5;\n",
       "                var nbb_unformatted_code = \"service = Service(name=\\\"asdf\\\", data={\\\"foo\\\": \\\"bar\\\"})\";\n",
       "                var nbb_formatted_code = \"service = Service(name=\\\"asdf\\\", data={\\\"foo\\\": \\\"bar\\\"})\";\n",
       "                var nbb_cells = Jupyter.notebook.get_cells();\n",
       "                for (var i = 0; i < nbb_cells.length; ++i) {\n",
       "                    if (nbb_cells[i].input_prompt_number == nbb_cell_id) {\n",
       "                        if (nbb_cells[i].get_text() == nbb_unformatted_code) {\n",
       "                             nbb_cells[i].set_text(nbb_formatted_code);\n",
       "                        }\n",
       "                        break;\n",
       "                    }\n",
       "                }\n",
       "            }, 500);\n",
       "            "
      ],
      "text/plain": [
       "<IPython.core.display.Javascript object>"
      ]
     },
     "metadata": {},
     "output_type": "display_data"
    }
   ],
   "source": [
    "service = Service(name=\"asdf\", data={\"foo\": \"bar\"})"
   ]
  },
  {
   "cell_type": "code",
   "execution_count": 6,
   "id": "1f204582",
   "metadata": {},
   "outputs": [
    {
     "data": {
      "application/javascript": [
       "\n",
       "            setTimeout(function() {\n",
       "                var nbb_cell_id = 6;\n",
       "                var nbb_unformatted_code = \"with Session(database.engine) as session:\\n    session.add(service)\\n    session.commit()\\n    session.refresh(service)\";\n",
       "                var nbb_formatted_code = \"with Session(database.engine) as session:\\n    session.add(service)\\n    session.commit()\\n    session.refresh(service)\";\n",
       "                var nbb_cells = Jupyter.notebook.get_cells();\n",
       "                for (var i = 0; i < nbb_cells.length; ++i) {\n",
       "                    if (nbb_cells[i].input_prompt_number == nbb_cell_id) {\n",
       "                        if (nbb_cells[i].get_text() == nbb_unformatted_code) {\n",
       "                             nbb_cells[i].set_text(nbb_formatted_code);\n",
       "                        }\n",
       "                        break;\n",
       "                    }\n",
       "                }\n",
       "            }, 500);\n",
       "            "
      ],
      "text/plain": [
       "<IPython.core.display.Javascript object>"
      ]
     },
     "metadata": {},
     "output_type": "display_data"
    }
   ],
   "source": [
    "with Session(database.engine) as session:\n",
    "    session.add(service)\n",
    "    session.commit()\n",
    "    session.refresh(service)"
   ]
  },
  {
   "cell_type": "code",
   "execution_count": 7,
   "id": "77d71ee4",
   "metadata": {},
   "outputs": [
    {
     "data": {
      "text/plain": [
       "Service(data={'foo': 'bar'}, id=1, name='asdf')"
      ]
     },
     "execution_count": 7,
     "metadata": {},
     "output_type": "execute_result"
    },
    {
     "data": {
      "application/javascript": [
       "\n",
       "            setTimeout(function() {\n",
       "                var nbb_cell_id = 7;\n",
       "                var nbb_unformatted_code = \"service\";\n",
       "                var nbb_formatted_code = \"service\";\n",
       "                var nbb_cells = Jupyter.notebook.get_cells();\n",
       "                for (var i = 0; i < nbb_cells.length; ++i) {\n",
       "                    if (nbb_cells[i].input_prompt_number == nbb_cell_id) {\n",
       "                        if (nbb_cells[i].get_text() == nbb_unformatted_code) {\n",
       "                             nbb_cells[i].set_text(nbb_formatted_code);\n",
       "                        }\n",
       "                        break;\n",
       "                    }\n",
       "                }\n",
       "            }, 500);\n",
       "            "
      ],
      "text/plain": [
       "<IPython.core.display.Javascript object>"
      ]
     },
     "metadata": {},
     "output_type": "display_data"
    }
   ],
   "source": [
    "service"
   ]
  },
  {
   "cell_type": "code",
   "execution_count": 14,
   "id": "bd20a63a",
   "metadata": {},
   "outputs": [
    {
     "data": {
      "application/javascript": [
       "\n",
       "            setTimeout(function() {\n",
       "                var nbb_cell_id = 14;\n",
       "                var nbb_unformatted_code = \"deployments_dir = Path().cwd().parent / \\\"deployments\\\"\";\n",
       "                var nbb_formatted_code = \"deployments_dir = Path().cwd().parent / \\\"deployments\\\"\";\n",
       "                var nbb_cells = Jupyter.notebook.get_cells();\n",
       "                for (var i = 0; i < nbb_cells.length; ++i) {\n",
       "                    if (nbb_cells[i].input_prompt_number == nbb_cell_id) {\n",
       "                        if (nbb_cells[i].get_text() == nbb_unformatted_code) {\n",
       "                             nbb_cells[i].set_text(nbb_formatted_code);\n",
       "                        }\n",
       "                        break;\n",
       "                    }\n",
       "                }\n",
       "            }, 500);\n",
       "            "
      ],
      "text/plain": [
       "<IPython.core.display.Javascript object>"
      ]
     },
     "metadata": {},
     "output_type": "display_data"
    }
   ],
   "source": [
    "deployments_dir = Path().cwd().parent / \"deployments\""
   ]
  },
  {
   "cell_type": "code",
   "execution_count": 18,
   "id": "949599b7",
   "metadata": {},
   "outputs": [
    {
     "data": {
      "text/plain": [
       "True"
      ]
     },
     "execution_count": 18,
     "metadata": {},
     "output_type": "execute_result"
    },
    {
     "data": {
      "application/javascript": [
       "\n",
       "            setTimeout(function() {\n",
       "                var nbb_cell_id = 18;\n",
       "                var nbb_unformatted_code = \"deployments_dir.is_dir()\";\n",
       "                var nbb_formatted_code = \"deployments_dir.is_dir()\";\n",
       "                var nbb_cells = Jupyter.notebook.get_cells();\n",
       "                for (var i = 0; i < nbb_cells.length; ++i) {\n",
       "                    if (nbb_cells[i].input_prompt_number == nbb_cell_id) {\n",
       "                        if (nbb_cells[i].get_text() == nbb_unformatted_code) {\n",
       "                             nbb_cells[i].set_text(nbb_formatted_code);\n",
       "                        }\n",
       "                        break;\n",
       "                    }\n",
       "                }\n",
       "            }, 500);\n",
       "            "
      ],
      "text/plain": [
       "<IPython.core.display.Javascript object>"
      ]
     },
     "metadata": {},
     "output_type": "display_data"
    }
   ],
   "source": [
    "deployments_dir.is_dir()"
   ]
  },
  {
   "cell_type": "code",
   "execution_count": 21,
   "id": "09a92d3c",
   "metadata": {},
   "outputs": [
    {
     "name": "stdout",
     "output_type": "stream",
     "text": [
      "fastdeploy\n"
     ]
    },
    {
     "data": {
      "application/javascript": [
       "\n",
       "            setTimeout(function() {\n",
       "                var nbb_cell_id = 21;\n",
       "                var nbb_unformatted_code = \"for path in deployments_dir.iterdir():\\n    if path.is_dir():\\n        print(path.name)\";\n",
       "                var nbb_formatted_code = \"for path in deployments_dir.iterdir():\\n    if path.is_dir():\\n        print(path.name)\";\n",
       "                var nbb_cells = Jupyter.notebook.get_cells();\n",
       "                for (var i = 0; i < nbb_cells.length; ++i) {\n",
       "                    if (nbb_cells[i].input_prompt_number == nbb_cell_id) {\n",
       "                        if (nbb_cells[i].get_text() == nbb_unformatted_code) {\n",
       "                             nbb_cells[i].set_text(nbb_formatted_code);\n",
       "                        }\n",
       "                        break;\n",
       "                    }\n",
       "                }\n",
       "            }, 500);\n",
       "            "
      ],
      "text/plain": [
       "<IPython.core.display.Javascript object>"
      ]
     },
     "metadata": {},
     "output_type": "display_data"
    }
   ],
   "source": [
    "for path in deployments_dir.iterdir():\n",
    "    if path.is_dir():\n",
    "        print(path.name)"
   ]
  },
  {
   "cell_type": "code",
   "execution_count": null,
   "id": "4258051e",
   "metadata": {},
   "outputs": [],
   "source": []
  }
 ],
 "metadata": {
  "kernelspec": {
   "display_name": "Python 3 (ipykernel)",
   "language": "python",
   "name": "python3"
  },
  "language_info": {
   "codemirror_mode": {
    "name": "ipython",
    "version": 3
   },
   "file_extension": ".py",
   "mimetype": "text/x-python",
   "name": "python",
   "nbconvert_exporter": "python",
   "pygments_lexer": "ipython3",
   "version": "3.10.0"
  }
 },
 "nbformat": 4,
 "nbformat_minor": 5
}
