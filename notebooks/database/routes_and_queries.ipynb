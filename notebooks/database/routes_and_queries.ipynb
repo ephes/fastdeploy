{
 "cells": [
  {
   "cell_type": "code",
   "execution_count": 8,
   "metadata": {},
   "outputs": [],
   "source": [
    "from deploy.entrypoints.fastapi_app import app as fastapi_app"
   ]
  },
  {
   "cell_type": "code",
   "execution_count": 10,
   "metadata": {},
   "outputs": [
    {
     "name": "stdout",
     "output_type": "stream",
     "text": [
      "openapi /openapi.json\n",
      "swagger_ui_html /docs\n",
      "swagger_ui_redirect /docs/oauth2-redirect\n",
      "redoc_html /redoc\n",
      "read_users_me /users/me\n",
      "login_for_access_token /token\n",
      "service_token /service-token\n",
      "process_step_result /steps/\n",
      "get_steps_by_deployment /steps/\n",
      "get_services /services/\n",
      "delete_service /services/{service_id}\n",
      "get_service_names /services/names/\n",
      "sync_services /services/sync\n",
      "get_deployments /deployments/\n",
      "get_deployment_details /deployments/{deployment_id}\n",
      "finish_deployment /deployments/finish/\n",
      "start_deployment /deployments/\n",
      "static /static\n",
      "redirect_typer /\n",
      "websocket_endpoint /deployments/ws/{client_id}\n"
     ]
    }
   ],
   "source": [
    "for route in fastapi_app.routes:\n",
    "    print(route.name, route.path)"
   ]
  },
  {
   "cell_type": "code",
   "execution_count": null,
   "metadata": {},
   "outputs": [],
   "source": []
  }
 ],
 "metadata": {
  "interpreter": {
   "hash": "befd363572f0a69d6b5d5179b97b7e1a54c5935c4f5338469720cbebddca079c"
  },
  "kernelspec": {
   "display_name": "Python 3.10.2 ('fd')",
   "language": "python",
   "name": "python3"
  },
  "language_info": {
   "codemirror_mode": {
    "name": "ipython",
    "version": 3
   },
   "file_extension": ".py",
   "mimetype": "text/x-python",
   "name": "python",
   "nbconvert_exporter": "python",
   "pygments_lexer": "ipython3",
   "version": "3.10.2"
  },
  "orig_nbformat": 4
 },
 "nbformat": 4,
 "nbformat_minor": 2
}
