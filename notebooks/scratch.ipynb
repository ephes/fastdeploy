{
 "cells": [
  {
   "cell_type": "code",
   "execution_count": 1,
   "id": "20198b03",
   "metadata": {},
   "outputs": [
    {
     "data": {
      "application/javascript": [
       "\n",
       "            setTimeout(function() {\n",
       "                var nbb_cell_id = 1;\n",
       "                var nbb_unformatted_code = \"%load_ext nb_black\";\n",
       "                var nbb_formatted_code = \"%load_ext nb_black\";\n",
       "                var nbb_cells = Jupyter.notebook.get_cells();\n",
       "                for (var i = 0; i < nbb_cells.length; ++i) {\n",
       "                    if (nbb_cells[i].input_prompt_number == nbb_cell_id) {\n",
       "                        if (nbb_cells[i].get_text() == nbb_unformatted_code) {\n",
       "                             nbb_cells[i].set_text(nbb_formatted_code);\n",
       "                        }\n",
       "                        break;\n",
       "                    }\n",
       "                }\n",
       "            }, 500);\n",
       "            "
      ],
      "text/plain": [
       "<IPython.core.display.Javascript object>"
      ]
     },
     "metadata": {},
     "output_type": "display_data"
    }
   ],
   "source": [
    "%load_ext nb_black"
   ]
  },
  {
   "cell_type": "code",
   "execution_count": 2,
   "id": "134cfbc3",
   "metadata": {},
   "outputs": [
    {
     "data": {
      "application/javascript": [
       "\n",
       "            setTimeout(function() {\n",
       "                var nbb_cell_id = 2;\n",
       "                var nbb_unformatted_code = \"import os\\n\\nfrom pathlib import Path\\nfrom app.config import settings\";\n",
       "                var nbb_formatted_code = \"import os\\n\\nfrom pathlib import Path\\nfrom app.config import settings\";\n",
       "                var nbb_cells = Jupyter.notebook.get_cells();\n",
       "                for (var i = 0; i < nbb_cells.length; ++i) {\n",
       "                    if (nbb_cells[i].input_prompt_number == nbb_cell_id) {\n",
       "                        if (nbb_cells[i].get_text() == nbb_unformatted_code) {\n",
       "                             nbb_cells[i].set_text(nbb_formatted_code);\n",
       "                        }\n",
       "                        break;\n",
       "                    }\n",
       "                }\n",
       "            }, 500);\n",
       "            "
      ],
      "text/plain": [
       "<IPython.core.display.Javascript object>"
      ]
     },
     "metadata": {},
     "output_type": "display_data"
    }
   ],
   "source": [
    "import os\n",
    "\n",
    "from app.config import settings"
   ]
  },
  {
   "cell_type": "code",
   "execution_count": 3,
   "id": "e138937b",
   "metadata": {},
   "outputs": [
    {
     "data": {
      "application/javascript": [
       "\n",
       "            setTimeout(function() {\n",
       "                var nbb_cell_id = 3;\n",
       "                var nbb_unformatted_code = \"os.chdir(settings.project_root)\";\n",
       "                var nbb_formatted_code = \"os.chdir(settings.project_root)\";\n",
       "                var nbb_cells = Jupyter.notebook.get_cells();\n",
       "                for (var i = 0; i < nbb_cells.length; ++i) {\n",
       "                    if (nbb_cells[i].input_prompt_number == nbb_cell_id) {\n",
       "                        if (nbb_cells[i].get_text() == nbb_unformatted_code) {\n",
       "                             nbb_cells[i].set_text(nbb_formatted_code);\n",
       "                        }\n",
       "                        break;\n",
       "                    }\n",
       "                }\n",
       "            }, 500);\n",
       "            "
      ],
      "text/plain": [
       "<IPython.core.display.Javascript object>"
      ]
     },
     "metadata": {},
     "output_type": "display_data"
    }
   ],
   "source": [
    "os.chdir(settings.project_root)"
   ]
  },
  {
   "cell_type": "code",
   "execution_count": 4,
   "id": "e9251e97",
   "metadata": {},
   "outputs": [
    {
     "data": {
      "application/javascript": [
       "\n",
       "            setTimeout(function() {\n",
       "                var nbb_cell_id = 4;\n",
       "                var nbb_unformatted_code = \"from app.main import app as fastapi_app\";\n",
       "                var nbb_formatted_code = \"from app.main import app as fastapi_app\";\n",
       "                var nbb_cells = Jupyter.notebook.get_cells();\n",
       "                for (var i = 0; i < nbb_cells.length; ++i) {\n",
       "                    if (nbb_cells[i].input_prompt_number == nbb_cell_id) {\n",
       "                        if (nbb_cells[i].get_text() == nbb_unformatted_code) {\n",
       "                             nbb_cells[i].set_text(nbb_formatted_code);\n",
       "                        }\n",
       "                        break;\n",
       "                    }\n",
       "                }\n",
       "            }, 500);\n",
       "            "
      ],
      "text/plain": [
       "<IPython.core.display.Javascript object>"
      ]
     },
     "metadata": {},
     "output_type": "display_data"
    }
   ],
   "source": [
    "from app.main import app as fastapi_app"
   ]
  },
  {
   "cell_type": "code",
   "execution_count": 5,
   "id": "e30d2c3f",
   "metadata": {},
   "outputs": [
    {
     "data": {
      "text/plain": [
       "'/steps/'"
      ]
     },
     "execution_count": 5,
     "metadata": {},
     "output_type": "execute_result"
    },
    {
     "data": {
      "application/javascript": [
       "\n",
       "            setTimeout(function() {\n",
       "                var nbb_cell_id = 5;\n",
       "                var nbb_unformatted_code = \"fastapi_app.url_path_for(\\\"create_step\\\")\";\n",
       "                var nbb_formatted_code = \"fastapi_app.url_path_for(\\\"create_step\\\")\";\n",
       "                var nbb_cells = Jupyter.notebook.get_cells();\n",
       "                for (var i = 0; i < nbb_cells.length; ++i) {\n",
       "                    if (nbb_cells[i].input_prompt_number == nbb_cell_id) {\n",
       "                        if (nbb_cells[i].get_text() == nbb_unformatted_code) {\n",
       "                             nbb_cells[i].set_text(nbb_formatted_code);\n",
       "                        }\n",
       "                        break;\n",
       "                    }\n",
       "                }\n",
       "            }, 500);\n",
       "            "
      ],
      "text/plain": [
       "<IPython.core.display.Javascript object>"
      ]
     },
     "metadata": {},
     "output_type": "display_data"
    }
   ],
   "source": [
    "fastapi_app.url_path_for(\"create_step\")"
   ]
  },
  {
   "cell_type": "code",
   "execution_count": 6,
   "id": "6fa5517e",
   "metadata": {},
   "outputs": [
    {
     "data": {
      "application/javascript": [
       "\n",
       "            setTimeout(function() {\n",
       "                var nbb_cell_id = 6;\n",
       "                var nbb_unformatted_code = \"from app.config import settings\";\n",
       "                var nbb_formatted_code = \"from app.config import settings\";\n",
       "                var nbb_cells = Jupyter.notebook.get_cells();\n",
       "                for (var i = 0; i < nbb_cells.length; ++i) {\n",
       "                    if (nbb_cells[i].input_prompt_number == nbb_cell_id) {\n",
       "                        if (nbb_cells[i].get_text() == nbb_unformatted_code) {\n",
       "                             nbb_cells[i].set_text(nbb_formatted_code);\n",
       "                        }\n",
       "                        break;\n",
       "                    }\n",
       "                }\n",
       "            }, 500);\n",
       "            "
      ],
      "text/plain": [
       "<IPython.core.display.Javascript object>"
      ]
     },
     "metadata": {},
     "output_type": "display_data"
    }
   ],
   "source": [
    "from app.config import settings"
   ]
  },
  {
   "cell_type": "code",
   "execution_count": 7,
   "id": "40170247",
   "metadata": {},
   "outputs": [
    {
     "data": {
      "text/plain": [
       "'http://localhost:8000/services/sync/'"
      ]
     },
     "execution_count": 7,
     "metadata": {},
     "output_type": "execute_result"
    },
    {
     "data": {
      "application/javascript": [
       "\n",
       "            setTimeout(function() {\n",
       "                var nbb_cell_id = 7;\n",
       "                var nbb_unformatted_code = \"settings.sync_services_url\";\n",
       "                var nbb_formatted_code = \"settings.sync_services_url\";\n",
       "                var nbb_cells = Jupyter.notebook.get_cells();\n",
       "                for (var i = 0; i < nbb_cells.length; ++i) {\n",
       "                    if (nbb_cells[i].input_prompt_number == nbb_cell_id) {\n",
       "                        if (nbb_cells[i].get_text() == nbb_unformatted_code) {\n",
       "                             nbb_cells[i].set_text(nbb_formatted_code);\n",
       "                        }\n",
       "                        break;\n",
       "                    }\n",
       "                }\n",
       "            }, 500);\n",
       "            "
      ],
      "text/plain": [
       "<IPython.core.display.Javascript object>"
      ]
     },
     "metadata": {},
     "output_type": "display_data"
    }
   ],
   "source": [
    "settings.sync_services_url"
   ]
  },
  {
   "cell_type": "code",
   "execution_count": 8,
   "id": "985177b0",
   "metadata": {},
   "outputs": [
    {
     "data": {
      "text/plain": [
       "'http://localhost:8000/steps/'"
      ]
     },
     "execution_count": 8,
     "metadata": {},
     "output_type": "execute_result"
    },
    {
     "data": {
      "application/javascript": [
       "\n",
       "            setTimeout(function() {\n",
       "                var nbb_cell_id = 8;\n",
       "                var nbb_unformatted_code = \"settings.steps_url\";\n",
       "                var nbb_formatted_code = \"settings.steps_url\";\n",
       "                var nbb_cells = Jupyter.notebook.get_cells();\n",
       "                for (var i = 0; i < nbb_cells.length; ++i) {\n",
       "                    if (nbb_cells[i].input_prompt_number == nbb_cell_id) {\n",
       "                        if (nbb_cells[i].get_text() == nbb_unformatted_code) {\n",
       "                             nbb_cells[i].set_text(nbb_formatted_code);\n",
       "                        }\n",
       "                        break;\n",
       "                    }\n",
       "                }\n",
       "            }, 500);\n",
       "            "
      ],
      "text/plain": [
       "<IPython.core.display.Javascript object>"
      ]
     },
     "metadata": {},
     "output_type": "display_data"
    }
   ],
   "source": [
    "settings.steps_url"
   ]
  },
  {
   "cell_type": "code",
   "execution_count": 7,
   "id": "fe676e25",
   "metadata": {},
   "outputs": [
    {
     "data": {
      "text/plain": [
       "'http://localhost:8000/deployments/finish/'"
      ]
     },
     "execution_count": 7,
     "metadata": {},
     "output_type": "execute_result"
    },
    {
     "data": {
      "application/javascript": [
       "\n",
       "            setTimeout(function() {\n",
       "                var nbb_cell_id = 7;\n",
       "                var nbb_unformatted_code = \"settings.deployment_finish_url\";\n",
       "                var nbb_formatted_code = \"settings.deployment_finish_url\";\n",
       "                var nbb_cells = Jupyter.notebook.get_cells();\n",
       "                for (var i = 0; i < nbb_cells.length; ++i) {\n",
       "                    if (nbb_cells[i].input_prompt_number == nbb_cell_id) {\n",
       "                        if (nbb_cells[i].get_text() == nbb_unformatted_code) {\n",
       "                             nbb_cells[i].set_text(nbb_formatted_code);\n",
       "                        }\n",
       "                        break;\n",
       "                    }\n",
       "                }\n",
       "            }, 500);\n",
       "            "
      ],
      "text/plain": [
       "<IPython.core.display.Javascript object>"
      ]
     },
     "metadata": {},
     "output_type": "display_data"
    }
   ],
   "source": [
    "settings.deployment_finish_url"
   ]
  },
  {
   "cell_type": "code",
   "execution_count": 4,
   "id": "6a4190ca",
   "metadata": {},
   "outputs": [
    {
     "data": {
      "text/plain": [
       "'http://localhost:8000/steps/'"
      ]
     },
     "execution_count": 4,
     "metadata": {},
     "output_type": "execute_result"
    },
    {
     "data": {
      "application/javascript": [
       "\n",
       "            setTimeout(function() {\n",
       "                var nbb_cell_id = 4;\n",
       "                var nbb_unformatted_code = \"settings.steps_url\";\n",
       "                var nbb_formatted_code = \"settings.steps_url\";\n",
       "                var nbb_cells = Jupyter.notebook.get_cells();\n",
       "                for (var i = 0; i < nbb_cells.length; ++i) {\n",
       "                    if (nbb_cells[i].input_prompt_number == nbb_cell_id) {\n",
       "                        if (nbb_cells[i].get_text() == nbb_unformatted_code) {\n",
       "                             nbb_cells[i].set_text(nbb_formatted_code);\n",
       "                        }\n",
       "                        break;\n",
       "                    }\n",
       "                }\n",
       "            }, 500);\n",
       "            "
      ],
      "text/plain": [
       "<IPython.core.display.Javascript object>"
      ]
     },
     "metadata": {},
     "output_type": "display_data"
    }
   ],
   "source": [
    "settings.steps_url"
   ]
  },
  {
   "cell_type": "code",
   "execution_count": 5,
   "id": "01eb3f96",
   "metadata": {},
   "outputs": [
    {
     "ename": "NameError",
     "evalue": "name 'fastapi_app' is not defined",
     "output_type": "error",
     "traceback": [
      "\u001b[0;31m---------------------------------------------------------------------------\u001b[0m",
      "\u001b[0;31mNameError\u001b[0m                                 Traceback (most recent call last)",
      "\u001b[0;32m/var/folders/dg/20nm141d3hj2hv67hjl6zmkc0000gn/T/ipykernel_90890/2188918048.py\u001b[0m in \u001b[0;36m<module>\u001b[0;34m\u001b[0m\n\u001b[0;32m----> 1\u001b[0;31m \u001b[0mfastapi_app\u001b[0m\u001b[0;34m.\u001b[0m\u001b[0murl_path_for\u001b[0m\u001b[0;34m(\u001b[0m\u001b[0;34m\"get_services\"\u001b[0m\u001b[0;34m)\u001b[0m\u001b[0;34m\u001b[0m\u001b[0;34m\u001b[0m\u001b[0m\n\u001b[0m",
      "\u001b[0;31mNameError\u001b[0m: name 'fastapi_app' is not defined"
     ]
    },
    {
     "data": {
      "application/javascript": [
       "\n",
       "            setTimeout(function() {\n",
       "                var nbb_cell_id = 5;\n",
       "                var nbb_unformatted_code = \"fastapi_app.url_path_for(\\\"get_services\\\")\";\n",
       "                var nbb_formatted_code = \"fastapi_app.url_path_for(\\\"get_services\\\")\";\n",
       "                var nbb_cells = Jupyter.notebook.get_cells();\n",
       "                for (var i = 0; i < nbb_cells.length; ++i) {\n",
       "                    if (nbb_cells[i].input_prompt_number == nbb_cell_id) {\n",
       "                        if (nbb_cells[i].get_text() == nbb_unformatted_code) {\n",
       "                             nbb_cells[i].set_text(nbb_formatted_code);\n",
       "                        }\n",
       "                        break;\n",
       "                    }\n",
       "                }\n",
       "            }, 500);\n",
       "            "
      ],
      "text/plain": [
       "<IPython.core.display.Javascript object>"
      ]
     },
     "metadata": {},
     "output_type": "display_data"
    }
   ],
   "source": [
    "fastapi_app.url_path_for(\"get_services\")"
   ]
  },
  {
   "cell_type": "code",
   "execution_count": 10,
   "id": "7f07cd42",
   "metadata": {},
   "outputs": [
    {
     "ename": "NameError",
     "evalue": "name 'false' is not defined",
     "output_type": "error",
     "traceback": [
      "\u001b[0;31m---------------------------------------------------------------------------\u001b[0m",
      "\u001b[0;31mNameError\u001b[0m                                 Traceback (most recent call last)",
      "\u001b[0;32m/var/folders/dg/20nm141d3hj2hv67hjl6zmkc0000gn/T/ipykernel_91885/4226855367.py\u001b[0m in \u001b[0;36m<module>\u001b[0;34m\u001b[0m\n\u001b[0;32m----> 1\u001b[0;31m \u001b[0;34m{\u001b[0m\u001b[0;34m\"position\"\u001b[0m\u001b[0;34m:\u001b[0m \u001b[0;36m1\u001b[0m\u001b[0;34m,\u001b[0m \u001b[0;34m\"start\"\u001b[0m\u001b[0;34m:\u001b[0m \u001b[0;34m\"2021-12-17T11:09:01.710565\"\u001b[0m\u001b[0;34m,\u001b[0m \u001b[0;34m\"end\"\u001b[0m\u001b[0;34m:\u001b[0m \u001b[0;34m\"2021-12-17T11:09:01.783364\"\u001b[0m\u001b[0;34m,\u001b[0m \u001b[0;34m\"name\"\u001b[0m\u001b[0;34m:\u001b[0m \u001b[0;34m\"Include secret vars\"\u001b[0m\u001b[0;34m,\u001b[0m \u001b[0;34m\"changed\"\u001b[0m\u001b[0;34m:\u001b[0m \u001b[0mfalse\u001b[0m\u001b[0;34m,\u001b[0m \u001b[0;34m\"state\"\u001b[0m\u001b[0;34m:\u001b[0m \u001b[0mnull\u001b[0m\u001b[0;34m,\u001b[0m \u001b[0;34m\"misc\"\u001b[0m\u001b[0;34m:\u001b[0m \u001b[0;34m{\u001b[0m\u001b[0;34m\"ansible_included_var_files\"\u001b[0m\u001b[0;34m:\u001b[0m \u001b[0;34m[\u001b[0m\u001b[0;34m\"/Users/jochen/projects/fastdeploy/ansible/secrets.yml\"\u001b[0m\u001b[0;34m]\u001b[0m\u001b[0;34m,\u001b[0m \u001b[0;34m\"ansible_facts\"\u001b[0m\u001b[0;34m:\u001b[0m \u001b[0;34m{\u001b[0m\u001b[0;34m\"fastdeploy_secret_key\"\u001b[0m\u001b[0;34m:\u001b[0m \u001b[0;34m\"a8cb71d2db22319a902009a2ad8aefeb99c71659c164cae2d628b4e0302a679d\"\u001b[0m\u001b[0;34m,\u001b[0m \u001b[0;34m\"initial_user_password_hash\"\u001b[0m\u001b[0;34m:\u001b[0m \u001b[0;34m\"$2b$12$d9XyUTTQLs00jFZTBL04U.Op/tjLhkk0As4ca9mZcLojfIBrKcM46\"\u001b[0m\u001b[0;34m,\u001b[0m \u001b[0;34m\"vault_password\"\u001b[0m\u001b[0;34m:\u001b[0m \u001b[0;34m\"AHaij9ohdie0AexaPhaa4phu\"\u001b[0m\u001b[0;34m}\u001b[0m\u001b[0;34m,\u001b[0m \u001b[0;34m\"_ansible_no_log\"\u001b[0m\u001b[0;34m:\u001b[0m \u001b[0mfalse\u001b[0m\u001b[0;34m,\u001b[0m \u001b[0;34m\"changed\"\u001b[0m\u001b[0;34m:\u001b[0m \u001b[0mfalse\u001b[0m\u001b[0;34m}\u001b[0m\u001b[0;34m}\u001b[0m\u001b[0;34m\u001b[0m\u001b[0;34m\u001b[0m\u001b[0m\n\u001b[0m",
      "\u001b[0;31mNameError\u001b[0m: name 'false' is not defined"
     ]
    },
    {
     "data": {
      "application/javascript": [
       "\n",
       "            setTimeout(function() {\n",
       "                var nbb_cell_id = 10;\n",
       "                var nbb_unformatted_code = \"{\\\"position\\\": 1, \\\"start\\\": \\\"2021-12-17T11:09:01.710565\\\", \\\"end\\\": \\\"2021-12-17T11:09:01.783364\\\", \\\"name\\\": \\\"Include secret vars\\\", \\\"changed\\\": false, \\\"state\\\": null, \\\"misc\\\": {\\\"ansible_included_var_files\\\": [\\\"/Users/jochen/projects/fastdeploy/ansible/secrets.yml\\\"], \\\"ansible_facts\\\": {\\\"fastdeploy_secret_key\\\": \\\"a8cb71d2db22319a902009a2ad8aefeb99c71659c164cae2d628b4e0302a679d\\\", \\\"initial_user_password_hash\\\": \\\"$2b$12$d9XyUTTQLs00jFZTBL04U.Op/tjLhkk0As4ca9mZcLojfIBrKcM46\\\", \\\"vault_password\\\": \\\"AHaij9ohdie0AexaPhaa4phu\\\"}, \\\"_ansible_no_log\\\": false, \\\"changed\\\": false}}\";\n",
       "                var nbb_formatted_code = \"{\\n    \\\"position\\\": 1,\\n    \\\"start\\\": \\\"2021-12-17T11:09:01.710565\\\",\\n    \\\"end\\\": \\\"2021-12-17T11:09:01.783364\\\",\\n    \\\"name\\\": \\\"Include secret vars\\\",\\n    \\\"changed\\\": false,\\n    \\\"state\\\": null,\\n    \\\"misc\\\": {\\n        \\\"ansible_included_var_files\\\": [\\n            \\\"/Users/jochen/projects/fastdeploy/ansible/secrets.yml\\\"\\n        ],\\n        \\\"ansible_facts\\\": {\\n            \\\"fastdeploy_secret_key\\\": \\\"a8cb71d2db22319a902009a2ad8aefeb99c71659c164cae2d628b4e0302a679d\\\",\\n            \\\"initial_user_password_hash\\\": \\\"$2b$12$d9XyUTTQLs00jFZTBL04U.Op/tjLhkk0As4ca9mZcLojfIBrKcM46\\\",\\n            \\\"vault_password\\\": \\\"AHaij9ohdie0AexaPhaa4phu\\\",\\n        },\\n        \\\"_ansible_no_log\\\": false,\\n        \\\"changed\\\": false,\\n    },\\n}\";\n",
       "                var nbb_cells = Jupyter.notebook.get_cells();\n",
       "                for (var i = 0; i < nbb_cells.length; ++i) {\n",
       "                    if (nbb_cells[i].input_prompt_number == nbb_cell_id) {\n",
       "                        if (nbb_cells[i].get_text() == nbb_unformatted_code) {\n",
       "                             nbb_cells[i].set_text(nbb_formatted_code);\n",
       "                        }\n",
       "                        break;\n",
       "                    }\n",
       "                }\n",
       "            }, 500);\n",
       "            "
      ],
      "text/plain": [
       "<IPython.core.display.Javascript object>"
      ]
     },
     "metadata": {},
     "output_type": "display_data"
    }
   ],
   "source": [
    "{\n",
    "    \"position\": 1,\n",
    "    \"start\": \"2021-12-17T11:09:01.710565\",\n",
    "    \"end\": \"2021-12-17T11:09:01.783364\",\n",
    "    \"name\": \"Include secret vars\",\n",
    "    \"changed\": false,\n",
    "    \"state\": null,\n",
    "    \"misc\": {\n",
    "        \"ansible_included_var_files\": [\"/Users/jochen/projects/fastdeploy/ansible/secrets.yml\"],\n",
    "        \"ansible_facts\": {\n",
    "            \"fastdeploy_secret_key\": \"a8cb71d2db22319a902009a2ad8aefeb99c71659c164cae2d628b4e0302a679d\",\n",
    "            \"initial_user_password_hash\": \"$2b$12$d9XyUTTQLs00jFZTBL04U.Op/tjLhkk0As4ca9mZcLojfIBrKcM46\",\n",
    "            \"vault_password\": \"AHaij9ohdie0AexaPhaa4phu\",\n",
    "        },\n",
    "        \"_ansible_no_log\": false,\n",
    "        \"changed\": false,\n",
    "    },\n",
    "}"
   ]
  },
  {
   "cell_type": "code",
   "execution_count": 9,
   "id": "4a3aeb45",
   "metadata": {},
   "outputs": [
    {
     "ename": "NameError",
     "evalue": "name 'false' is not defined",
     "output_type": "error",
     "traceback": [
      "\u001b[0;31m---------------------------------------------------------------------------\u001b[0m",
      "\u001b[0;31mNameError\u001b[0m                                 Traceback (most recent call last)",
      "\u001b[0;32m/var/folders/dg/20nm141d3hj2hv67hjl6zmkc0000gn/T/ipykernel_91885/2406132387.py\u001b[0m in \u001b[0;36m<module>\u001b[0;34m\u001b[0m\n\u001b[0;32m----> 1\u001b[0;31m \u001b[0;34m{\u001b[0m\u001b[0;34m\"position\"\u001b[0m\u001b[0;34m:\u001b[0m \u001b[0;36m2\u001b[0m\u001b[0;34m,\u001b[0m \u001b[0;34m\"start\"\u001b[0m\u001b[0;34m:\u001b[0m \u001b[0;34m\"2021-12-17T11:09:01.783364\"\u001b[0m\u001b[0;34m,\u001b[0m \u001b[0;34m\"end\"\u001b[0m\u001b[0;34m:\u001b[0m \u001b[0;34m\"2021-12-17T11:09:04.120432\"\u001b[0m\u001b[0;34m,\u001b[0m \u001b[0;34m\"name\"\u001b[0m\u001b[0;34m:\u001b[0m \u001b[0;34m\"Add nodejs signing key - do not download if present\"\u001b[0m\u001b[0;34m,\u001b[0m \u001b[0;34m\"changed\"\u001b[0m\u001b[0;34m:\u001b[0m \u001b[0mfalse\u001b[0m\u001b[0;34m,\u001b[0m \u001b[0;34m\"state\"\u001b[0m\u001b[0;34m:\u001b[0m \u001b[0mnull\u001b[0m\u001b[0;34m,\u001b[0m \u001b[0;34m\"misc\"\u001b[0m\u001b[0;34m:\u001b[0m \u001b[0;34m{\u001b[0m\u001b[0;34m\"id\"\u001b[0m\u001b[0;34m:\u001b[0m \u001b[0;34m\"9FD3B784BC1C6FC31A8A0A1C1655A0AB68576280A\"\u001b[0m\u001b[0;34m,\u001b[0m \u001b[0;34m\"msg\"\u001b[0m\u001b[0;34m:\u001b[0m \u001b[0;34m\"key does not seem to have been added\"\u001b[0m\u001b[0;34m,\u001b[0m \u001b[0;34m\"invocation\"\u001b[0m\u001b[0;34m:\u001b[0m \u001b[0;34m{\u001b[0m\u001b[0;34m\"module_args\"\u001b[0m\u001b[0;34m:\u001b[0m \u001b[0;34m{\u001b[0m\u001b[0;34m\"id\"\u001b[0m\u001b[0;34m:\u001b[0m \u001b[0;34m\"9FD3B784BC1C6FC31A8A0A1C1655A0AB68576280a\"\u001b[0m\u001b[0;34m,\u001b[0m \u001b[0;34m\"url\"\u001b[0m\u001b[0;34m:\u001b[0m \u001b[0;34m\"https://deb.nodesource.com/gpgkey/nodesource.gpg.key\"\u001b[0m\u001b[0;34m,\u001b[0m \u001b[0;34m\"state\"\u001b[0m\u001b[0;34m:\u001b[0m \u001b[0;34m\"present\"\u001b[0m\u001b[0;34m,\u001b[0m \u001b[0;34m\"validate_certs\"\u001b[0m\u001b[0;34m:\u001b[0m \u001b[0mtrue\u001b[0m\u001b[0;34m,\u001b[0m \u001b[0;34m\"data\"\u001b[0m\u001b[0;34m:\u001b[0m \u001b[0mnull\u001b[0m\u001b[0;34m,\u001b[0m \u001b[0;34m\"file\"\u001b[0m\u001b[0;34m:\u001b[0m \u001b[0mnull\u001b[0m\u001b[0;34m,\u001b[0m \u001b[0;34m\"key\"\u001b[0m\u001b[0;34m:\u001b[0m \u001b[0mnull\u001b[0m\u001b[0;34m,\u001b[0m \u001b[0;34m\"keyring\"\u001b[0m\u001b[0;34m:\u001b[0m \u001b[0mnull\u001b[0m\u001b[0;34m,\u001b[0m \u001b[0;34m\"keyserver\"\u001b[0m\u001b[0;34m:\u001b[0m \u001b[0mnull\u001b[0m\u001b[0;34m}\u001b[0m\u001b[0;34m}\u001b[0m\u001b[0;34m,\u001b[0m \u001b[0;34m\"_ansible_no_log\"\u001b[0m\u001b[0;34m:\u001b[0m \u001b[0mfalse\u001b[0m\u001b[0;34m,\u001b[0m \u001b[0;34m\"changed\"\u001b[0m\u001b[0;34m:\u001b[0m \u001b[0mfalse\u001b[0m\u001b[0;34m}\u001b[0m\u001b[0;34m}\u001b[0m\u001b[0;34m\u001b[0m\u001b[0;34m\u001b[0m\u001b[0m\n\u001b[0m",
      "\u001b[0;31mNameError\u001b[0m: name 'false' is not defined"
     ]
    },
    {
     "data": {
      "application/javascript": [
       "\n",
       "            setTimeout(function() {\n",
       "                var nbb_cell_id = 9;\n",
       "                var nbb_unformatted_code = \"{\\\"position\\\": 2, \\\"start\\\": \\\"2021-12-17T11:09:01.783364\\\", \\\"end\\\": \\\"2021-12-17T11:09:04.120432\\\", \\\"name\\\": \\\"Add nodejs signing key - do not download if present\\\", \\\"changed\\\": false, \\\"state\\\": null, \\\"misc\\\": {\\\"id\\\": \\\"9FD3B784BC1C6FC31A8A0A1C1655A0AB68576280A\\\", \\\"msg\\\": \\\"key does not seem to have been added\\\", \\\"invocation\\\": {\\\"module_args\\\": {\\\"id\\\": \\\"9FD3B784BC1C6FC31A8A0A1C1655A0AB68576280a\\\", \\\"url\\\": \\\"https://deb.nodesource.com/gpgkey/nodesource.gpg.key\\\", \\\"state\\\": \\\"present\\\", \\\"validate_certs\\\": true, \\\"data\\\": null, \\\"file\\\": null, \\\"key\\\": null, \\\"keyring\\\": null, \\\"keyserver\\\": null}}, \\\"_ansible_no_log\\\": false, \\\"changed\\\": false}}\";\n",
       "                var nbb_formatted_code = \"{\\n    \\\"position\\\": 2,\\n    \\\"start\\\": \\\"2021-12-17T11:09:01.783364\\\",\\n    \\\"end\\\": \\\"2021-12-17T11:09:04.120432\\\",\\n    \\\"name\\\": \\\"Add nodejs signing key - do not download if present\\\",\\n    \\\"changed\\\": false,\\n    \\\"state\\\": null,\\n    \\\"misc\\\": {\\n        \\\"id\\\": \\\"9FD3B784BC1C6FC31A8A0A1C1655A0AB68576280A\\\",\\n        \\\"msg\\\": \\\"key does not seem to have been added\\\",\\n        \\\"invocation\\\": {\\n            \\\"module_args\\\": {\\n                \\\"id\\\": \\\"9FD3B784BC1C6FC31A8A0A1C1655A0AB68576280a\\\",\\n                \\\"url\\\": \\\"https://deb.nodesource.com/gpgkey/nodesource.gpg.key\\\",\\n                \\\"state\\\": \\\"present\\\",\\n                \\\"validate_certs\\\": true,\\n                \\\"data\\\": null,\\n                \\\"file\\\": null,\\n                \\\"key\\\": null,\\n                \\\"keyring\\\": null,\\n                \\\"keyserver\\\": null,\\n            }\\n        },\\n        \\\"_ansible_no_log\\\": false,\\n        \\\"changed\\\": false,\\n    },\\n}\";\n",
       "                var nbb_cells = Jupyter.notebook.get_cells();\n",
       "                for (var i = 0; i < nbb_cells.length; ++i) {\n",
       "                    if (nbb_cells[i].input_prompt_number == nbb_cell_id) {\n",
       "                        if (nbb_cells[i].get_text() == nbb_unformatted_code) {\n",
       "                             nbb_cells[i].set_text(nbb_formatted_code);\n",
       "                        }\n",
       "                        break;\n",
       "                    }\n",
       "                }\n",
       "            }, 500);\n",
       "            "
      ],
      "text/plain": [
       "<IPython.core.display.Javascript object>"
      ]
     },
     "metadata": {},
     "output_type": "display_data"
    }
   ],
   "source": [
    "{\n",
    "    \"position\": 2,\n",
    "    \"start\": \"2021-12-17T11:09:01.783364\",\n",
    "    \"end\": \"2021-12-17T11:09:04.120432\",\n",
    "    \"name\": \"Add nodejs signing key - do not download if present\",\n",
    "    \"changed\": false,\n",
    "    \"state\": null,\n",
    "    \"misc\": {\n",
    "        \"id\": \"9FD3B784BC1C6FC31A8A0A1C1655A0AB68576280A\",\n",
    "        \"msg\": \"key does not seem to have been added\",\n",
    "        \"invocation\": {\n",
    "            \"module_args\": {\n",
    "                \"id\": \"9FD3B784BC1C6FC31A8A0A1C1655A0AB68576280a\",\n",
    "                \"url\": \"https://deb.nodesource.com/gpgkey/nodesource.gpg.key\",\n",
    "                \"state\": \"present\",\n",
    "                \"validate_certs\": true,\n",
    "                \"data\": null,\n",
    "                \"file\": null,\n",
    "                \"key\": null,\n",
    "                \"keyring\": null,\n",
    "                \"keyserver\": null,\n",
    "            }\n",
    "        },\n",
    "        \"_ansible_no_log\": false,\n",
    "        \"changed\": false,\n",
    "    },\n",
    "}"
   ]
  },
  {
   "cell_type": "code",
   "execution_count": null,
   "id": "9aabdeca",
   "metadata": {},
   "outputs": [],
   "source": []
  }
 ],
 "metadata": {
  "kernelspec": {
   "display_name": "Python 3 (ipykernel)",
   "language": "python",
   "name": "python3"
  },
  "language_info": {
   "codemirror_mode": {
    "name": "ipython",
    "version": 3
   },
   "file_extension": ".py",
   "mimetype": "text/x-python",
   "name": "python",
   "nbconvert_exporter": "python",
   "pygments_lexer": "ipython3",
   "version": "3.10.1"
  }
 },
 "nbformat": 4,
 "nbformat_minor": 5
}
