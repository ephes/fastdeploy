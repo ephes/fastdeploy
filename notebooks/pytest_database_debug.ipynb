{
 "cells": [
  {
   "cell_type": "code",
   "execution_count": 8,
   "id": "b04fef0b",
   "metadata": {},
   "outputs": [],
   "source": [
    "from app.auth import get_password_hash\n",
    "from app.config import settings\n",
    "from app.models import User, create_database\n",
    "from sqlmodel import select"
   ]
  },
  {
   "cell_type": "code",
   "execution_count": 9,
   "id": "f34d893d",
   "metadata": {},
   "outputs": [
    {
     "name": "stdout",
     "output_type": "stream",
     "text": [
      "database url:  sqlite:///databases/sqlite.db\n"
     ]
    }
   ],
   "source": [
    "create_database()"
   ]
  },
  {
   "cell_type": "code",
   "execution_count": 4,
   "id": "99aee5bc",
   "metadata": {},
   "outputs": [
    {
     "name": "stdout",
     "output_type": "stream",
     "text": [
      "id=None name='user' password='$2b$12$yz7sEAgJWuQjpBlGX5fPz.APRlfPIGleLTEgg6ywjM7rGphTLsLsm' is_active=True\n"
     ]
    }
   ],
   "source": [
    "user = User(name=\"user\", password=get_password_hash(\"password\"), is_active=True)\n",
    "print(user)"
   ]
  },
  {
   "cell_type": "code",
   "execution_count": 13,
   "id": "fca766a4",
   "metadata": {},
   "outputs": [],
   "source": [
    "# with settings.db_engine.begin() as conn:\n",
    "#     savepoint = conn.begin_nested()\n",
    "#     # stmt = \"\"\"insert into user (name, password, is_active) values (?, ?, ?)\"\"\"\n",
    "#     # conn.execute(stmt, [(\"foo\", \"bar\", False)])\n",
    "#     savepoint.add(user)"
   ]
  },
  {
   "cell_type": "code",
   "execution_count": 16,
   "id": "6091ed3f",
   "metadata": {},
   "outputs": [],
   "source": [
    "nested = settings.session.begin_nested()\n",
    "settings.session.add(user)"
   ]
  },
  {
   "cell_type": "code",
   "execution_count": 18,
   "id": "cc2d17a1",
   "metadata": {},
   "outputs": [
    {
     "name": "stdout",
     "output_type": "stream",
     "text": [
      "id=1 name='user' password='$2b$12$yz7sEAgJWuQjpBlGX5fPz.APRlfPIGleLTEgg6ywjM7rGphTLsLsm' is_active=True\n"
     ]
    }
   ],
   "source": [
    "statement = select(User).where(User.name == \"user\")\n",
    "results = settings.session.exec(statement)\n",
    "print(results.first())"
   ]
  },
  {
   "cell_type": "code",
   "execution_count": null,
   "id": "6c5f9915",
   "metadata": {},
   "outputs": [],
   "source": []
  }
 ],
 "metadata": {
  "kernelspec": {
   "display_name": "Python 3 (ipykernel)",
   "language": "python",
   "name": "python3"
  },
  "language_info": {
   "codemirror_mode": {
    "name": "ipython",
    "version": 3
   },
   "file_extension": ".py",
   "mimetype": "text/x-python",
   "name": "python",
   "nbconvert_exporter": "python",
   "pygments_lexer": "ipython3",
   "version": "3.10.0"
  }
 },
 "nbformat": 4,
 "nbformat_minor": 5
}
