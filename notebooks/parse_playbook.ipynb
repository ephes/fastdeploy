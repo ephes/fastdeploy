{
 "cells": [
  {
   "cell_type": "code",
   "execution_count": 1,
   "id": "bcadb218",
   "metadata": {},
   "outputs": [
    {
     "data": {
      "application/javascript": [
       "\n",
       "            setTimeout(function() {\n",
       "                var nbb_cell_id = 1;\n",
       "                var nbb_unformatted_code = \"%load_ext nb_black\";\n",
       "                var nbb_formatted_code = \"%load_ext nb_black\";\n",
       "                var nbb_cells = Jupyter.notebook.get_cells();\n",
       "                for (var i = 0; i < nbb_cells.length; ++i) {\n",
       "                    if (nbb_cells[i].input_prompt_number == nbb_cell_id) {\n",
       "                        if (nbb_cells[i].get_text() == nbb_unformatted_code) {\n",
       "                             nbb_cells[i].set_text(nbb_formatted_code);\n",
       "                        }\n",
       "                        break;\n",
       "                    }\n",
       "                }\n",
       "            }, 500);\n",
       "            "
      ],
      "text/plain": [
       "<IPython.core.display.Javascript object>"
      ]
     },
     "metadata": {},
     "output_type": "display_data"
    }
   ],
   "source": [
    "%load_ext nb_black"
   ]
  },
  {
   "cell_type": "code",
   "execution_count": 3,
   "id": "07bde9c2",
   "metadata": {},
   "outputs": [
    {
     "data": {
      "application/javascript": [
       "\n",
       "            setTimeout(function() {\n",
       "                var nbb_cell_id = 3;\n",
       "                var nbb_unformatted_code = \"import yaml\\n\\nfrom pathlib import Path\";\n",
       "                var nbb_formatted_code = \"import yaml\\n\\nfrom pathlib import Path\";\n",
       "                var nbb_cells = Jupyter.notebook.get_cells();\n",
       "                for (var i = 0; i < nbb_cells.length; ++i) {\n",
       "                    if (nbb_cells[i].input_prompt_number == nbb_cell_id) {\n",
       "                        if (nbb_cells[i].get_text() == nbb_unformatted_code) {\n",
       "                             nbb_cells[i].set_text(nbb_formatted_code);\n",
       "                        }\n",
       "                        break;\n",
       "                    }\n",
       "                }\n",
       "            }, 500);\n",
       "            "
      ],
      "text/plain": [
       "<IPython.core.display.Javascript object>"
      ]
     },
     "metadata": {},
     "output_type": "display_data"
    }
   ],
   "source": [
    "from pathlib import Path\n",
    "\n",
    "import yaml"
   ]
  },
  {
   "cell_type": "code",
   "execution_count": 5,
   "id": "1fae495e",
   "metadata": {},
   "outputs": [
    {
     "data": {
      "application/javascript": [
       "\n",
       "            setTimeout(function() {\n",
       "                var nbb_cell_id = 5;\n",
       "                var nbb_unformatted_code = \"playbook_path = Path(\\\"../ansible/deploy.yml\\\")\";\n",
       "                var nbb_formatted_code = \"playbook_path = Path(\\\"../ansible/deploy.yml\\\")\";\n",
       "                var nbb_cells = Jupyter.notebook.get_cells();\n",
       "                for (var i = 0; i < nbb_cells.length; ++i) {\n",
       "                    if (nbb_cells[i].input_prompt_number == nbb_cell_id) {\n",
       "                        if (nbb_cells[i].get_text() == nbb_unformatted_code) {\n",
       "                             nbb_cells[i].set_text(nbb_formatted_code);\n",
       "                        }\n",
       "                        break;\n",
       "                    }\n",
       "                }\n",
       "            }, 500);\n",
       "            "
      ],
      "text/plain": [
       "<IPython.core.display.Javascript object>"
      ]
     },
     "metadata": {},
     "output_type": "display_data"
    }
   ],
   "source": [
    "playbook_path = Path(\"../ansible/deploy.yml\")"
   ]
  },
  {
   "cell_type": "code",
   "execution_count": 7,
   "id": "b779c201",
   "metadata": {},
   "outputs": [
    {
     "data": {
      "application/javascript": [
       "\n",
       "            setTimeout(function() {\n",
       "                var nbb_cell_id = 7;\n",
       "                var nbb_unformatted_code = \"with playbook_path.open(\\\"r\\\") as f:\\n    parsed = yaml.safe_load(f)\";\n",
       "                var nbb_formatted_code = \"with playbook_path.open(\\\"r\\\") as f:\\n    parsed = yaml.safe_load(f)\";\n",
       "                var nbb_cells = Jupyter.notebook.get_cells();\n",
       "                for (var i = 0; i < nbb_cells.length; ++i) {\n",
       "                    if (nbb_cells[i].input_prompt_number == nbb_cell_id) {\n",
       "                        if (nbb_cells[i].get_text() == nbb_unformatted_code) {\n",
       "                             nbb_cells[i].set_text(nbb_formatted_code);\n",
       "                        }\n",
       "                        break;\n",
       "                    }\n",
       "                }\n",
       "            }, 500);\n",
       "            "
      ],
      "text/plain": [
       "<IPython.core.display.Javascript object>"
      ]
     },
     "metadata": {},
     "output_type": "display_data"
    }
   ],
   "source": [
    "with playbook_path.open(\"r\") as f:\n",
    "    parsed = yaml.safe_load(f)"
   ]
  },
  {
   "cell_type": "code",
   "execution_count": 11,
   "id": "a5f363fc",
   "metadata": {},
   "outputs": [
    {
     "data": {
      "text/plain": [
       "[{'include_vars': 'secrets.yml'},\n",
       " {'name': 'Install required build packages (git,)', 'apt': {'name': ['git']}},\n",
       " {'name': 'Add the user \"{{ username }}\" with a bash shell',\n",
       "  'user': {'name': '{{ username }}', 'shell': '/bin/bash'}},\n",
       " {'name': 'Git checkout repository',\n",
       "  'git': {'repo': 'https://github.com/ephes/fastdeploy',\n",
       "   'dest': '{{ site_path }}'},\n",
       "  'become': True,\n",
       "  'become_user': '{{ username }}'},\n",
       " {'name': 'Create .env file',\n",
       "  'template': {'src': 'env.template.j2',\n",
       "   'dest': '{{ site_path }}/.env',\n",
       "   'mode': '0600'},\n",
       "  'become': True,\n",
       "  'become_user': '{{ username }}'},\n",
       " {'name': 'Create virtualenv for python',\n",
       "  'shell': '{{ global_python }} -m venv {{ site_path }}/venv',\n",
       "  'become': True,\n",
       "  'become_user': '{{ username }}'},\n",
       " {'name': 'Upgrade pip',\n",
       "  'shell': '{{ python }} -m pip install --upgrade pip',\n",
       "  'become': True,\n",
       "  'become_user': '{{ username }}'},\n",
       " {'name': 'Install pip-tools',\n",
       "  'shell': '{{ python }} -m pip install pip-tools',\n",
       "  'become': True,\n",
       "  'become_user': '{{ username }}'},\n",
       " {'name': 'Install app production requirements',\n",
       "  'shell': '{{ pip_sync }} app/requirements/production.txt',\n",
       "  'args': {'chdir': '{{ site_path }}'},\n",
       "  'become': True,\n",
       "  'become_user': '{{ username }}'},\n",
       " {'name': 'Create a symbolic link for uvicorn systemd service',\n",
       "  'file': {'src': '{{ site_path }}/ansible/deploy.service',\n",
       "   'dest': '/etc/systemd/system/deploy.service',\n",
       "   'state': 'link'}},\n",
       " {'name': 'Make sure deploy uvicorn service is running',\n",
       "  'systemd': {'state': 'restarted', 'name': '{{ username }}'}},\n",
       " {'name': 'Create a symbolic link for traefik loadbalancer',\n",
       "  'file': {'src': '{{ site_path }}/ansible/deploy.traefik.yml',\n",
       "   'dest': '/etc/traefik/dynamic/deploy.traefik.yml',\n",
       "   'state': 'link'}}]"
      ]
     },
     "execution_count": 11,
     "metadata": {},
     "output_type": "execute_result"
    },
    {
     "data": {
      "application/javascript": [
       "\n",
       "            setTimeout(function() {\n",
       "                var nbb_cell_id = 11;\n",
       "                var nbb_unformatted_code = \"parsed[0][\\\"tasks\\\"]\";\n",
       "                var nbb_formatted_code = \"parsed[0][\\\"tasks\\\"]\";\n",
       "                var nbb_cells = Jupyter.notebook.get_cells();\n",
       "                for (var i = 0; i < nbb_cells.length; ++i) {\n",
       "                    if (nbb_cells[i].input_prompt_number == nbb_cell_id) {\n",
       "                        if (nbb_cells[i].get_text() == nbb_unformatted_code) {\n",
       "                             nbb_cells[i].set_text(nbb_formatted_code);\n",
       "                        }\n",
       "                        break;\n",
       "                    }\n",
       "                }\n",
       "            }, 500);\n",
       "            "
      ],
      "text/plain": [
       "<IPython.core.display.Javascript object>"
      ]
     },
     "metadata": {},
     "output_type": "display_data"
    }
   ],
   "source": [
    "parsed[0][\"tasks\"]"
   ]
  },
  {
   "cell_type": "code",
   "execution_count": null,
   "id": "089d5e3d",
   "metadata": {},
   "outputs": [],
   "source": []
  }
 ],
 "metadata": {
  "kernelspec": {
   "display_name": "Python 3 (ipykernel)",
   "language": "python",
   "name": "python3"
  },
  "language_info": {
   "codemirror_mode": {
    "name": "ipython",
    "version": 3
   },
   "file_extension": ".py",
   "mimetype": "text/x-python",
   "name": "python",
   "nbconvert_exporter": "python",
   "pygments_lexer": "ipython3",
   "version": "3.10.0"
  }
 },
 "nbformat": 4,
 "nbformat_minor": 5
}
